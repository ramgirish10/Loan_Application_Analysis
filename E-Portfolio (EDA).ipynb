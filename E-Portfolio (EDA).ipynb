{
 "cells": [
  {
   "cell_type": "code",
   "execution_count": 272,
   "id": "a4d4ee5d-5d81-40b1-95d9-bc098086e6bc",
   "metadata": {},
   "outputs": [
    {
     "data": {
      "text/html": [
       "<style>\n",
       "        .bk-notebook-logo {\n",
       "            display: block;\n",
       "            width: 20px;\n",
       "            height: 20px;\n",
       "            background-image: url(data:image/png;base64,iVBORw0KGgoAAAANSUhEUgAAABQAAAAUCAYAAACNiR0NAAAABHNCSVQICAgIfAhkiAAAAAlwSFlzAAALEgAACxIB0t1+/AAAABx0RVh0U29mdHdhcmUAQWRvYmUgRmlyZXdvcmtzIENTNui8sowAAAOkSURBVDiNjZRtaJVlGMd/1/08zzln5zjP1LWcU9N0NkN8m2CYjpgQYQXqSs0I84OLIC0hkEKoPtiH3gmKoiJDU7QpLgoLjLIQCpEsNJ1vqUOdO7ppbuec5+V+rj4ctwzd8IIbbi6u+8f1539dt3A78eXC7QizUF7gyV1fD1Yqg4JWz84yffhm0qkFqBogB9rM8tZdtwVsPUhWhGcFJngGeWrPzHm5oaMmkfEg1usvLFyc8jLRqDOMru7AyC8saQr7GG7f5fvDeH7Ej8CM66nIF+8yngt6HWaKh7k49Soy9nXurCi1o3qUbS3zWfrYeQDTB/Qj6kX6Ybhw4B+bOYoLKCC9H3Nu/leUTZ1JdRWkkn2ldcCamzrcf47KKXdAJllSlxAOkRgyHsGC/zRday5Qld9DyoM4/q/rUoy/CXh3jzOu3bHUVZeU+DEn8FInkPBFlu3+nW3Nw0mk6vCDiWg8CeJaxEwuHS3+z5RgY+YBR6V1Z1nxSOfoaPa4LASWxxdNp+VWTk7+4vzaou8v8PN+xo+KY2xsw6une2frhw05CTYOmQvsEhjhWjn0bmXPjpE1+kplmmkP3suftwTubK9Vq22qKmrBhpY4jvd5afdRA3wGjFAgcnTK2s4hY0/GPNIb0nErGMCRxWOOX64Z8RAC4oCXdklmEvcL8o0BfkNK4lUg9HTl+oPlQxdNo3Mg4Nv175e/1LDGzZen30MEjRUtmXSfiTVu1kK8W4txyV6BMKlbgk3lMwYCiusNy9fVfvvwMxv8Ynl6vxoByANLTWplvuj/nF9m2+PDtt1eiHPBr1oIfhCChQMBw6Aw0UulqTKZdfVvfG7VcfIqLG9bcldL/+pdWTLxLUy8Qq38heUIjh4XlzZxzQm19lLFlr8vdQ97rjZVOLf8nclzckbcD4wxXMidpX30sFd37Fv/GtwwhzhxGVAprjbg0gCAEeIgwCZyTV2Z1REEW8O4py0wsjeloKoMr6iCY6dP92H6Vw/oTyICIthibxjm/DfN9lVz8IqtqKYLUXfoKVMVQVVJOElGjrnnUt9T9wbgp8AyYKaGlqingHZU/uG2NTZSVqwHQTWkx9hxjkpWDaCg6Ckj5qebgBVbT3V3NNXMSiWSDdGV3hrtzla7J+duwPOToIg42ChPQOQjspnSlp1V+Gjdged7+8UN5CRAV7a5EdFNwCjEaBR27b3W890TE7g24NAP/mMDXRWrGoFPQI9ls/MWO2dWFAar/xcOIImbbpA3zgAAAABJRU5ErkJggg==);\n",
       "        }\n",
       "    </style>\n",
       "    <div>\n",
       "        <a href=\"https://bokeh.org\" target=\"_blank\" class=\"bk-notebook-logo\"></a>\n",
       "        <span id=\"fe308480-d26f-4e3b-8602-02d55f94358d\">Loading BokehJS ...</span>\n",
       "    </div>\n"
      ]
     },
     "metadata": {},
     "output_type": "display_data"
    },
    {
     "data": {
      "application/javascript": [
       "(function(root) {\n",
       "  function now() {\n",
       "    return new Date();\n",
       "  }\n",
       "\n",
       "  const force = true;\n",
       "\n",
       "  if (typeof root._bokeh_onload_callbacks === \"undefined\" || force === true) {\n",
       "    root._bokeh_onload_callbacks = [];\n",
       "    root._bokeh_is_loading = undefined;\n",
       "  }\n",
       "\n",
       "const JS_MIME_TYPE = 'application/javascript';\n",
       "  const HTML_MIME_TYPE = 'text/html';\n",
       "  const EXEC_MIME_TYPE = 'application/vnd.bokehjs_exec.v0+json';\n",
       "  const CLASS_NAME = 'output_bokeh rendered_html';\n",
       "\n",
       "  /**\n",
       "   * Render data to the DOM node\n",
       "   */\n",
       "  function render(props, node) {\n",
       "    const script = document.createElement(\"script\");\n",
       "    node.appendChild(script);\n",
       "  }\n",
       "\n",
       "  /**\n",
       "   * Handle when an output is cleared or removed\n",
       "   */\n",
       "  function handleClearOutput(event, handle) {\n",
       "    function drop(id) {\n",
       "      const view = Bokeh.index.get_by_id(id)\n",
       "      if (view != null) {\n",
       "        view.model.document.clear()\n",
       "        Bokeh.index.delete(view)\n",
       "      }\n",
       "    }\n",
       "\n",
       "    const cell = handle.cell;\n",
       "\n",
       "    const id = cell.output_area._bokeh_element_id;\n",
       "    const server_id = cell.output_area._bokeh_server_id;\n",
       "\n",
       "    // Clean up Bokeh references\n",
       "    if (id != null) {\n",
       "      drop(id)\n",
       "    }\n",
       "\n",
       "    if (server_id !== undefined) {\n",
       "      // Clean up Bokeh references\n",
       "      const cmd_clean = \"from bokeh.io.state import curstate; print(curstate().uuid_to_server['\" + server_id + \"'].get_sessions()[0].document.roots[0]._id)\";\n",
       "      cell.notebook.kernel.execute(cmd_clean, {\n",
       "        iopub: {\n",
       "          output: function(msg) {\n",
       "            const id = msg.content.text.trim()\n",
       "            drop(id)\n",
       "          }\n",
       "        }\n",
       "      });\n",
       "      // Destroy server and session\n",
       "      const cmd_destroy = \"import bokeh.io.notebook as ion; ion.destroy_server('\" + server_id + \"')\";\n",
       "      cell.notebook.kernel.execute(cmd_destroy);\n",
       "    }\n",
       "  }\n",
       "\n",
       "  /**\n",
       "   * Handle when a new output is added\n",
       "   */\n",
       "  function handleAddOutput(event, handle) {\n",
       "    const output_area = handle.output_area;\n",
       "    const output = handle.output;\n",
       "\n",
       "    // limit handleAddOutput to display_data with EXEC_MIME_TYPE content only\n",
       "    if ((output.output_type != \"display_data\") || (!Object.prototype.hasOwnProperty.call(output.data, EXEC_MIME_TYPE))) {\n",
       "      return\n",
       "    }\n",
       "\n",
       "    const toinsert = output_area.element.find(\".\" + CLASS_NAME.split(' ')[0]);\n",
       "\n",
       "    if (output.metadata[EXEC_MIME_TYPE][\"id\"] !== undefined) {\n",
       "      toinsert[toinsert.length - 1].firstChild.textContent = output.data[JS_MIME_TYPE];\n",
       "      // store reference to embed id on output_area\n",
       "      output_area._bokeh_element_id = output.metadata[EXEC_MIME_TYPE][\"id\"];\n",
       "    }\n",
       "    if (output.metadata[EXEC_MIME_TYPE][\"server_id\"] !== undefined) {\n",
       "      const bk_div = document.createElement(\"div\");\n",
       "      bk_div.innerHTML = output.data[HTML_MIME_TYPE];\n",
       "      const script_attrs = bk_div.children[0].attributes;\n",
       "      for (let i = 0; i < script_attrs.length; i++) {\n",
       "        toinsert[toinsert.length - 1].firstChild.setAttribute(script_attrs[i].name, script_attrs[i].value);\n",
       "        toinsert[toinsert.length - 1].firstChild.textContent = bk_div.children[0].textContent\n",
       "      }\n",
       "      // store reference to server id on output_area\n",
       "      output_area._bokeh_server_id = output.metadata[EXEC_MIME_TYPE][\"server_id\"];\n",
       "    }\n",
       "  }\n",
       "\n",
       "  function register_renderer(events, OutputArea) {\n",
       "\n",
       "    function append_mime(data, metadata, element) {\n",
       "      // create a DOM node to render to\n",
       "      const toinsert = this.create_output_subarea(\n",
       "        metadata,\n",
       "        CLASS_NAME,\n",
       "        EXEC_MIME_TYPE\n",
       "      );\n",
       "      this.keyboard_manager.register_events(toinsert);\n",
       "      // Render to node\n",
       "      const props = {data: data, metadata: metadata[EXEC_MIME_TYPE]};\n",
       "      render(props, toinsert[toinsert.length - 1]);\n",
       "      element.append(toinsert);\n",
       "      return toinsert\n",
       "    }\n",
       "\n",
       "    /* Handle when an output is cleared or removed */\n",
       "    events.on('clear_output.CodeCell', handleClearOutput);\n",
       "    events.on('delete.Cell', handleClearOutput);\n",
       "\n",
       "    /* Handle when a new output is added */\n",
       "    events.on('output_added.OutputArea', handleAddOutput);\n",
       "\n",
       "    /**\n",
       "     * Register the mime type and append_mime function with output_area\n",
       "     */\n",
       "    OutputArea.prototype.register_mime_type(EXEC_MIME_TYPE, append_mime, {\n",
       "      /* Is output safe? */\n",
       "      safe: true,\n",
       "      /* Index of renderer in `output_area.display_order` */\n",
       "      index: 0\n",
       "    });\n",
       "  }\n",
       "\n",
       "  // register the mime type if in Jupyter Notebook environment and previously unregistered\n",
       "  if (root.Jupyter !== undefined) {\n",
       "    const events = require('base/js/events');\n",
       "    const OutputArea = require('notebook/js/outputarea').OutputArea;\n",
       "\n",
       "    if (OutputArea.prototype.mime_types().indexOf(EXEC_MIME_TYPE) == -1) {\n",
       "      register_renderer(events, OutputArea);\n",
       "    }\n",
       "  }\n",
       "  if (typeof (root._bokeh_timeout) === \"undefined\" || force === true) {\n",
       "    root._bokeh_timeout = Date.now() + 5000;\n",
       "    root._bokeh_failed_load = false;\n",
       "  }\n",
       "\n",
       "  const NB_LOAD_WARNING = {'data': {'text/html':\n",
       "     \"<div style='background-color: #fdd'>\\n\"+\n",
       "     \"<p>\\n\"+\n",
       "     \"BokehJS does not appear to have successfully loaded. If loading BokehJS from CDN, this \\n\"+\n",
       "     \"may be due to a slow or bad network connection. Possible fixes:\\n\"+\n",
       "     \"</p>\\n\"+\n",
       "     \"<ul>\\n\"+\n",
       "     \"<li>re-rerun `output_notebook()` to attempt to load from CDN again, or</li>\\n\"+\n",
       "     \"<li>use INLINE resources instead, as so:</li>\\n\"+\n",
       "     \"</ul>\\n\"+\n",
       "     \"<code>\\n\"+\n",
       "     \"from bokeh.resources import INLINE\\n\"+\n",
       "     \"output_notebook(resources=INLINE)\\n\"+\n",
       "     \"</code>\\n\"+\n",
       "     \"</div>\"}};\n",
       "\n",
       "  function display_loaded() {\n",
       "    const el = document.getElementById(\"fe308480-d26f-4e3b-8602-02d55f94358d\");\n",
       "    if (el != null) {\n",
       "      el.textContent = \"BokehJS is loading...\";\n",
       "    }\n",
       "    if (root.Bokeh !== undefined) {\n",
       "      if (el != null) {\n",
       "        el.textContent = \"BokehJS \" + root.Bokeh.version + \" successfully loaded.\";\n",
       "      }\n",
       "    } else if (Date.now() < root._bokeh_timeout) {\n",
       "      setTimeout(display_loaded, 100)\n",
       "    }\n",
       "  }\n",
       "\n",
       "  function run_callbacks() {\n",
       "    try {\n",
       "      root._bokeh_onload_callbacks.forEach(function(callback) {\n",
       "        if (callback != null)\n",
       "          callback();\n",
       "      });\n",
       "    } finally {\n",
       "      delete root._bokeh_onload_callbacks\n",
       "    }\n",
       "    console.debug(\"Bokeh: all callbacks have finished\");\n",
       "  }\n",
       "\n",
       "  function load_libs(css_urls, js_urls, callback) {\n",
       "    if (css_urls == null) css_urls = [];\n",
       "    if (js_urls == null) js_urls = [];\n",
       "\n",
       "    root._bokeh_onload_callbacks.push(callback);\n",
       "    if (root._bokeh_is_loading > 0) {\n",
       "      console.debug(\"Bokeh: BokehJS is being loaded, scheduling callback at\", now());\n",
       "      return null;\n",
       "    }\n",
       "    if (js_urls == null || js_urls.length === 0) {\n",
       "      run_callbacks();\n",
       "      return null;\n",
       "    }\n",
       "    console.debug(\"Bokeh: BokehJS not loaded, scheduling load and callback at\", now());\n",
       "    root._bokeh_is_loading = css_urls.length + js_urls.length;\n",
       "\n",
       "    function on_load() {\n",
       "      root._bokeh_is_loading--;\n",
       "      if (root._bokeh_is_loading === 0) {\n",
       "        console.debug(\"Bokeh: all BokehJS libraries/stylesheets loaded\");\n",
       "        run_callbacks()\n",
       "      }\n",
       "    }\n",
       "\n",
       "    function on_error(url) {\n",
       "      console.error(\"failed to load \" + url);\n",
       "    }\n",
       "\n",
       "    for (let i = 0; i < css_urls.length; i++) {\n",
       "      const url = css_urls[i];\n",
       "      const element = document.createElement(\"link\");\n",
       "      element.onload = on_load;\n",
       "      element.onerror = on_error.bind(null, url);\n",
       "      element.rel = \"stylesheet\";\n",
       "      element.type = \"text/css\";\n",
       "      element.href = url;\n",
       "      console.debug(\"Bokeh: injecting link tag for BokehJS stylesheet: \", url);\n",
       "      document.body.appendChild(element);\n",
       "    }\n",
       "\n",
       "    for (let i = 0; i < js_urls.length; i++) {\n",
       "      const url = js_urls[i];\n",
       "      const element = document.createElement('script');\n",
       "      element.onload = on_load;\n",
       "      element.onerror = on_error.bind(null, url);\n",
       "      element.async = false;\n",
       "      element.src = url;\n",
       "      console.debug(\"Bokeh: injecting script tag for BokehJS library: \", url);\n",
       "      document.head.appendChild(element);\n",
       "    }\n",
       "  };\n",
       "\n",
       "  function inject_raw_css(css) {\n",
       "    const element = document.createElement(\"style\");\n",
       "    element.appendChild(document.createTextNode(css));\n",
       "    document.body.appendChild(element);\n",
       "  }\n",
       "\n",
       "  const js_urls = [\"https://cdn.bokeh.org/bokeh/release/bokeh-3.3.0.min.js\", \"https://cdn.bokeh.org/bokeh/release/bokeh-gl-3.3.0.min.js\", \"https://cdn.bokeh.org/bokeh/release/bokeh-widgets-3.3.0.min.js\", \"https://cdn.bokeh.org/bokeh/release/bokeh-tables-3.3.0.min.js\", \"https://cdn.bokeh.org/bokeh/release/bokeh-mathjax-3.3.0.min.js\"];\n",
       "  const css_urls = [];\n",
       "\n",
       "  const inline_js = [    function(Bokeh) {\n",
       "      Bokeh.set_log_level(\"info\");\n",
       "    },\n",
       "function(Bokeh) {\n",
       "    }\n",
       "  ];\n",
       "\n",
       "  function run_inline_js() {\n",
       "    if (root.Bokeh !== undefined || force === true) {\n",
       "          for (let i = 0; i < inline_js.length; i++) {\n",
       "      inline_js[i].call(root, root.Bokeh);\n",
       "    }\n",
       "if (force === true) {\n",
       "        display_loaded();\n",
       "      }} else if (Date.now() < root._bokeh_timeout) {\n",
       "      setTimeout(run_inline_js, 100);\n",
       "    } else if (!root._bokeh_failed_load) {\n",
       "      console.log(\"Bokeh: BokehJS failed to load within specified timeout.\");\n",
       "      root._bokeh_failed_load = true;\n",
       "    } else if (force !== true) {\n",
       "      const cell = $(document.getElementById(\"fe308480-d26f-4e3b-8602-02d55f94358d\")).parents('.cell').data().cell;\n",
       "      cell.output_area.append_execute_result(NB_LOAD_WARNING)\n",
       "    }\n",
       "  }\n",
       "\n",
       "  if (root._bokeh_is_loading === 0) {\n",
       "    console.debug(\"Bokeh: BokehJS loaded, going straight to plotting\");\n",
       "    run_inline_js();\n",
       "  } else {\n",
       "    load_libs(css_urls, js_urls, function() {\n",
       "      console.debug(\"Bokeh: BokehJS plotting callback run at\", now());\n",
       "      run_inline_js();\n",
       "    });\n",
       "  }\n",
       "}(window));"
      ],
      "application/vnd.bokehjs_load.v0+json": "(function(root) {\n  function now() {\n    return new Date();\n  }\n\n  const force = true;\n\n  if (typeof root._bokeh_onload_callbacks === \"undefined\" || force === true) {\n    root._bokeh_onload_callbacks = [];\n    root._bokeh_is_loading = undefined;\n  }\n\n\n  if (typeof (root._bokeh_timeout) === \"undefined\" || force === true) {\n    root._bokeh_timeout = Date.now() + 5000;\n    root._bokeh_failed_load = false;\n  }\n\n  const NB_LOAD_WARNING = {'data': {'text/html':\n     \"<div style='background-color: #fdd'>\\n\"+\n     \"<p>\\n\"+\n     \"BokehJS does not appear to have successfully loaded. If loading BokehJS from CDN, this \\n\"+\n     \"may be due to a slow or bad network connection. Possible fixes:\\n\"+\n     \"</p>\\n\"+\n     \"<ul>\\n\"+\n     \"<li>re-rerun `output_notebook()` to attempt to load from CDN again, or</li>\\n\"+\n     \"<li>use INLINE resources instead, as so:</li>\\n\"+\n     \"</ul>\\n\"+\n     \"<code>\\n\"+\n     \"from bokeh.resources import INLINE\\n\"+\n     \"output_notebook(resources=INLINE)\\n\"+\n     \"</code>\\n\"+\n     \"</div>\"}};\n\n  function display_loaded() {\n    const el = document.getElementById(\"fe308480-d26f-4e3b-8602-02d55f94358d\");\n    if (el != null) {\n      el.textContent = \"BokehJS is loading...\";\n    }\n    if (root.Bokeh !== undefined) {\n      if (el != null) {\n        el.textContent = \"BokehJS \" + root.Bokeh.version + \" successfully loaded.\";\n      }\n    } else if (Date.now() < root._bokeh_timeout) {\n      setTimeout(display_loaded, 100)\n    }\n  }\n\n  function run_callbacks() {\n    try {\n      root._bokeh_onload_callbacks.forEach(function(callback) {\n        if (callback != null)\n          callback();\n      });\n    } finally {\n      delete root._bokeh_onload_callbacks\n    }\n    console.debug(\"Bokeh: all callbacks have finished\");\n  }\n\n  function load_libs(css_urls, js_urls, callback) {\n    if (css_urls == null) css_urls = [];\n    if (js_urls == null) js_urls = [];\n\n    root._bokeh_onload_callbacks.push(callback);\n    if (root._bokeh_is_loading > 0) {\n      console.debug(\"Bokeh: BokehJS is being loaded, scheduling callback at\", now());\n      return null;\n    }\n    if (js_urls == null || js_urls.length === 0) {\n      run_callbacks();\n      return null;\n    }\n    console.debug(\"Bokeh: BokehJS not loaded, scheduling load and callback at\", now());\n    root._bokeh_is_loading = css_urls.length + js_urls.length;\n\n    function on_load() {\n      root._bokeh_is_loading--;\n      if (root._bokeh_is_loading === 0) {\n        console.debug(\"Bokeh: all BokehJS libraries/stylesheets loaded\");\n        run_callbacks()\n      }\n    }\n\n    function on_error(url) {\n      console.error(\"failed to load \" + url);\n    }\n\n    for (let i = 0; i < css_urls.length; i++) {\n      const url = css_urls[i];\n      const element = document.createElement(\"link\");\n      element.onload = on_load;\n      element.onerror = on_error.bind(null, url);\n      element.rel = \"stylesheet\";\n      element.type = \"text/css\";\n      element.href = url;\n      console.debug(\"Bokeh: injecting link tag for BokehJS stylesheet: \", url);\n      document.body.appendChild(element);\n    }\n\n    for (let i = 0; i < js_urls.length; i++) {\n      const url = js_urls[i];\n      const element = document.createElement('script');\n      element.onload = on_load;\n      element.onerror = on_error.bind(null, url);\n      element.async = false;\n      element.src = url;\n      console.debug(\"Bokeh: injecting script tag for BokehJS library: \", url);\n      document.head.appendChild(element);\n    }\n  };\n\n  function inject_raw_css(css) {\n    const element = document.createElement(\"style\");\n    element.appendChild(document.createTextNode(css));\n    document.body.appendChild(element);\n  }\n\n  const js_urls = [\"https://cdn.bokeh.org/bokeh/release/bokeh-3.3.0.min.js\", \"https://cdn.bokeh.org/bokeh/release/bokeh-gl-3.3.0.min.js\", \"https://cdn.bokeh.org/bokeh/release/bokeh-widgets-3.3.0.min.js\", \"https://cdn.bokeh.org/bokeh/release/bokeh-tables-3.3.0.min.js\", \"https://cdn.bokeh.org/bokeh/release/bokeh-mathjax-3.3.0.min.js\"];\n  const css_urls = [];\n\n  const inline_js = [    function(Bokeh) {\n      Bokeh.set_log_level(\"info\");\n    },\nfunction(Bokeh) {\n    }\n  ];\n\n  function run_inline_js() {\n    if (root.Bokeh !== undefined || force === true) {\n          for (let i = 0; i < inline_js.length; i++) {\n      inline_js[i].call(root, root.Bokeh);\n    }\nif (force === true) {\n        display_loaded();\n      }} else if (Date.now() < root._bokeh_timeout) {\n      setTimeout(run_inline_js, 100);\n    } else if (!root._bokeh_failed_load) {\n      console.log(\"Bokeh: BokehJS failed to load within specified timeout.\");\n      root._bokeh_failed_load = true;\n    } else if (force !== true) {\n      const cell = $(document.getElementById(\"fe308480-d26f-4e3b-8602-02d55f94358d\")).parents('.cell').data().cell;\n      cell.output_area.append_execute_result(NB_LOAD_WARNING)\n    }\n  }\n\n  if (root._bokeh_is_loading === 0) {\n    console.debug(\"Bokeh: BokehJS loaded, going straight to plotting\");\n    run_inline_js();\n  } else {\n    load_libs(css_urls, js_urls, function() {\n      console.debug(\"Bokeh: BokehJS plotting callback run at\", now());\n      run_inline_js();\n    });\n  }\n}(window));"
     },
     "metadata": {},
     "output_type": "display_data"
    }
   ],
   "source": [
    "# Import the libraries pandas, numpy, matplotlib, seaborn, statsmodels and bokeh\n",
    "import pandas as pd\n",
    "import numpy as np\n",
    "import matplotlib.pyplot as plt\n",
    "from matplotlib.ticker import StrMethodFormatter\n",
    "import seaborn as sns \n",
    "from scipy import stats\n",
    "import statsmodels.api as sm\n",
    "from bokeh.io import output_notebook\n",
    "output_notebook()\n",
    "from bokeh.plotting import figure\n",
    "from bokeh.io import show "
   ]
  },
  {
   "cell_type": "markdown",
   "id": "85503367-1833-4518-b059-96bb7cd9b195",
   "metadata": {},
   "source": [
    "### 1. Load a dataset from a CSV file"
   ]
  },
  {
   "cell_type": "code",
   "execution_count": 3,
   "id": "78cdcbc4-b617-4bed-9f0f-511fff02812d",
   "metadata": {},
   "outputs": [
    {
     "data": {
      "text/html": [
       "<div>\n",
       "<style scoped>\n",
       "    .dataframe tbody tr th:only-of-type {\n",
       "        vertical-align: middle;\n",
       "    }\n",
       "\n",
       "    .dataframe tbody tr th {\n",
       "        vertical-align: top;\n",
       "    }\n",
       "\n",
       "    .dataframe thead th {\n",
       "        text-align: right;\n",
       "    }\n",
       "</style>\n",
       "<table border=\"1\" class=\"dataframe\">\n",
       "  <thead>\n",
       "    <tr style=\"text-align: right;\">\n",
       "      <th></th>\n",
       "      <th>Sr no</th>\n",
       "      <th>married</th>\n",
       "      <th>race</th>\n",
       "      <th>loan_decision</th>\n",
       "      <th>occupancy</th>\n",
       "      <th>loan_amount</th>\n",
       "      <th>applicant_income</th>\n",
       "      <th>num_units</th>\n",
       "      <th>num_dependants</th>\n",
       "      <th>self_employed</th>\n",
       "      <th>monthly_income</th>\n",
       "      <th>purchase_price</th>\n",
       "      <th>liquid_assets</th>\n",
       "      <th>mortage_payment_history</th>\n",
       "      <th>consumer_credit_history</th>\n",
       "      <th>filed_bankruptcy</th>\n",
       "      <th>property_type</th>\n",
       "      <th>gender</th>\n",
       "    </tr>\n",
       "  </thead>\n",
       "  <tbody>\n",
       "    <tr>\n",
       "      <th>0</th>\n",
       "      <td>1</td>\n",
       "      <td>True</td>\n",
       "      <td>white</td>\n",
       "      <td>reject</td>\n",
       "      <td>1</td>\n",
       "      <td>128</td>\n",
       "      <td>74</td>\n",
       "      <td>1.0</td>\n",
       "      <td>1.0</td>\n",
       "      <td>False</td>\n",
       "      <td>4583</td>\n",
       "      <td>160.0</td>\n",
       "      <td>52.0</td>\n",
       "      <td>2</td>\n",
       "      <td>2</td>\n",
       "      <td>False</td>\n",
       "      <td>2</td>\n",
       "      <td>male</td>\n",
       "    </tr>\n",
       "    <tr>\n",
       "      <th>1</th>\n",
       "      <td>2</td>\n",
       "      <td>False</td>\n",
       "      <td>white</td>\n",
       "      <td>approve</td>\n",
       "      <td>1</td>\n",
       "      <td>128</td>\n",
       "      <td>84</td>\n",
       "      <td>1.0</td>\n",
       "      <td>0.0</td>\n",
       "      <td>False</td>\n",
       "      <td>2666</td>\n",
       "      <td>143.0</td>\n",
       "      <td>37.0</td>\n",
       "      <td>2</td>\n",
       "      <td>2</td>\n",
       "      <td>False</td>\n",
       "      <td>2</td>\n",
       "      <td>male</td>\n",
       "    </tr>\n",
       "    <tr>\n",
       "      <th>2</th>\n",
       "      <td>3</td>\n",
       "      <td>True</td>\n",
       "      <td>white</td>\n",
       "      <td>approve</td>\n",
       "      <td>1</td>\n",
       "      <td>66</td>\n",
       "      <td>36</td>\n",
       "      <td>1.0</td>\n",
       "      <td>0.0</td>\n",
       "      <td>True</td>\n",
       "      <td>3000</td>\n",
       "      <td>110.0</td>\n",
       "      <td>19.0</td>\n",
       "      <td>2</td>\n",
       "      <td>6</td>\n",
       "      <td>True</td>\n",
       "      <td>2</td>\n",
       "      <td>male</td>\n",
       "    </tr>\n",
       "    <tr>\n",
       "      <th>3</th>\n",
       "      <td>4</td>\n",
       "      <td>True</td>\n",
       "      <td>white</td>\n",
       "      <td>approve</td>\n",
       "      <td>1</td>\n",
       "      <td>120</td>\n",
       "      <td>59</td>\n",
       "      <td>1.0</td>\n",
       "      <td>0.0</td>\n",
       "      <td>False</td>\n",
       "      <td>2583</td>\n",
       "      <td>134.0</td>\n",
       "      <td>31.0</td>\n",
       "      <td>2</td>\n",
       "      <td>1</td>\n",
       "      <td>False</td>\n",
       "      <td>1</td>\n",
       "      <td>male</td>\n",
       "    </tr>\n",
       "    <tr>\n",
       "      <th>4</th>\n",
       "      <td>5</td>\n",
       "      <td>False</td>\n",
       "      <td>white</td>\n",
       "      <td>approve</td>\n",
       "      <td>1</td>\n",
       "      <td>111</td>\n",
       "      <td>63</td>\n",
       "      <td>1.0</td>\n",
       "      <td>0.0</td>\n",
       "      <td>False</td>\n",
       "      <td>2208</td>\n",
       "      <td>138.0</td>\n",
       "      <td>169.0</td>\n",
       "      <td>2</td>\n",
       "      <td>6</td>\n",
       "      <td>False</td>\n",
       "      <td>2</td>\n",
       "      <td>male</td>\n",
       "    </tr>\n",
       "    <tr>\n",
       "      <th>...</th>\n",
       "      <td>...</td>\n",
       "      <td>...</td>\n",
       "      <td>...</td>\n",
       "      <td>...</td>\n",
       "      <td>...</td>\n",
       "      <td>...</td>\n",
       "      <td>...</td>\n",
       "      <td>...</td>\n",
       "      <td>...</td>\n",
       "      <td>...</td>\n",
       "      <td>...</td>\n",
       "      <td>...</td>\n",
       "      <td>...</td>\n",
       "      <td>...</td>\n",
       "      <td>...</td>\n",
       "      <td>...</td>\n",
       "      <td>...</td>\n",
       "      <td>...</td>\n",
       "    </tr>\n",
       "    <tr>\n",
       "      <th>1983</th>\n",
       "      <td>1984</td>\n",
       "      <td>True</td>\n",
       "      <td>white</td>\n",
       "      <td>approve</td>\n",
       "      <td>1</td>\n",
       "      <td>158</td>\n",
       "      <td>96</td>\n",
       "      <td>1.0</td>\n",
       "      <td>0.0</td>\n",
       "      <td>False</td>\n",
       "      <td>5000</td>\n",
       "      <td>176.0</td>\n",
       "      <td>15.0</td>\n",
       "      <td>2</td>\n",
       "      <td>1</td>\n",
       "      <td>False</td>\n",
       "      <td>2</td>\n",
       "      <td>male</td>\n",
       "    </tr>\n",
       "    <tr>\n",
       "      <th>1984</th>\n",
       "      <td>1985</td>\n",
       "      <td>True</td>\n",
       "      <td>white</td>\n",
       "      <td>approve</td>\n",
       "      <td>1</td>\n",
       "      <td>35</td>\n",
       "      <td>169</td>\n",
       "      <td>1.0</td>\n",
       "      <td>0.0</td>\n",
       "      <td>False</td>\n",
       "      <td>9583</td>\n",
       "      <td>315.0</td>\n",
       "      <td>64.0</td>\n",
       "      <td>1</td>\n",
       "      <td>1</td>\n",
       "      <td>False</td>\n",
       "      <td>1</td>\n",
       "      <td>male</td>\n",
       "    </tr>\n",
       "    <tr>\n",
       "      <th>1985</th>\n",
       "      <td>1986</td>\n",
       "      <td>True</td>\n",
       "      <td>white</td>\n",
       "      <td>approve</td>\n",
       "      <td>2</td>\n",
       "      <td>225</td>\n",
       "      <td>49</td>\n",
       "      <td>2.0</td>\n",
       "      <td>0.0</td>\n",
       "      <td>True</td>\n",
       "      <td>4159</td>\n",
       "      <td>225.0</td>\n",
       "      <td>10.0</td>\n",
       "      <td>2</td>\n",
       "      <td>1</td>\n",
       "      <td>False</td>\n",
       "      <td>3</td>\n",
       "      <td>male</td>\n",
       "    </tr>\n",
       "    <tr>\n",
       "      <th>1986</th>\n",
       "      <td>1987</td>\n",
       "      <td>False</td>\n",
       "      <td>white</td>\n",
       "      <td>approve</td>\n",
       "      <td>1</td>\n",
       "      <td>98</td>\n",
       "      <td>110</td>\n",
       "      <td>1.0</td>\n",
       "      <td>0.0</td>\n",
       "      <td>True</td>\n",
       "      <td>9200</td>\n",
       "      <td>215.0</td>\n",
       "      <td>427.9</td>\n",
       "      <td>1</td>\n",
       "      <td>1</td>\n",
       "      <td>False</td>\n",
       "      <td>1</td>\n",
       "      <td>male</td>\n",
       "    </tr>\n",
       "    <tr>\n",
       "      <th>1987</th>\n",
       "      <td>1988</td>\n",
       "      <td>False</td>\n",
       "      <td>black</td>\n",
       "      <td>reject</td>\n",
       "      <td>1</td>\n",
       "      <td>133</td>\n",
       "      <td>55</td>\n",
       "      <td>1.0</td>\n",
       "      <td>0.0</td>\n",
       "      <td>True</td>\n",
       "      <td>4583</td>\n",
       "      <td>148.0</td>\n",
       "      <td>24.5</td>\n",
       "      <td>2</td>\n",
       "      <td>3</td>\n",
       "      <td>False</td>\n",
       "      <td>2</td>\n",
       "      <td>female</td>\n",
       "    </tr>\n",
       "  </tbody>\n",
       "</table>\n",
       "<p>1988 rows × 18 columns</p>\n",
       "</div>"
      ],
      "text/plain": [
       "      Sr no married   race loan_decision  occupancy  loan_amount  \\\n",
       "0         1    True  white        reject          1          128   \n",
       "1         2   False  white       approve          1          128   \n",
       "2         3    True  white       approve          1           66   \n",
       "3         4    True  white       approve          1          120   \n",
       "4         5   False  white       approve          1          111   \n",
       "...     ...     ...    ...           ...        ...          ...   \n",
       "1983   1984    True  white       approve          1          158   \n",
       "1984   1985    True  white       approve          1           35   \n",
       "1985   1986    True  white       approve          2          225   \n",
       "1986   1987   False  white       approve          1           98   \n",
       "1987   1988   False  black        reject          1          133   \n",
       "\n",
       "      applicant_income  num_units  num_dependants  self_employed  \\\n",
       "0                   74        1.0             1.0          False   \n",
       "1                   84        1.0             0.0          False   \n",
       "2                   36        1.0             0.0           True   \n",
       "3                   59        1.0             0.0          False   \n",
       "4                   63        1.0             0.0          False   \n",
       "...                ...        ...             ...            ...   \n",
       "1983                96        1.0             0.0          False   \n",
       "1984               169        1.0             0.0          False   \n",
       "1985                49        2.0             0.0           True   \n",
       "1986               110        1.0             0.0           True   \n",
       "1987                55        1.0             0.0           True   \n",
       "\n",
       "      monthly_income  purchase_price  liquid_assets  mortage_payment_history  \\\n",
       "0               4583           160.0           52.0                        2   \n",
       "1               2666           143.0           37.0                        2   \n",
       "2               3000           110.0           19.0                        2   \n",
       "3               2583           134.0           31.0                        2   \n",
       "4               2208           138.0          169.0                        2   \n",
       "...              ...             ...            ...                      ...   \n",
       "1983            5000           176.0           15.0                        2   \n",
       "1984            9583           315.0           64.0                        1   \n",
       "1985            4159           225.0           10.0                        2   \n",
       "1986            9200           215.0          427.9                        1   \n",
       "1987            4583           148.0           24.5                        2   \n",
       "\n",
       "      consumer_credit_history  filed_bankruptcy  property_type  gender  \n",
       "0                           2             False              2    male  \n",
       "1                           2             False              2    male  \n",
       "2                           6              True              2    male  \n",
       "3                           1             False              1    male  \n",
       "4                           6             False              2    male  \n",
       "...                       ...               ...            ...     ...  \n",
       "1983                        1             False              2    male  \n",
       "1984                        1             False              1    male  \n",
       "1985                        1             False              3    male  \n",
       "1986                        1             False              1    male  \n",
       "1987                        3             False              2  female  \n",
       "\n",
       "[1988 rows x 18 columns]"
      ]
     },
     "execution_count": 3,
     "metadata": {},
     "output_type": "execute_result"
    }
   ],
   "source": [
    "# Read the csv file\n",
    "df=pd.read_csv('C:\\\\Users\\\\br1gi\\\\Downloads\\\\ALL Python\\\\loanapp.csv')\n",
    "df "
   ]
  },
  {
   "cell_type": "markdown",
   "id": "92323d2d-b676-4553-86cf-1c8f170cfa69",
   "metadata": {},
   "source": [
    "#### Loan applications: loanapp.csv . The dataset contains data on loan applications to a bank, including various types of information on the applicant and the purpose of the loan, along with the eventual loan decision (approve or reject - see the column loan_decision)."
   ]
  },
  {
   "cell_type": "markdown",
   "id": "ec25b86e-418b-4051-8948-02e7a6bafbf9",
   "metadata": {},
   "source": [
    "### 2. Display descriptive statistics about the dataset"
   ]
  },
  {
   "cell_type": "code",
   "execution_count": 13,
   "id": "b0531fef-1452-4c32-89a2-a2b8af94dabd",
   "metadata": {},
   "outputs": [
    {
     "data": {
      "text/html": [
       "<div>\n",
       "<style scoped>\n",
       "    .dataframe tbody tr th:only-of-type {\n",
       "        vertical-align: middle;\n",
       "    }\n",
       "\n",
       "    .dataframe tbody tr th {\n",
       "        vertical-align: top;\n",
       "    }\n",
       "\n",
       "    .dataframe thead th {\n",
       "        text-align: right;\n",
       "    }\n",
       "</style>\n",
       "<table border=\"1\" class=\"dataframe\">\n",
       "  <thead>\n",
       "    <tr style=\"text-align: right;\">\n",
       "      <th></th>\n",
       "      <th>Sr no</th>\n",
       "      <th>occupancy</th>\n",
       "      <th>loan_amount</th>\n",
       "      <th>applicant_income</th>\n",
       "      <th>num_units</th>\n",
       "      <th>num_dependants</th>\n",
       "      <th>monthly_income</th>\n",
       "      <th>purchase_price</th>\n",
       "      <th>liquid_assets</th>\n",
       "      <th>mortage_payment_history</th>\n",
       "      <th>consumer_credit_history</th>\n",
       "      <th>property_type</th>\n",
       "    </tr>\n",
       "  </thead>\n",
       "  <tbody>\n",
       "    <tr>\n",
       "      <th>count</th>\n",
       "      <td>1988.000000</td>\n",
       "      <td>1988.000000</td>\n",
       "      <td>1988.000000</td>\n",
       "      <td>1988.000000</td>\n",
       "      <td>1984.000000</td>\n",
       "      <td>1985.000000</td>\n",
       "      <td>1988.000000</td>\n",
       "      <td>1988.000000</td>\n",
       "      <td>1988.000000</td>\n",
       "      <td>1988.000000</td>\n",
       "      <td>1988.000000</td>\n",
       "      <td>1988.000000</td>\n",
       "    </tr>\n",
       "    <tr>\n",
       "      <th>mean</th>\n",
       "      <td>994.500000</td>\n",
       "      <td>1.031690</td>\n",
       "      <td>143.272636</td>\n",
       "      <td>84.684105</td>\n",
       "      <td>1.122480</td>\n",
       "      <td>0.771285</td>\n",
       "      <td>5195.220825</td>\n",
       "      <td>196.304088</td>\n",
       "      <td>4620.333873</td>\n",
       "      <td>1.708249</td>\n",
       "      <td>2.110161</td>\n",
       "      <td>1.861167</td>\n",
       "    </tr>\n",
       "    <tr>\n",
       "      <th>std</th>\n",
       "      <td>574.030487</td>\n",
       "      <td>0.191678</td>\n",
       "      <td>80.531470</td>\n",
       "      <td>87.079777</td>\n",
       "      <td>0.437315</td>\n",
       "      <td>1.104464</td>\n",
       "      <td>5270.360946</td>\n",
       "      <td>128.136030</td>\n",
       "      <td>67142.936043</td>\n",
       "      <td>0.555335</td>\n",
       "      <td>1.663256</td>\n",
       "      <td>0.535448</td>\n",
       "    </tr>\n",
       "    <tr>\n",
       "      <th>min</th>\n",
       "      <td>1.000000</td>\n",
       "      <td>1.000000</td>\n",
       "      <td>2.000000</td>\n",
       "      <td>0.000000</td>\n",
       "      <td>1.000000</td>\n",
       "      <td>0.000000</td>\n",
       "      <td>0.000000</td>\n",
       "      <td>25.000000</td>\n",
       "      <td>0.000000</td>\n",
       "      <td>1.000000</td>\n",
       "      <td>1.000000</td>\n",
       "      <td>1.000000</td>\n",
       "    </tr>\n",
       "    <tr>\n",
       "      <th>25%</th>\n",
       "      <td>497.750000</td>\n",
       "      <td>1.000000</td>\n",
       "      <td>100.000000</td>\n",
       "      <td>48.000000</td>\n",
       "      <td>1.000000</td>\n",
       "      <td>0.000000</td>\n",
       "      <td>2875.750000</td>\n",
       "      <td>129.000000</td>\n",
       "      <td>20.000000</td>\n",
       "      <td>1.000000</td>\n",
       "      <td>1.000000</td>\n",
       "      <td>2.000000</td>\n",
       "    </tr>\n",
       "    <tr>\n",
       "      <th>50%</th>\n",
       "      <td>994.500000</td>\n",
       "      <td>1.000000</td>\n",
       "      <td>126.000000</td>\n",
       "      <td>64.000000</td>\n",
       "      <td>1.000000</td>\n",
       "      <td>0.000000</td>\n",
       "      <td>3812.500000</td>\n",
       "      <td>163.000000</td>\n",
       "      <td>38.000000</td>\n",
       "      <td>2.000000</td>\n",
       "      <td>1.000000</td>\n",
       "      <td>2.000000</td>\n",
       "    </tr>\n",
       "    <tr>\n",
       "      <th>75%</th>\n",
       "      <td>1491.250000</td>\n",
       "      <td>1.000000</td>\n",
       "      <td>165.000000</td>\n",
       "      <td>88.000000</td>\n",
       "      <td>1.000000</td>\n",
       "      <td>1.000000</td>\n",
       "      <td>5594.500000</td>\n",
       "      <td>225.000000</td>\n",
       "      <td>83.000000</td>\n",
       "      <td>2.000000</td>\n",
       "      <td>2.000000</td>\n",
       "      <td>2.000000</td>\n",
       "    </tr>\n",
       "    <tr>\n",
       "      <th>max</th>\n",
       "      <td>1988.000000</td>\n",
       "      <td>3.000000</td>\n",
       "      <td>980.000000</td>\n",
       "      <td>972.000000</td>\n",
       "      <td>4.000000</td>\n",
       "      <td>8.000000</td>\n",
       "      <td>81000.000000</td>\n",
       "      <td>1535.000000</td>\n",
       "      <td>1000000.000000</td>\n",
       "      <td>4.000000</td>\n",
       "      <td>6.000000</td>\n",
       "      <td>3.000000</td>\n",
       "    </tr>\n",
       "  </tbody>\n",
       "</table>\n",
       "</div>"
      ],
      "text/plain": [
       "             Sr no    occupancy  loan_amount  applicant_income    num_units  \\\n",
       "count  1988.000000  1988.000000  1988.000000       1988.000000  1984.000000   \n",
       "mean    994.500000     1.031690   143.272636         84.684105     1.122480   \n",
       "std     574.030487     0.191678    80.531470         87.079777     0.437315   \n",
       "min       1.000000     1.000000     2.000000          0.000000     1.000000   \n",
       "25%     497.750000     1.000000   100.000000         48.000000     1.000000   \n",
       "50%     994.500000     1.000000   126.000000         64.000000     1.000000   \n",
       "75%    1491.250000     1.000000   165.000000         88.000000     1.000000   \n",
       "max    1988.000000     3.000000   980.000000        972.000000     4.000000   \n",
       "\n",
       "       num_dependants  monthly_income  purchase_price   liquid_assets  \\\n",
       "count     1985.000000     1988.000000     1988.000000     1988.000000   \n",
       "mean         0.771285     5195.220825      196.304088     4620.333873   \n",
       "std          1.104464     5270.360946      128.136030    67142.936043   \n",
       "min          0.000000        0.000000       25.000000        0.000000   \n",
       "25%          0.000000     2875.750000      129.000000       20.000000   \n",
       "50%          0.000000     3812.500000      163.000000       38.000000   \n",
       "75%          1.000000     5594.500000      225.000000       83.000000   \n",
       "max          8.000000    81000.000000     1535.000000  1000000.000000   \n",
       "\n",
       "       mortage_payment_history  consumer_credit_history  property_type  \n",
       "count              1988.000000              1988.000000    1988.000000  \n",
       "mean                  1.708249                 2.110161       1.861167  \n",
       "std                   0.555335                 1.663256       0.535448  \n",
       "min                   1.000000                 1.000000       1.000000  \n",
       "25%                   1.000000                 1.000000       2.000000  \n",
       "50%                   2.000000                 1.000000       2.000000  \n",
       "75%                   2.000000                 2.000000       2.000000  \n",
       "max                   4.000000                 6.000000       3.000000  "
      ]
     },
     "execution_count": 13,
     "metadata": {},
     "output_type": "execute_result"
    }
   ],
   "source": [
    "# Descriptive statistics of the dataframe\n",
    "df.describe() "
   ]
  },
  {
   "cell_type": "markdown",
   "id": "6010de84-ad8b-4880-ba17-0fd13d2440c8",
   "metadata": {},
   "source": [
    "#### The basic descriptive statistics of each column is shown in the table. The mean loan amount of all applicants is 143.3.Whereas the mean amount of applicant is only 980 the minimum loan amount is 2."
   ]
  },
  {
   "cell_type": "code",
   "execution_count": 30,
   "id": "50d154ff-2b0c-4b6d-8505-390fad315eef",
   "metadata": {},
   "outputs": [
    {
     "name": "stdout",
     "output_type": "stream",
     "text": [
      "<class 'pandas.core.frame.DataFrame'>\n",
      "RangeIndex: 1988 entries, 0 to 1987\n",
      "Data columns (total 18 columns):\n",
      " #   Column                   Non-Null Count  Dtype  \n",
      "---  ------                   --------------  -----  \n",
      " 0   Sr no                    1988 non-null   int64  \n",
      " 1   married                  1985 non-null   object \n",
      " 2   race                     1988 non-null   object \n",
      " 3   loan_decision            1988 non-null   object \n",
      " 4   occupancy                1988 non-null   int64  \n",
      " 5   loan_amount              1988 non-null   int64  \n",
      " 6   applicant_income         1988 non-null   int64  \n",
      " 7   num_units                1984 non-null   float64\n",
      " 8   num_dependants           1985 non-null   float64\n",
      " 9   self_employed            1988 non-null   bool   \n",
      " 10  monthly_income           1988 non-null   int64  \n",
      " 11  purchase_price           1988 non-null   float64\n",
      " 12  liquid_assets            1988 non-null   float64\n",
      " 13  mortage_payment_history  1988 non-null   int64  \n",
      " 14  consumer_credit_history  1988 non-null   int64  \n",
      " 15  filed_bankruptcy         1988 non-null   bool   \n",
      " 16  property_type            1988 non-null   int64  \n",
      " 17  gender                   1974 non-null   object \n",
      "dtypes: bool(2), float64(4), int64(8), object(4)\n",
      "memory usage: 252.5+ KB\n"
     ]
    }
   ],
   "source": [
    "# Basic information\n",
    "df.info() "
   ]
  },
  {
   "cell_type": "markdown",
   "id": "c249e0e0-a1d6-4d25-9433-3e4a4474c6a6",
   "metadata": {},
   "source": [
    "### 3. Build a graph visualizing (some of) the numerical variables of the dataset"
   ]
  },
  {
   "cell_type": "code",
   "execution_count": 35,
   "id": "cfb9d0fe-00bb-44e3-8a87-38e756148f59",
   "metadata": {},
   "outputs": [
    {
     "data": {
      "text/plain": [
       "<Axes: xlabel='loan_amount', ylabel='applicant_income'>"
      ]
     },
     "execution_count": 35,
     "metadata": {},
     "output_type": "execute_result"
    },
    {
     "data": {
      "image/png": "[encoded data removed]",
      "text/plain": [
       "<Figure size 640x480 with 1 Axes>"
      ]
     },
     "metadata": {},
     "output_type": "display_data"
    }
   ],
   "source": [
    "# Plot the numerical variables 'loan_amount' and 'applicant_income'\n",
    "df.plot(kind=\"scatter\", x=\"loan_amount\",y=\"applicant_income\") "
   ]
  },
  {
   "cell_type": "markdown",
   "id": "7e7d28c9-f6be-4b57-b864-4bb814feb30f",
   "metadata": {},
   "source": [
    "#### The plot is plotted between loan amount and applicant income in order to visualise the relation between the applicants income and the amount of loan they are seeking."
   ]
  },
  {
   "cell_type": "markdown",
   "id": "5d60adc5-b92f-457b-8fee-b862170046a5",
   "metadata": {},
   "source": [
    "### 4. Check if any records in the data have any missing values; handle the missing data as appropriate (interpolate missing values, delete records with missing values, etc)."
   ]
  },
  {
   "cell_type": "code",
   "execution_count": 39,
   "id": "583c310b-ed58-4976-ba22-29fdc51c0aab",
   "metadata": {},
   "outputs": [
    {
     "name": "stdout",
     "output_type": "stream",
     "text": [
      "0        True\n",
      "1       False\n",
      "2        True\n",
      "3        True\n",
      "4       False\n",
      "        ...  \n",
      "1983     True\n",
      "1984     True\n",
      "1985     True\n",
      "1986    False\n",
      "1987    False\n",
      "Name: married, Length: 1988, dtype: object\n",
      "0       False\n",
      "1       False\n",
      "2       False\n",
      "3       False\n",
      "4       False\n",
      "        ...  \n",
      "1983    False\n",
      "1984    False\n",
      "1985    False\n",
      "1986    False\n",
      "1987    False\n",
      "Name: married, Length: 1988, dtype: bool\n"
     ]
    }
   ],
   "source": [
    "# Print if there are ant empty cells in 'married' column\n",
    "print(df['married'])\n",
    "print(df['married'].isnull()) "
   ]
  },
  {
   "cell_type": "code",
   "execution_count": 41,
   "id": "b386b68e-4859-466f-8662-eef307e686ec",
   "metadata": {},
   "outputs": [
    {
     "name": "stdout",
     "output_type": "stream",
     "text": [
      "0       1.0\n",
      "1       0.0\n",
      "2       0.0\n",
      "3       0.0\n",
      "4       0.0\n",
      "       ... \n",
      "1983    0.0\n",
      "1984    0.0\n",
      "1985    0.0\n",
      "1986    0.0\n",
      "1987    0.0\n",
      "Name: num_dependants, Length: 1988, dtype: float64\n",
      "0       False\n",
      "1       False\n",
      "2       False\n",
      "3       False\n",
      "4       False\n",
      "        ...  \n",
      "1983    False\n",
      "1984    False\n",
      "1985    False\n",
      "1986    False\n",
      "1987    False\n",
      "Name: num_dependants, Length: 1988, dtype: bool\n"
     ]
    }
   ],
   "source": [
    "# Print if there are ant empty cells in 'num_dependents' column\n",
    "print(df['num_dependants'])\n",
    "print(df['num_dependants'].isnull()) "
   ]
  },
  {
   "cell_type": "code",
   "execution_count": 45,
   "id": "1dbbe9c9-7a32-4b75-9856-71c119fddfea",
   "metadata": {},
   "outputs": [
    {
     "name": "stdout",
     "output_type": "stream",
     "text": [
      "0         male\n",
      "1         male\n",
      "2         male\n",
      "3         male\n",
      "4         male\n",
      "         ...  \n",
      "1983      male\n",
      "1984      male\n",
      "1985      male\n",
      "1986      male\n",
      "1987    female\n",
      "Name: gender, Length: 1988, dtype: object\n",
      "0       False\n",
      "1       False\n",
      "2       False\n",
      "3       False\n",
      "4       False\n",
      "        ...  \n",
      "1983    False\n",
      "1984    False\n",
      "1985    False\n",
      "1986    False\n",
      "1987    False\n",
      "Name: gender, Length: 1988, dtype: bool\n"
     ]
    }
   ],
   "source": [
    "# Print if there are any empty cells in 'gender' column\n",
    "print(df['gender'])\n",
    "print(df['gender'].isnull()) "
   ]
  },
  {
   "cell_type": "code",
   "execution_count": 47,
   "id": "0a572172-8287-4cb9-9538-b2c89761936c",
   "metadata": {},
   "outputs": [
    {
     "name": "stdout",
     "output_type": "stream",
     "text": [
      "Sr no                       0\n",
      "married                     3\n",
      "race                        0\n",
      "loan_decision               0\n",
      "occupancy                   0\n",
      "loan_amount                 0\n",
      "applicant_income            0\n",
      "num_units                   4\n",
      "num_dependants              3\n",
      "self_employed               0\n",
      "monthly_income              0\n",
      "purchase_price              0\n",
      "liquid_assets               0\n",
      "mortage_payment_history     0\n",
      "consumer_credit_history     0\n",
      "filed_bankruptcy            0\n",
      "property_type               0\n",
      "gender                     14\n",
      "dtype: int64\n"
     ]
    }
   ],
   "source": [
    "# Total missing values for each feature\n",
    "print (df.isnull().sum()) "
   ]
  },
  {
   "cell_type": "markdown",
   "id": "34d4ae38-ad5a-4312-b169-57e2284950e2",
   "metadata": {},
   "source": [
    "#### The missing values can be found either by checking each column or by just seaarching for the number of null values in the whole Dataframe. This shows that marital status of 3 applicants, number of units of 4 applicants, number of dependents of 3 applicants and gender of 14 applicants are missing."
   ]
  },
  {
   "cell_type": "code",
   "execution_count": 54,
   "id": "29d339c4-bff3-41fb-82ef-d63852356b98",
   "metadata": {},
   "outputs": [
    {
     "data": {
      "text/html": [
       "<div>\n",
       "<style scoped>\n",
       "    .dataframe tbody tr th:only-of-type {\n",
       "        vertical-align: middle;\n",
       "    }\n",
       "\n",
       "    .dataframe tbody tr th {\n",
       "        vertical-align: top;\n",
       "    }\n",
       "\n",
       "    .dataframe thead th {\n",
       "        text-align: right;\n",
       "    }\n",
       "</style>\n",
       "<table border=\"1\" class=\"dataframe\">\n",
       "  <thead>\n",
       "    <tr style=\"text-align: right;\">\n",
       "      <th></th>\n",
       "      <th>Sr no</th>\n",
       "      <th>married</th>\n",
       "      <th>race</th>\n",
       "      <th>loan_decision</th>\n",
       "      <th>occupancy</th>\n",
       "      <th>loan_amount</th>\n",
       "      <th>applicant_income</th>\n",
       "      <th>num_units</th>\n",
       "      <th>num_dependants</th>\n",
       "      <th>self_employed</th>\n",
       "      <th>monthly_income</th>\n",
       "      <th>purchase_price</th>\n",
       "      <th>liquid_assets</th>\n",
       "      <th>mortage_payment_history</th>\n",
       "      <th>consumer_credit_history</th>\n",
       "      <th>filed_bankruptcy</th>\n",
       "      <th>property_type</th>\n",
       "      <th>gender</th>\n",
       "    </tr>\n",
       "  </thead>\n",
       "  <tbody>\n",
       "    <tr>\n",
       "      <th>0</th>\n",
       "      <td>1</td>\n",
       "      <td>True</td>\n",
       "      <td>white</td>\n",
       "      <td>reject</td>\n",
       "      <td>1</td>\n",
       "      <td>128</td>\n",
       "      <td>74</td>\n",
       "      <td>1.0</td>\n",
       "      <td>1.0</td>\n",
       "      <td>False</td>\n",
       "      <td>4583</td>\n",
       "      <td>160.0</td>\n",
       "      <td>52.0</td>\n",
       "      <td>2</td>\n",
       "      <td>2</td>\n",
       "      <td>False</td>\n",
       "      <td>2</td>\n",
       "      <td>male</td>\n",
       "    </tr>\n",
       "    <tr>\n",
       "      <th>1</th>\n",
       "      <td>2</td>\n",
       "      <td>False</td>\n",
       "      <td>white</td>\n",
       "      <td>approve</td>\n",
       "      <td>1</td>\n",
       "      <td>128</td>\n",
       "      <td>84</td>\n",
       "      <td>1.0</td>\n",
       "      <td>0.0</td>\n",
       "      <td>False</td>\n",
       "      <td>2666</td>\n",
       "      <td>143.0</td>\n",
       "      <td>37.0</td>\n",
       "      <td>2</td>\n",
       "      <td>2</td>\n",
       "      <td>False</td>\n",
       "      <td>2</td>\n",
       "      <td>male</td>\n",
       "    </tr>\n",
       "    <tr>\n",
       "      <th>2</th>\n",
       "      <td>3</td>\n",
       "      <td>True</td>\n",
       "      <td>white</td>\n",
       "      <td>approve</td>\n",
       "      <td>1</td>\n",
       "      <td>66</td>\n",
       "      <td>36</td>\n",
       "      <td>1.0</td>\n",
       "      <td>0.0</td>\n",
       "      <td>True</td>\n",
       "      <td>3000</td>\n",
       "      <td>110.0</td>\n",
       "      <td>19.0</td>\n",
       "      <td>2</td>\n",
       "      <td>6</td>\n",
       "      <td>True</td>\n",
       "      <td>2</td>\n",
       "      <td>male</td>\n",
       "    </tr>\n",
       "    <tr>\n",
       "      <th>3</th>\n",
       "      <td>4</td>\n",
       "      <td>True</td>\n",
       "      <td>white</td>\n",
       "      <td>approve</td>\n",
       "      <td>1</td>\n",
       "      <td>120</td>\n",
       "      <td>59</td>\n",
       "      <td>1.0</td>\n",
       "      <td>0.0</td>\n",
       "      <td>False</td>\n",
       "      <td>2583</td>\n",
       "      <td>134.0</td>\n",
       "      <td>31.0</td>\n",
       "      <td>2</td>\n",
       "      <td>1</td>\n",
       "      <td>False</td>\n",
       "      <td>1</td>\n",
       "      <td>male</td>\n",
       "    </tr>\n",
       "    <tr>\n",
       "      <th>4</th>\n",
       "      <td>5</td>\n",
       "      <td>False</td>\n",
       "      <td>white</td>\n",
       "      <td>approve</td>\n",
       "      <td>1</td>\n",
       "      <td>111</td>\n",
       "      <td>63</td>\n",
       "      <td>1.0</td>\n",
       "      <td>0.0</td>\n",
       "      <td>False</td>\n",
       "      <td>2208</td>\n",
       "      <td>138.0</td>\n",
       "      <td>169.0</td>\n",
       "      <td>2</td>\n",
       "      <td>6</td>\n",
       "      <td>False</td>\n",
       "      <td>2</td>\n",
       "      <td>male</td>\n",
       "    </tr>\n",
       "    <tr>\n",
       "      <th>...</th>\n",
       "      <td>...</td>\n",
       "      <td>...</td>\n",
       "      <td>...</td>\n",
       "      <td>...</td>\n",
       "      <td>...</td>\n",
       "      <td>...</td>\n",
       "      <td>...</td>\n",
       "      <td>...</td>\n",
       "      <td>...</td>\n",
       "      <td>...</td>\n",
       "      <td>...</td>\n",
       "      <td>...</td>\n",
       "      <td>...</td>\n",
       "      <td>...</td>\n",
       "      <td>...</td>\n",
       "      <td>...</td>\n",
       "      <td>...</td>\n",
       "      <td>...</td>\n",
       "    </tr>\n",
       "    <tr>\n",
       "      <th>1983</th>\n",
       "      <td>1984</td>\n",
       "      <td>True</td>\n",
       "      <td>white</td>\n",
       "      <td>approve</td>\n",
       "      <td>1</td>\n",
       "      <td>158</td>\n",
       "      <td>96</td>\n",
       "      <td>1.0</td>\n",
       "      <td>0.0</td>\n",
       "      <td>False</td>\n",
       "      <td>5000</td>\n",
       "      <td>176.0</td>\n",
       "      <td>15.0</td>\n",
       "      <td>2</td>\n",
       "      <td>1</td>\n",
       "      <td>False</td>\n",
       "      <td>2</td>\n",
       "      <td>male</td>\n",
       "    </tr>\n",
       "    <tr>\n",
       "      <th>1984</th>\n",
       "      <td>1985</td>\n",
       "      <td>True</td>\n",
       "      <td>white</td>\n",
       "      <td>approve</td>\n",
       "      <td>1</td>\n",
       "      <td>35</td>\n",
       "      <td>169</td>\n",
       "      <td>1.0</td>\n",
       "      <td>0.0</td>\n",
       "      <td>False</td>\n",
       "      <td>9583</td>\n",
       "      <td>315.0</td>\n",
       "      <td>64.0</td>\n",
       "      <td>1</td>\n",
       "      <td>1</td>\n",
       "      <td>False</td>\n",
       "      <td>1</td>\n",
       "      <td>male</td>\n",
       "    </tr>\n",
       "    <tr>\n",
       "      <th>1985</th>\n",
       "      <td>1986</td>\n",
       "      <td>True</td>\n",
       "      <td>white</td>\n",
       "      <td>approve</td>\n",
       "      <td>2</td>\n",
       "      <td>225</td>\n",
       "      <td>49</td>\n",
       "      <td>2.0</td>\n",
       "      <td>0.0</td>\n",
       "      <td>True</td>\n",
       "      <td>4159</td>\n",
       "      <td>225.0</td>\n",
       "      <td>10.0</td>\n",
       "      <td>2</td>\n",
       "      <td>1</td>\n",
       "      <td>False</td>\n",
       "      <td>3</td>\n",
       "      <td>male</td>\n",
       "    </tr>\n",
       "    <tr>\n",
       "      <th>1986</th>\n",
       "      <td>1987</td>\n",
       "      <td>False</td>\n",
       "      <td>white</td>\n",
       "      <td>approve</td>\n",
       "      <td>1</td>\n",
       "      <td>98</td>\n",
       "      <td>110</td>\n",
       "      <td>1.0</td>\n",
       "      <td>0.0</td>\n",
       "      <td>True</td>\n",
       "      <td>9200</td>\n",
       "      <td>215.0</td>\n",
       "      <td>427.9</td>\n",
       "      <td>1</td>\n",
       "      <td>1</td>\n",
       "      <td>False</td>\n",
       "      <td>1</td>\n",
       "      <td>male</td>\n",
       "    </tr>\n",
       "    <tr>\n",
       "      <th>1987</th>\n",
       "      <td>1988</td>\n",
       "      <td>False</td>\n",
       "      <td>black</td>\n",
       "      <td>reject</td>\n",
       "      <td>1</td>\n",
       "      <td>133</td>\n",
       "      <td>55</td>\n",
       "      <td>1.0</td>\n",
       "      <td>0.0</td>\n",
       "      <td>True</td>\n",
       "      <td>4583</td>\n",
       "      <td>148.0</td>\n",
       "      <td>24.5</td>\n",
       "      <td>2</td>\n",
       "      <td>3</td>\n",
       "      <td>False</td>\n",
       "      <td>2</td>\n",
       "      <td>female</td>\n",
       "    </tr>\n",
       "  </tbody>\n",
       "</table>\n",
       "<p>1969 rows × 18 columns</p>\n",
       "</div>"
      ],
      "text/plain": [
       "      Sr no married   race loan_decision  occupancy  loan_amount  \\\n",
       "0         1    True  white        reject          1          128   \n",
       "1         2   False  white       approve          1          128   \n",
       "2         3    True  white       approve          1           66   \n",
       "3         4    True  white       approve          1          120   \n",
       "4         5   False  white       approve          1          111   \n",
       "...     ...     ...    ...           ...        ...          ...   \n",
       "1983   1984    True  white       approve          1          158   \n",
       "1984   1985    True  white       approve          1           35   \n",
       "1985   1986    True  white       approve          2          225   \n",
       "1986   1987   False  white       approve          1           98   \n",
       "1987   1988   False  black        reject          1          133   \n",
       "\n",
       "      applicant_income  num_units  num_dependants  self_employed  \\\n",
       "0                   74        1.0             1.0          False   \n",
       "1                   84        1.0             0.0          False   \n",
       "2                   36        1.0             0.0           True   \n",
       "3                   59        1.0             0.0          False   \n",
       "4                   63        1.0             0.0          False   \n",
       "...                ...        ...             ...            ...   \n",
       "1983                96        1.0             0.0          False   \n",
       "1984               169        1.0             0.0          False   \n",
       "1985                49        2.0             0.0           True   \n",
       "1986               110        1.0             0.0           True   \n",
       "1987                55        1.0             0.0           True   \n",
       "\n",
       "      monthly_income  purchase_price  liquid_assets  mortage_payment_history  \\\n",
       "0               4583           160.0           52.0                        2   \n",
       "1               2666           143.0           37.0                        2   \n",
       "2               3000           110.0           19.0                        2   \n",
       "3               2583           134.0           31.0                        2   \n",
       "4               2208           138.0          169.0                        2   \n",
       "...              ...             ...            ...                      ...   \n",
       "1983            5000           176.0           15.0                        2   \n",
       "1984            9583           315.0           64.0                        1   \n",
       "1985            4159           225.0           10.0                        2   \n",
       "1986            9200           215.0          427.9                        1   \n",
       "1987            4583           148.0           24.5                        2   \n",
       "\n",
       "      consumer_credit_history  filed_bankruptcy  property_type  gender  \n",
       "0                           2             False              2    male  \n",
       "1                           2             False              2    male  \n",
       "2                           6              True              2    male  \n",
       "3                           1             False              1    male  \n",
       "4                           6             False              2    male  \n",
       "...                       ...               ...            ...     ...  \n",
       "1983                        1             False              2    male  \n",
       "1984                        1             False              1    male  \n",
       "1985                        1             False              3    male  \n",
       "1986                        1             False              1    male  \n",
       "1987                        3             False              2  female  \n",
       "\n",
       "[1969 rows x 18 columns]"
      ]
     },
     "execution_count": 54,
     "metadata": {},
     "output_type": "execute_result"
    }
   ],
   "source": [
    "# Delete rows with missing values\n",
    "df.dropna(inplace=True, axis=\"rows\")\n",
    "df "
   ]
  },
  {
   "cell_type": "markdown",
   "id": "9f614513-5e3b-426f-86aa-c2d7f286fef5",
   "metadata": {},
   "source": [
    "#### The values can be replaced with \"NA\" with replace function or interpolated with the values nearby the missing values. But here the rows with missing values have been deleted since the change in categorical variables would affect the analysis in the later part of the report. After deleting the rows with missing values 1969 out of 1988 rows are remaining."
   ]
  },
  {
   "cell_type": "markdown",
   "id": "ff69d4fa-4fc9-41cb-8ece-33e677e3ae4b",
   "metadata": {},
   "source": [
    "### 5. Display the distribution of (some of) numerical variables as histograms. Provide verbal comments on the graph."
   ]
  },
  {
   "cell_type": "code",
   "execution_count": 109,
   "id": "87d0430a-69e9-45c3-8b71-c176ed5cc19e",
   "metadata": {},
   "outputs": [
    {
     "name": "stderr",
     "output_type": "stream",
     "text": [
      "C:\\Users\\br1gi\\anaconda3\\Lib\\site-packages\\seaborn\\_oldcore.py:1119: FutureWarning: use_inf_as_na option is deprecated and will be removed in a future version. Convert inf values to NaN before operating instead.\n",
      "  with pd.option_context('mode.use_inf_as_na', True):\n"
     ]
    },
    {
     "data": {
      "image/png": "[encoded data removed]",
      "text/plain": [
       "<Figure size 500x500 with 1 Axes>"
      ]
     },
     "metadata": {},
     "output_type": "display_data"
    }
   ],
   "source": [
    "# Histogram for Loan amount of the applicant\n",
    "sns.displot(df['loan_amount'], kde=True)\n",
    "plt.title('Distribution of loan_amount')\n",
    "plt.xlabel('loan_amount')\n",
    "plt.ylabel('Frequency')\n",
    "plt.show()"
   ]
  },
  {
   "cell_type": "markdown",
   "id": "15b1852d-fbc1-4a89-8e65-2f7bac6de60a",
   "metadata": {},
   "source": [
    "#### The above histogram shows the distribution of the loan amount of the applicants."
   ]
  },
  {
   "cell_type": "code",
   "execution_count": 111,
   "id": "910da9cb-7a60-49ca-b4b0-bd27d0635149",
   "metadata": {},
   "outputs": [
    {
     "name": "stderr",
     "output_type": "stream",
     "text": [
      "C:\\Users\\br1gi\\anaconda3\\Lib\\site-packages\\seaborn\\_oldcore.py:1119: FutureWarning: use_inf_as_na option is deprecated and will be removed in a future version. Convert inf values to NaN before operating instead.\n",
      "  with pd.option_context('mode.use_inf_as_na', True):\n"
     ]
    },
    {
     "data": {
      "image/png": "[encoded data removed]",
      "text/plain": [
       "<Figure size 500x500 with 1 Axes>"
      ]
     },
     "metadata": {},
     "output_type": "display_data"
    }
   ],
   "source": [
    "# Histogram for Applicant income of the applicant\n",
    "sns.displot(df['applicant_income'], kde=True)\n",
    "plt.title('Distribution of applicant_income')\n",
    "plt.xlabel('applicant_income')\n",
    "plt.ylabel('Frequency')\n",
    "plt.show()"
   ]
  },
  {
   "cell_type": "markdown",
   "id": "23572425-e8ef-4f40-81b6-628b3d73b6e8",
   "metadata": {},
   "source": [
    "#### The above histogram shows the distribution of the income of the applicants."
   ]
  },
  {
   "cell_type": "code",
   "execution_count": 115,
   "id": "dcded349-70bd-4cc4-a8db-5d7edb72df02",
   "metadata": {},
   "outputs": [
    {
     "name": "stderr",
     "output_type": "stream",
     "text": [
      "C:\\Users\\br1gi\\anaconda3\\Lib\\site-packages\\seaborn\\_oldcore.py:1119: FutureWarning: use_inf_as_na option is deprecated and will be removed in a future version. Convert inf values to NaN before operating instead.\n",
      "  with pd.option_context('mode.use_inf_as_na', True):\n"
     ]
    },
    {
     "data": {
      "image/png": "[encoded data removed]",
      "text/plain": [
       "<Figure size 500x500 with 1 Axes>"
      ]
     },
     "metadata": {},
     "output_type": "display_data"
    }
   ],
   "source": [
    "# Histogram for Monthly income of the applicant\n",
    "sns.displot(df['monthly_income'], kde=True)\n",
    "plt.title('Distribution of monthly_income')\n",
    "plt.xlabel('monthly_income')\n",
    "plt.ylabel('Frequency')\n",
    "plt.show()"
   ]
  },
  {
   "cell_type": "markdown",
   "id": "abc39070-c5bb-421b-9707-d797e1a85b98",
   "metadata": {},
   "source": [
    "#### The above histogram shows the distribution of the monthly income of the applicants."
   ]
  },
  {
   "cell_type": "markdown",
   "id": "1ecd3008-1aed-4ea9-a751-9f7f08be3936",
   "metadata": {},
   "source": [
    "### 6. Display unique values of a categorical variable."
   ]
  },
  {
   "cell_type": "code",
   "execution_count": 119,
   "id": "3b640758-afb4-43dc-9418-04264d6edb00",
   "metadata": {},
   "outputs": [
    {
     "data": {
      "text/plain": [
       "array(['white', 'black', 'hispan'], dtype=object)"
      ]
     },
     "execution_count": 119,
     "metadata": {},
     "output_type": "execute_result"
    }
   ],
   "source": [
    "# Find all the unique values in the race cloumn (Unique races)\n",
    "df.race.unique() "
   ]
  },
  {
   "cell_type": "markdown",
   "id": "d5044aa7-fa10-4573-b326-c42996f6037c",
   "metadata": {},
   "source": [
    "#### White, Black and Hispan are the different types of races of the applicants."
   ]
  },
  {
   "cell_type": "code",
   "execution_count": 122,
   "id": "3db214c7-61d8-4ecb-b852-1f086b9a7816",
   "metadata": {},
   "outputs": [
    {
     "data": {
      "text/plain": [
       "array([128,  66, 120, 111, 141, 276, 100, 267, 175,  95, 158, 110,  40,\n",
       "        70, 168, 114, 349, 185, 126, 125, 130, 109, 200,  17, 208, 187,\n",
       "        76, 121, 133, 140, 115, 252, 104, 315, 116, 632, 112,  78, 151,\n",
       "       152,  59, 147,  80, 280, 310, 345,  90, 191, 123, 122,  68, 134,\n",
       "        72, 138, 248,  99,   2, 132, 162, 150,  94,  35,  50, 180, 732,\n",
       "       201, 183, 170, 166,  74, 124, 106, 131, 320, 192, 101, 155, 300,\n",
       "       235,  65, 144, 135, 184, 149, 450,  47,  48, 160,  75,  28, 350,\n",
       "        85,  91,  96,  88,  44,  56, 182,  86, 129, 105, 137, 290, 199,\n",
       "       148, 237,  53,  49, 275,  57, 230,  83,  26, 108, 286,  55,  97,\n",
       "       287, 164, 145, 176, 165, 304, 136, 258, 156,  84, 312, 190, 172,\n",
       "        82,  93,  81, 113, 118,  60, 167,  98, 265, 264,  87, 210,  71,\n",
       "       146,  30,  25,  89,  92, 188, 203, 240, 189, 102, 297, 281, 107,\n",
       "       278, 225, 400, 139, 216, 232, 127,  79, 490, 154, 186, 224, 159,\n",
       "       163, 259, 360, 153, 322, 194, 207, 257, 370, 650,  77, 119, 390,\n",
       "       242, 500, 256, 250, 215,  62,  61, 214, 244, 600, 143, 480, 255,\n",
       "       103, 352, 171,  63, 700, 157, 495, 221, 213,  51,  67,  73, 260,\n",
       "        58, 117, 181, 268, 299, 142,  42, 425, 220, 550, 219, 330, 272,\n",
       "       177, 279, 284, 209, 436,  54, 274, 980, 313, 285, 396, 169, 212,\n",
       "        69,  43, 289, 348, 173, 336, 239, 376, 204, 412, 179, 161,  46,\n",
       "        45, 228, 308,  64, 270, 288, 236, 570, 380, 296, 338, 231, 198,\n",
       "       426, 218, 178, 226, 206, 405, 750, 234, 227,  27,  34, 223, 373,\n",
       "       246, 460, 800, 243, 311,  29, 196, 324, 211,   9, 262, 205,  36,\n",
       "       254, 484, 197, 292,  41,  20, 496, 253], dtype=int64)"
      ]
     },
     "execution_count": 122,
     "metadata": {},
     "output_type": "execute_result"
    }
   ],
   "source": [
    "# Find all the unique values in the loan_amount column (Unique Loan amounts)\n",
    "df.loan_amount.unique() "
   ]
  },
  {
   "cell_type": "markdown",
   "id": "0563a316-2209-43ad-ac62-33b0b4633c17",
   "metadata": {},
   "source": [
    "#### The above list are all of the unique loan amounts of the applicants in $1000s."
   ]
  },
  {
   "cell_type": "markdown",
   "id": "d136ab49-3048-4a3a-85b4-63cfecd7e1c9",
   "metadata": {},
   "source": [
    "### 7. Build a contingency table of two potentially related categorical variables. Conduct a statistical test of the independence between the variables. Provide verbal comments on the output."
   ]
  },
  {
   "cell_type": "markdown",
   "id": "f5cef63c-3416-4f29-ad24-5f505b8b19c8",
   "metadata": {},
   "source": [
    "#### The contingency table represents the observed frequencies of co-occurrences of different categorical variables."
   ]
  },
  {
   "cell_type": "code",
   "execution_count": 131,
   "id": "c1367718-f902-4e8c-a35a-aac2861681f9",
   "metadata": {},
   "outputs": [
    {
     "data": {
      "text/html": [
       "<div>\n",
       "<style scoped>\n",
       "    .dataframe tbody tr th:only-of-type {\n",
       "        vertical-align: middle;\n",
       "    }\n",
       "\n",
       "    .dataframe tbody tr th {\n",
       "        vertical-align: top;\n",
       "    }\n",
       "\n",
       "    .dataframe thead th {\n",
       "        text-align: right;\n",
       "    }\n",
       "</style>\n",
       "<table border=\"1\" class=\"dataframe\">\n",
       "  <thead>\n",
       "    <tr style=\"text-align: right;\">\n",
       "      <th>loan_decision</th>\n",
       "      <th>approve</th>\n",
       "      <th>reject</th>\n",
       "    </tr>\n",
       "    <tr>\n",
       "      <th>race</th>\n",
       "      <th></th>\n",
       "      <th></th>\n",
       "    </tr>\n",
       "  </thead>\n",
       "  <tbody>\n",
       "    <tr>\n",
       "      <th>black</th>\n",
       "      <td>131</td>\n",
       "      <td>64</td>\n",
       "    </tr>\n",
       "    <tr>\n",
       "      <th>hispan</th>\n",
       "      <td>82</td>\n",
       "      <td>26</td>\n",
       "    </tr>\n",
       "    <tr>\n",
       "      <th>white</th>\n",
       "      <td>1514</td>\n",
       "      <td>152</td>\n",
       "    </tr>\n",
       "  </tbody>\n",
       "</table>\n",
       "</div>"
      ],
      "text/plain": [
       "loan_decision  approve  reject\n",
       "race                          \n",
       "black              131      64\n",
       "hispan              82      26\n",
       "white             1514     152"
      ]
     },
     "execution_count": 131,
     "metadata": {},
     "output_type": "execute_result"
    }
   ],
   "source": [
    "# Contingency Table for the categorical variables 'race' and 'loan_decision'\n",
    "cont_table1 = pd.crosstab(df['race'], df['loan_decision'])\n",
    "cont_table1 "
   ]
  },
  {
   "cell_type": "code",
   "execution_count": 135,
   "id": "710d72ee-1add-45ca-880a-37d30ec487b9",
   "metadata": {},
   "outputs": [
    {
     "data": {
      "text/plain": [
       "<Axes: xlabel='race'>"
      ]
     },
     "execution_count": 135,
     "metadata": {},
     "output_type": "execute_result"
    },
    {
     "data": {
      "image/png": "[encoded data removed]",
      "text/plain": [
       "<Figure size 640x480 with 1 Axes>"
      ]
     },
     "metadata": {},
     "output_type": "display_data"
    }
   ],
   "source": [
    "# Plot Contingency Table 1\n",
    "cont_table1.plot(kind=\"bar\", stacked=True, rot=0)"
   ]
  },
  {
   "cell_type": "markdown",
   "id": "e2e6e96a-2166-4e2a-950c-4bb33668a8ed",
   "metadata": {},
   "source": [
    "#### The Contingency table 1 show how often different values of the categorical variables 'race' and 'loan_decision' cooccur. It shows that 1514 white, 82 hispan, 131 black applicants have been approved with their loans. Whereas 152 white, 26 hispan, 64 black applicants have been rejected with their applications."
   ]
  },
  {
   "cell_type": "code",
   "execution_count": 138,
   "id": "58dd93d2-73dd-4721-8ab0-513eb1845571",
   "metadata": {},
   "outputs": [
    {
     "data": {
      "text/html": [
       "<div>\n",
       "<style scoped>\n",
       "    .dataframe tbody tr th:only-of-type {\n",
       "        vertical-align: middle;\n",
       "    }\n",
       "\n",
       "    .dataframe tbody tr th {\n",
       "        vertical-align: top;\n",
       "    }\n",
       "\n",
       "    .dataframe thead th {\n",
       "        text-align: right;\n",
       "    }\n",
       "</style>\n",
       "<table border=\"1\" class=\"dataframe\">\n",
       "  <thead>\n",
       "    <tr style=\"text-align: right;\">\n",
       "      <th>loan_decision</th>\n",
       "      <th>approve</th>\n",
       "      <th>reject</th>\n",
       "    </tr>\n",
       "    <tr>\n",
       "      <th>gender</th>\n",
       "      <th></th>\n",
       "      <th></th>\n",
       "    </tr>\n",
       "  </thead>\n",
       "  <tbody>\n",
       "    <tr>\n",
       "      <th>female</th>\n",
       "      <td>318</td>\n",
       "      <td>50</td>\n",
       "    </tr>\n",
       "    <tr>\n",
       "      <th>male</th>\n",
       "      <td>1409</td>\n",
       "      <td>192</td>\n",
       "    </tr>\n",
       "  </tbody>\n",
       "</table>\n",
       "</div>"
      ],
      "text/plain": [
       "loan_decision  approve  reject\n",
       "gender                        \n",
       "female             318      50\n",
       "male              1409     192"
      ]
     },
     "execution_count": 138,
     "metadata": {},
     "output_type": "execute_result"
    }
   ],
   "source": [
    "# Contingency Table for the categorical variables 'gender' and 'loan_decision'\n",
    "cont_table2 = pd.crosstab(df['gender'], df['loan_decision'])\n",
    "cont_table2 "
   ]
  },
  {
   "cell_type": "code",
   "execution_count": 142,
   "id": "9e359ecb-4546-4caa-8f5e-10d9924d3175",
   "metadata": {},
   "outputs": [
    {
     "data": {
      "text/plain": [
       "<Axes: xlabel='gender'>"
      ]
     },
     "execution_count": 142,
     "metadata": {},
     "output_type": "execute_result"
    },
    {
     "data": {
      "image/png": "[encoded data removed]",
      "text/plain": [
       "<Figure size 640x480 with 1 Axes>"
      ]
     },
     "metadata": {},
     "output_type": "display_data"
    }
   ],
   "source": [
    "# Plot Contingency Table 2\n",
    "cont_table2.plot(kind=\"bar\", stacked=True, rot=0) "
   ]
  },
  {
   "cell_type": "markdown",
   "id": "62c6a419-2549-4b4b-88b4-1f988f10a3c1",
   "metadata": {},
   "source": [
    "#### The Contingency table 2 show how often different values of the categorical variables 'gender' and 'loan_decision' cooccur.It shows that 1409 male and 318 female applicants have been approved with their loans. Whereas 192 male and 50 female applicants have been rejected with their applications."
   ]
  },
  {
   "cell_type": "code",
   "execution_count": 149,
   "id": "bccdf741-71c6-4ba0-b966-4111263e2c53",
   "metadata": {},
   "outputs": [
    {
     "data": {
      "text/html": [
       "<div>\n",
       "<style scoped>\n",
       "    .dataframe tbody tr th:only-of-type {\n",
       "        vertical-align: middle;\n",
       "    }\n",
       "\n",
       "    .dataframe tbody tr th {\n",
       "        vertical-align: top;\n",
       "    }\n",
       "\n",
       "    .dataframe thead th {\n",
       "        text-align: right;\n",
       "    }\n",
       "</style>\n",
       "<table border=\"1\" class=\"dataframe\">\n",
       "  <thead>\n",
       "    <tr style=\"text-align: right;\">\n",
       "      <th>loan_decision</th>\n",
       "      <th>approve</th>\n",
       "      <th>reject</th>\n",
       "    </tr>\n",
       "    <tr>\n",
       "      <th>self_employed</th>\n",
       "      <th></th>\n",
       "      <th></th>\n",
       "    </tr>\n",
       "  </thead>\n",
       "  <tbody>\n",
       "    <tr>\n",
       "      <th>False</th>\n",
       "      <td>1510</td>\n",
       "      <td>202</td>\n",
       "    </tr>\n",
       "    <tr>\n",
       "      <th>True</th>\n",
       "      <td>217</td>\n",
       "      <td>40</td>\n",
       "    </tr>\n",
       "  </tbody>\n",
       "</table>\n",
       "</div>"
      ],
      "text/plain": [
       "loan_decision  approve  reject\n",
       "self_employed                 \n",
       "False             1510     202\n",
       "True               217      40"
      ]
     },
     "execution_count": 149,
     "metadata": {},
     "output_type": "execute_result"
    }
   ],
   "source": [
    "# Contingency Table for the categorical variables 'self_employed' and 'loan'\n",
    "cont_table3 = pd.crosstab(df['self_employed'], df['loan_decision'])\n",
    "cont_table3"
   ]
  },
  {
   "cell_type": "code",
   "execution_count": 151,
   "id": "ed7cd4fa-c493-49bd-bf7b-49214ff39ea3",
   "metadata": {},
   "outputs": [
    {
     "data": {
      "text/plain": [
       "<Axes: xlabel='self_employed'>"
      ]
     },
     "execution_count": 151,
     "metadata": {},
     "output_type": "execute_result"
    },
    {
     "data": {
      "image/png": "[encoded data removed]",
      "text/plain": [
       "<Figure size 640x480 with 1 Axes>"
      ]
     },
     "metadata": {},
     "output_type": "display_data"
    }
   ],
   "source": [
    "# Plot Contingency Table 3\n",
    "cont_table3.plot(kind=\"bar\", stacked=True, rot=0)"
   ]
  },
  {
   "cell_type": "markdown",
   "id": "14171c8b-04e7-4584-b125-7cfb9a6fe715",
   "metadata": {},
   "source": [
    "#### The Contingency table 3 show how often different values of the categorical variables 'self_employed' and 'loan_decision' co-occur.It shows that 217 self-employed and 1510 not self-employed applicants have been approved with their loans. Whereas 40 self-employed and 202 not self-employed applicants have been rejected with their applications."
   ]
  },
  {
   "cell_type": "code",
   "execution_count": 154,
   "id": "bbf8aff9-e8ca-46aa-899b-7345c2c83334",
   "metadata": {},
   "outputs": [
    {
     "data": {
      "text/html": [
       "<div>\n",
       "<style scoped>\n",
       "    .dataframe tbody tr th:only-of-type {\n",
       "        vertical-align: middle;\n",
       "    }\n",
       "\n",
       "    .dataframe tbody tr th {\n",
       "        vertical-align: top;\n",
       "    }\n",
       "\n",
       "    .dataframe thead th {\n",
       "        text-align: right;\n",
       "    }\n",
       "</style>\n",
       "<table border=\"1\" class=\"dataframe\">\n",
       "  <thead>\n",
       "    <tr style=\"text-align: right;\">\n",
       "      <th>loan_decision</th>\n",
       "      <th>approve</th>\n",
       "      <th>reject</th>\n",
       "    </tr>\n",
       "    <tr>\n",
       "      <th>married</th>\n",
       "      <th></th>\n",
       "      <th></th>\n",
       "    </tr>\n",
       "  </thead>\n",
       "  <tbody>\n",
       "    <tr>\n",
       "      <th>False</th>\n",
       "      <td>569</td>\n",
       "      <td>102</td>\n",
       "    </tr>\n",
       "    <tr>\n",
       "      <th>True</th>\n",
       "      <td>1158</td>\n",
       "      <td>140</td>\n",
       "    </tr>\n",
       "  </tbody>\n",
       "</table>\n",
       "</div>"
      ],
      "text/plain": [
       "loan_decision  approve  reject\n",
       "married                       \n",
       "False              569     102\n",
       "True              1158     140"
      ]
     },
     "execution_count": 154,
     "metadata": {},
     "output_type": "execute_result"
    }
   ],
   "source": [
    "# Contingency Table for the categorical variables 'married' and 'loan_decision'\n",
    "cont_table4 = pd.crosstab(df['married'], df['loan_decision'])\n",
    "cont_table4 "
   ]
  },
  {
   "cell_type": "code",
   "execution_count": 156,
   "id": "ae093a3c-13a2-4b9d-8a6d-1d046abc7a65",
   "metadata": {},
   "outputs": [
    {
     "data": {
      "text/plain": [
       "<Axes: xlabel='married'>"
      ]
     },
     "execution_count": 156,
     "metadata": {},
     "output_type": "execute_result"
    },
    {
     "data": {
      "image/png": "[encoded data removed]",
      "text/plain": [
       "<Figure size 640x480 with 1 Axes>"
      ]
     },
     "metadata": {},
     "output_type": "display_data"
    }
   ],
   "source": [
    "# Plot Contingency Table 4\n",
    "cont_table4.plot(kind=\"bar\", stacked=True, rot=0) "
   ]
  },
  {
   "cell_type": "markdown",
   "id": "ff593507-bf3e-444a-8391-61b52eaee303",
   "metadata": {},
   "source": [
    "#### The Contingency table 4 show how often different values of the categorical variables 'married' and 'loan_decision' co-occur.It shows that 1158 married and 569 unmarried applicants have been approved with their loans. Whereas 140 married and 102 unmarried applicants have been rejected with their applications."
   ]
  },
  {
   "cell_type": "code",
   "execution_count": 161,
   "id": "aee75996-9c9e-42e4-9113-41ea2a4e63fa",
   "metadata": {},
   "outputs": [
    {
     "name": "stdout",
     "output_type": "stream",
     "text": [
      "p-value: 1.1422552252120337e-23\n"
     ]
    }
   ],
   "source": [
    "# Run chi2 test on Contingency Table 1\n",
    "chi2, p_val, dof, expected = stats.chi2_contingency(cont_table1)\n",
    "print(f\"p-value: {p_val}\")"
   ]
  },
  {
   "cell_type": "markdown",
   "id": "826aa1e0-d8c8-4666-b0b8-277d1c048d70",
   "metadata": {},
   "source": [
    "#### The p-value is less than the usual significance level of 0.05. Therefore, we need to reject the null hypothesis that there is no dependence between the race and loan decision. Therefore the loans of applicants is approved or rejected based on their race."
   ]
  },
  {
   "cell_type": "code",
   "execution_count": 177,
   "id": "7c5eb9a7-e9fb-4be0-a991-1e62df2bb924",
   "metadata": {},
   "outputs": [
    {
     "name": "stdout",
     "output_type": "stream",
     "text": [
      "p-value: 0.45204922056492614\n"
     ]
    }
   ],
   "source": [
    "# Run chi2 test on Contingency Table 2\n",
    "chi2, p_val, dof, expected = stats.chi2_contingency(cont_table2)\n",
    "print(f\"p-value: {p_val}\")"
   ]
  },
  {
   "cell_type": "markdown",
   "id": "51972b08-2ed6-4102-b0d1-e5e5875cbb93",
   "metadata": {},
   "source": [
    "#### The p-value is greater than the usual significance level of 0.05. Therefore, we do not need to reject the null hypothesis that there is no dependence between the gender and loan decision. Therefore the loans of applicants is not approved or rejected based on their gender."
   ]
  },
  {
   "cell_type": "code",
   "execution_count": 180,
   "id": "6f7ad5de-0049-4f01-8378-24324ff096da",
   "metadata": {},
   "outputs": [
    {
     "name": "stdout",
     "output_type": "stream",
     "text": [
      "p-value: 0.10688538967672208\n"
     ]
    }
   ],
   "source": [
    "# Run chi2 test on Contingency Table 3\n",
    "chi2, p_val, dof, expected = stats.chi2_contingency(cont_table3)\n",
    "print(f\"p-value: {p_val}\")"
   ]
  },
  {
   "cell_type": "markdown",
   "id": "4583f8df-15dc-4355-9841-253c9b03a24e",
   "metadata": {},
   "source": [
    "#### The p-value is greater than the usual significance level of 0.05. Therefore, we do not need to reject the null hypothesis that there is no dependence between the employment status and loan decision. Therefore the loans of applicants is not approved or rejected based on their employment status, if they are self employed or not."
   ]
  },
  {
   "cell_type": "code",
   "execution_count": 182,
   "id": "60e8c65a-d02d-4b03-a7e7-4bfe3870eecb",
   "metadata": {},
   "outputs": [
    {
     "name": "stdout",
     "output_type": "stream",
     "text": [
      "p-value: 0.0058521778331842664\n"
     ]
    }
   ],
   "source": [
    "# Run chi2 test on Contingency Table 4\n",
    "chi2, p_val, dof, expected = stats.chi2_contingency(cont_table4)\n",
    "print(f\"p-value: {p_val}\")"
   ]
  },
  {
   "cell_type": "markdown",
   "id": "ef077537-0bf3-4f50-8ab7-e3b93389cd7f",
   "metadata": {},
   "source": [
    "#### The p-value is less than the usual significance level of 0.05. Therefore, we need to reject the null hypothesis that there is no dependence between the marital status and loan decision. Therefore the loans of applicants is approved or rejected based on their marital status, if they are married or not."
   ]
  },
  {
   "cell_type": "markdown",
   "id": "00808e55-4fff-4818-abc4-52c8332e9408",
   "metadata": {},
   "source": [
    "### 8. Retrieve a subset of the data based on two or more criteria and present descriptive statistics on the subset. Provide verbal comments on the output."
   ]
  },
  {
   "cell_type": "code",
   "execution_count": 187,
   "id": "cf6c86db-2a46-47bf-a948-da08bdebf40c",
   "metadata": {},
   "outputs": [
    {
     "data": {
      "text/html": [
       "<div>\n",
       "<style scoped>\n",
       "    .dataframe tbody tr th:only-of-type {\n",
       "        vertical-align: middle;\n",
       "    }\n",
       "\n",
       "    .dataframe tbody tr th {\n",
       "        vertical-align: top;\n",
       "    }\n",
       "\n",
       "    .dataframe thead th {\n",
       "        text-align: right;\n",
       "    }\n",
       "</style>\n",
       "<table border=\"1\" class=\"dataframe\">\n",
       "  <thead>\n",
       "    <tr style=\"text-align: right;\">\n",
       "      <th></th>\n",
       "      <th>gender</th>\n",
       "      <th>loan_amount</th>\n",
       "      <th>applicant_income</th>\n",
       "      <th>loan_decision</th>\n",
       "    </tr>\n",
       "  </thead>\n",
       "  <tbody>\n",
       "    <tr>\n",
       "      <th>0</th>\n",
       "      <td>male</td>\n",
       "      <td>128</td>\n",
       "      <td>74</td>\n",
       "      <td>reject</td>\n",
       "    </tr>\n",
       "    <tr>\n",
       "      <th>1</th>\n",
       "      <td>male</td>\n",
       "      <td>128</td>\n",
       "      <td>84</td>\n",
       "      <td>approve</td>\n",
       "    </tr>\n",
       "    <tr>\n",
       "      <th>2</th>\n",
       "      <td>male</td>\n",
       "      <td>66</td>\n",
       "      <td>36</td>\n",
       "      <td>approve</td>\n",
       "    </tr>\n",
       "    <tr>\n",
       "      <th>3</th>\n",
       "      <td>male</td>\n",
       "      <td>120</td>\n",
       "      <td>59</td>\n",
       "      <td>approve</td>\n",
       "    </tr>\n",
       "    <tr>\n",
       "      <th>4</th>\n",
       "      <td>male</td>\n",
       "      <td>111</td>\n",
       "      <td>63</td>\n",
       "      <td>approve</td>\n",
       "    </tr>\n",
       "    <tr>\n",
       "      <th>...</th>\n",
       "      <td>...</td>\n",
       "      <td>...</td>\n",
       "      <td>...</td>\n",
       "      <td>...</td>\n",
       "    </tr>\n",
       "    <tr>\n",
       "      <th>1983</th>\n",
       "      <td>male</td>\n",
       "      <td>158</td>\n",
       "      <td>96</td>\n",
       "      <td>approve</td>\n",
       "    </tr>\n",
       "    <tr>\n",
       "      <th>1984</th>\n",
       "      <td>male</td>\n",
       "      <td>35</td>\n",
       "      <td>169</td>\n",
       "      <td>approve</td>\n",
       "    </tr>\n",
       "    <tr>\n",
       "      <th>1985</th>\n",
       "      <td>male</td>\n",
       "      <td>225</td>\n",
       "      <td>49</td>\n",
       "      <td>approve</td>\n",
       "    </tr>\n",
       "    <tr>\n",
       "      <th>1986</th>\n",
       "      <td>male</td>\n",
       "      <td>98</td>\n",
       "      <td>110</td>\n",
       "      <td>approve</td>\n",
       "    </tr>\n",
       "    <tr>\n",
       "      <th>1987</th>\n",
       "      <td>female</td>\n",
       "      <td>133</td>\n",
       "      <td>55</td>\n",
       "      <td>reject</td>\n",
       "    </tr>\n",
       "  </tbody>\n",
       "</table>\n",
       "<p>1969 rows × 4 columns</p>\n",
       "</div>"
      ],
      "text/plain": [
       "      gender  loan_amount  applicant_income loan_decision\n",
       "0       male          128                74        reject\n",
       "1       male          128                84       approve\n",
       "2       male           66                36       approve\n",
       "3       male          120                59       approve\n",
       "4       male          111                63       approve\n",
       "...      ...          ...               ...           ...\n",
       "1983    male          158                96       approve\n",
       "1984    male           35               169       approve\n",
       "1985    male          225                49       approve\n",
       "1986    male           98               110       approve\n",
       "1987  female          133                55        reject\n",
       "\n",
       "[1969 rows x 4 columns]"
      ]
     },
     "execution_count": 187,
     "metadata": {},
     "output_type": "execute_result"
    }
   ],
   "source": [
    "# Retrieve a subset containing 'gender', 'loan-amount', 'applicant_income' and 'loan_decision'\n",
    "subset = df[['gender','loan_amount','applicant_income','loan_decision']]\n",
    "subset "
   ]
  },
  {
   "cell_type": "markdown",
   "id": "b19e1b9a-8b46-417f-9231-e1debff9a16e",
   "metadata": {},
   "source": [
    "#### A subset containing the gender, loan amount, applicant income and loan decision of the applicants has been created."
   ]
  },
  {
   "cell_type": "code",
   "execution_count": 192,
   "id": "c2418f41-5a27-4c2b-a975-40d02ceb52d8",
   "metadata": {},
   "outputs": [
    {
     "data": {
      "text/html": [
       "<div>\n",
       "<style scoped>\n",
       "    .dataframe tbody tr th:only-of-type {\n",
       "        vertical-align: middle;\n",
       "    }\n",
       "\n",
       "    .dataframe tbody tr th {\n",
       "        vertical-align: top;\n",
       "    }\n",
       "\n",
       "    .dataframe thead th {\n",
       "        text-align: right;\n",
       "    }\n",
       "</style>\n",
       "<table border=\"1\" class=\"dataframe\">\n",
       "  <thead>\n",
       "    <tr style=\"text-align: right;\">\n",
       "      <th></th>\n",
       "      <th>loan_amount</th>\n",
       "      <th>applicant_income</th>\n",
       "    </tr>\n",
       "  </thead>\n",
       "  <tbody>\n",
       "    <tr>\n",
       "      <th>count</th>\n",
       "      <td>1969.000000</td>\n",
       "      <td>1969.000000</td>\n",
       "    </tr>\n",
       "    <tr>\n",
       "      <th>mean</th>\n",
       "      <td>143.505333</td>\n",
       "      <td>84.908075</td>\n",
       "    </tr>\n",
       "    <tr>\n",
       "      <th>std</th>\n",
       "      <td>80.802291</td>\n",
       "      <td>87.439115</td>\n",
       "    </tr>\n",
       "    <tr>\n",
       "      <th>min</th>\n",
       "      <td>2.000000</td>\n",
       "      <td>0.000000</td>\n",
       "    </tr>\n",
       "    <tr>\n",
       "      <th>25%</th>\n",
       "      <td>100.000000</td>\n",
       "      <td>48.000000</td>\n",
       "    </tr>\n",
       "    <tr>\n",
       "      <th>50%</th>\n",
       "      <td>126.000000</td>\n",
       "      <td>64.000000</td>\n",
       "    </tr>\n",
       "    <tr>\n",
       "      <th>75%</th>\n",
       "      <td>165.000000</td>\n",
       "      <td>88.000000</td>\n",
       "    </tr>\n",
       "    <tr>\n",
       "      <th>max</th>\n",
       "      <td>980.000000</td>\n",
       "      <td>972.000000</td>\n",
       "    </tr>\n",
       "  </tbody>\n",
       "</table>\n",
       "</div>"
      ],
      "text/plain": [
       "       loan_amount  applicant_income\n",
       "count  1969.000000       1969.000000\n",
       "mean    143.505333         84.908075\n",
       "std      80.802291         87.439115\n",
       "min       2.000000          0.000000\n",
       "25%     100.000000         48.000000\n",
       "50%     126.000000         64.000000\n",
       "75%     165.000000         88.000000\n",
       "max     980.000000        972.000000"
      ]
     },
     "execution_count": 192,
     "metadata": {},
     "output_type": "execute_result"
    }
   ],
   "source": [
    "# Descriptive statistics of the subset retrieved\n",
    "subset.describe() "
   ]
  },
  {
   "cell_type": "markdown",
   "id": "55e8934c-1b54-4a31-9bd3-7667c7682b2f",
   "metadata": {},
   "source": [
    "#### The basic descriptive statistics of the columns loan amount and applicant income are shown in the table. The mean loan amount of all applicants is 143.5, whereas the mean income of all applicants is only 84.9. The maximum loan amount from the data is 980, whereas the minimum loan amount from the data is 2."
   ]
  },
  {
   "cell_type": "markdown",
   "id": "335107ef-2f42-4bfc-bd61-c6e825bba56a",
   "metadata": {},
   "source": [
    "### 9. Conduct a statistical test of the significance of the difference between the means of two subsets of the data. Provide verbal comments."
   ]
  },
  {
   "cell_type": "markdown",
   "id": "f9c7318f-627e-40a4-8c34-8fa9b32b6119",
   "metadata": {},
   "source": [
    "#### Independent Sample t-test 1"
   ]
  },
  {
   "cell_type": "code",
   "execution_count": 224,
   "id": "24d88ab8-1539-432d-9bac-68d96830057c",
   "metadata": {},
   "outputs": [
    {
     "data": {
      "text/plain": [
       "148.79325421611492"
      ]
     },
     "execution_count": 224,
     "metadata": {},
     "output_type": "execute_result"
    }
   ],
   "source": [
    "# Select the loan amount of 'male'\n",
    "m = df[subset['gender'] == 'male']['loan_amount']\n",
    "\n",
    "# mean loan amount\n",
    "m.mean() "
   ]
  },
  {
   "cell_type": "code",
   "execution_count": 228,
   "id": "2979ca91-d504-4a72-a302-4e758d793dfd",
   "metadata": {},
   "outputs": [
    {
     "data": {
      "text/plain": [
       "120.5"
      ]
     },
     "execution_count": 228,
     "metadata": {},
     "output_type": "execute_result"
    }
   ],
   "source": [
    "# Select the loan amount of 'female'\n",
    "f = df[subset['gender'] == 'female']['loan_amount']\n",
    "\n",
    "# mean loan amount\n",
    "f.mean() "
   ]
  },
  {
   "cell_type": "markdown",
   "id": "6b314953-b9d3-4494-9aa7-bb8a3a6c243f",
   "metadata": {},
   "source": [
    "#### The first Independent sample t-test is conducted to determine if there is a significant difference between the means of the population gender, male and female. Here \"m\" is taken as the mean loan amount of all male applicants.Similarly \"f\" for all female applicants. Here the null hypothesis is that the difference between the means of loan amounts of male and female applicants is 0 or no difference. The alternative hypothesis would be that the means are significantly lower or higher than each other."
   ]
  },
  {
   "cell_type": "code",
   "execution_count": 231,
   "id": "15ef0e2e-9b7f-4d2a-a280-be15390bf0db",
   "metadata": {},
   "outputs": [
    {
     "name": "stdout",
     "output_type": "stream",
     "text": [
      "t-value: 6.112681794453549, p-value: 1.1782503145167685e-09\n"
     ]
    }
   ],
   "source": [
    "# Calculate the test statistic\n",
    "t_val, p_val = stats.ttest_ind(m,f)\n",
    "print(f\"t-value: {t_val}, p-value: {p_val}\") "
   ]
  },
  {
   "cell_type": "markdown",
   "id": "8ddfdc58-f750-4a59-b311-106d25e0c857",
   "metadata": {},
   "source": [
    "#### Here the p-value is less than the signifance level 0.05 (p-value < 0.05) Therefore we reject the null hypothesis that mean loan amount of males is not different from females."
   ]
  },
  {
   "cell_type": "markdown",
   "id": "d77fd276-6304-4539-b51c-6364b8639389",
   "metadata": {},
   "source": [
    "#### Independent Sample t-test 2"
   ]
  },
  {
   "cell_type": "code",
   "execution_count": 237,
   "id": "7959050f-08a7-4a64-99e2-dde8b92f0cfd",
   "metadata": {},
   "outputs": [
    {
     "data": {
      "text/plain": [
       "84.10191082802548"
      ]
     },
     "execution_count": 237,
     "metadata": {},
     "output_type": "execute_result"
    }
   ],
   "source": [
    "# Selct the applicant income of approved loans\n",
    "a = df[subset['loan_decision'] == 'approve']['applicant_income']\n",
    "\n",
    "# mean applicant income\n",
    "a.mean() "
   ]
  },
  {
   "cell_type": "code",
   "execution_count": 241,
   "id": "5da2ebf2-16c2-48b6-b603-8aeea0509819",
   "metadata": {},
   "outputs": [
    {
     "data": {
      "text/plain": [
       "90.66115702479338"
      ]
     },
     "execution_count": 241,
     "metadata": {},
     "output_type": "execute_result"
    }
   ],
   "source": [
    "# Select the applicant income of rejected loans\n",
    "r = df[subset['loan_decision'] == 'reject']['applicant_income']\n",
    "# mean applicant income\n",
    "r.mean() "
   ]
  },
  {
   "cell_type": "markdown",
   "id": "09349d3e-3fc9-45a4-9fef-db9b6a5b728d",
   "metadata": {},
   "source": [
    "#### The second Independent sample t-test is conducted to determine if there is a significant difference between the means of the population loan decisions. Here \"a\" is taken as the mean applicant income of approved loans.Similarly \"r\" for all rejected loans. Here the null hypothesis is that the difference between the means of approved and rejected loans is 0 or no difference. The alternative hypothesis would be that the means are significantly lower or higher than each other."
   ]
  },
  {
   "cell_type": "code",
   "execution_count": 244,
   "id": "2ce79b32-8962-4eec-8f09-42f6f661e381",
   "metadata": {},
   "outputs": [
    {
     "name": "stdout",
     "output_type": "stream",
     "text": [
      "t-value: -1.0929508672464752, p-value: 0.27454920793283455\n"
     ]
    }
   ],
   "source": [
    "# Calculate the test statistic\n",
    "t_val, p_val = stats.ttest_ind(a,r)\n",
    "print(f\"t-value: {t_val}, p-value: {p_val}\") "
   ]
  },
  {
   "cell_type": "markdown",
   "id": "e312fb35-a456-4bfc-8cab-342a0e1447db",
   "metadata": {},
   "source": [
    "#### Here the p-value is greater than the signifance level 0.05 (p-value < 0.05) Therefore we do not need to reject the null hypothesis that mean loan applicant income of approved loans is different from the mean applicant income of rejected loans."
   ]
  },
  {
   "cell_type": "markdown",
   "id": "1ff9360e-42ef-434b-b0c5-c2af9efc337f",
   "metadata": {},
   "source": [
    "### 10. Create pivot tables, i.e., create a table that groups the data by a certain categorical variable and displays summaries for each categorical variable. Provide verbal comments."
   ]
  },
  {
   "cell_type": "code",
   "execution_count": 251,
   "id": "a43e1811-0e0b-4106-8b83-16e2f2a6d627",
   "metadata": {},
   "outputs": [
    {
     "data": {
      "text/html": [
       "<div>\n",
       "<style scoped>\n",
       "    .dataframe tbody tr th:only-of-type {\n",
       "        vertical-align: middle;\n",
       "    }\n",
       "\n",
       "    .dataframe tbody tr th {\n",
       "        vertical-align: top;\n",
       "    }\n",
       "\n",
       "    .dataframe thead th {\n",
       "        text-align: right;\n",
       "    }\n",
       "</style>\n",
       "<table border=\"1\" class=\"dataframe\">\n",
       "  <thead>\n",
       "    <tr style=\"text-align: right;\">\n",
       "      <th></th>\n",
       "      <th>loan_amount</th>\n",
       "    </tr>\n",
       "    <tr>\n",
       "      <th>gender</th>\n",
       "      <th></th>\n",
       "    </tr>\n",
       "  </thead>\n",
       "  <tbody>\n",
       "    <tr>\n",
       "      <th>female</th>\n",
       "      <td>120.500000</td>\n",
       "    </tr>\n",
       "    <tr>\n",
       "      <th>male</th>\n",
       "      <td>148.793254</td>\n",
       "    </tr>\n",
       "  </tbody>\n",
       "</table>\n",
       "</div>"
      ],
      "text/plain": [
       "        loan_amount\n",
       "gender             \n",
       "female   120.500000\n",
       "male     148.793254"
      ]
     },
     "execution_count": 251,
     "metadata": {},
     "output_type": "execute_result"
    }
   ],
   "source": [
    "# Create Pivot tables between categorical variables 'gender' and 'loan_amount'\n",
    "pivot1 = df.pivot_table(index=['gender'], values=['loan_amount'], aggfunc='mean')\n",
    "pivot1 "
   ]
  },
  {
   "cell_type": "markdown",
   "id": "5ac83438-7855-469c-b806-1f1d39ff1a33",
   "metadata": {},
   "source": [
    "#### Pivot Table 1 is used to represent the summarise the categorical variable 'loan_amount' in relation to 'gender'. It shows that the average loan amount of female applicants is 120.5. Whereas the average loan amount of male applicants is 148.8."
   ]
  },
  {
   "cell_type": "code",
   "execution_count": 253,
   "id": "39b02aa3-9557-4ba0-95f0-571f19060575",
   "metadata": {},
   "outputs": [
    {
     "data": {
      "text/html": [
       "<div>\n",
       "<style scoped>\n",
       "    .dataframe tbody tr th:only-of-type {\n",
       "        vertical-align: middle;\n",
       "    }\n",
       "\n",
       "    .dataframe tbody tr th {\n",
       "        vertical-align: top;\n",
       "    }\n",
       "\n",
       "    .dataframe thead th {\n",
       "        text-align: right;\n",
       "    }\n",
       "</style>\n",
       "<table border=\"1\" class=\"dataframe\">\n",
       "  <thead>\n",
       "    <tr style=\"text-align: right;\">\n",
       "      <th></th>\n",
       "      <th>loan_amount</th>\n",
       "    </tr>\n",
       "    <tr>\n",
       "      <th>married</th>\n",
       "      <th></th>\n",
       "    </tr>\n",
       "  </thead>\n",
       "  <tbody>\n",
       "    <tr>\n",
       "      <th>False</th>\n",
       "      <td>122.991058</td>\n",
       "    </tr>\n",
       "    <tr>\n",
       "      <th>True</th>\n",
       "      <td>154.110169</td>\n",
       "    </tr>\n",
       "  </tbody>\n",
       "</table>\n",
       "</div>"
      ],
      "text/plain": [
       "         loan_amount\n",
       "married             \n",
       "False     122.991058\n",
       "True      154.110169"
      ]
     },
     "execution_count": 253,
     "metadata": {},
     "output_type": "execute_result"
    }
   ],
   "source": [
    "# Create Pivot tables between categorical variables 'married' and 'loan_amount'\n",
    "pivot2 = df.pivot_table(index=['married'], values=['loan_amount'], aggfunc='mean')\n",
    "pivot2 "
   ]
  },
  {
   "cell_type": "markdown",
   "id": "5db72553-5c61-404e-bac4-196d038fbfd9",
   "metadata": {},
   "source": [
    "#### Pivot Table 2 is used to represent the summarise the categorical variable 'loan_amount' in relation to 'gender'. It shows that the average loan amount of unmarried applicants is 122.9.Whereas the average loan amount of male applicants is 154.1."
   ]
  },
  {
   "cell_type": "code",
   "execution_count": 257,
   "id": "ef672823-5207-49e9-8273-a50e2fb95a66",
   "metadata": {},
   "outputs": [
    {
     "data": {
      "text/html": [
       "<div>\n",
       "<style scoped>\n",
       "    .dataframe tbody tr th:only-of-type {\n",
       "        vertical-align: middle;\n",
       "    }\n",
       "\n",
       "    .dataframe tbody tr th {\n",
       "        vertical-align: top;\n",
       "    }\n",
       "\n",
       "    .dataframe thead th {\n",
       "        text-align: right;\n",
       "    }\n",
       "</style>\n",
       "<table border=\"1\" class=\"dataframe\">\n",
       "  <thead>\n",
       "    <tr style=\"text-align: right;\">\n",
       "      <th></th>\n",
       "      <th>loan_amount</th>\n",
       "    </tr>\n",
       "    <tr>\n",
       "      <th>race</th>\n",
       "      <th></th>\n",
       "    </tr>\n",
       "  </thead>\n",
       "  <tbody>\n",
       "    <tr>\n",
       "      <th>black</th>\n",
       "      <td>136.630769</td>\n",
       "    </tr>\n",
       "    <tr>\n",
       "      <th>hispan</th>\n",
       "      <td>130.777778</td>\n",
       "    </tr>\n",
       "    <tr>\n",
       "      <th>white</th>\n",
       "      <td>145.135054</td>\n",
       "    </tr>\n",
       "  </tbody>\n",
       "</table>\n",
       "</div>"
      ],
      "text/plain": [
       "        loan_amount\n",
       "race               \n",
       "black    136.630769\n",
       "hispan   130.777778\n",
       "white    145.135054"
      ]
     },
     "execution_count": 257,
     "metadata": {},
     "output_type": "execute_result"
    }
   ],
   "source": [
    "# Create Pivot tables between categorical variables 'race' and 'loan_amount'\n",
    "pivot3 = df.pivot_table(index=['race'], values=['loan_amount'], aggfunc='mean')\n",
    "pivot3 "
   ]
  },
  {
   "cell_type": "markdown",
   "id": "b7c9510b-579a-43b1-98fb-70f763d91e09",
   "metadata": {},
   "source": [
    "#### Pivot Table 3 is used to represent the summarise the categorical variable 'loan_amount' in relation to 'gender'. It shows that the average loan amount of white applicants is 145.1. Whereas the average loan amount of black and hispan applicants are 136.6 and 130.7."
   ]
  },
  {
   "cell_type": "code",
   "execution_count": 260,
   "id": "243d49d2-2c00-4a2b-9409-857e339cca63",
   "metadata": {},
   "outputs": [
    {
     "data": {
      "text/html": [
       "<div>\n",
       "<style scoped>\n",
       "    .dataframe tbody tr th:only-of-type {\n",
       "        vertical-align: middle;\n",
       "    }\n",
       "\n",
       "    .dataframe tbody tr th {\n",
       "        vertical-align: top;\n",
       "    }\n",
       "\n",
       "    .dataframe thead th {\n",
       "        text-align: right;\n",
       "    }\n",
       "</style>\n",
       "<table border=\"1\" class=\"dataframe\">\n",
       "  <thead>\n",
       "    <tr style=\"text-align: right;\">\n",
       "      <th></th>\n",
       "      <th>loan_amount</th>\n",
       "    </tr>\n",
       "    <tr>\n",
       "      <th>self_employed</th>\n",
       "      <th></th>\n",
       "    </tr>\n",
       "  </thead>\n",
       "  <tbody>\n",
       "    <tr>\n",
       "      <th>False</th>\n",
       "      <td>138.962033</td>\n",
       "    </tr>\n",
       "    <tr>\n",
       "      <th>True</th>\n",
       "      <td>173.770428</td>\n",
       "    </tr>\n",
       "  </tbody>\n",
       "</table>\n",
       "</div>"
      ],
      "text/plain": [
       "               loan_amount\n",
       "self_employed             \n",
       "False           138.962033\n",
       "True            173.770428"
      ]
     },
     "execution_count": 260,
     "metadata": {},
     "output_type": "execute_result"
    }
   ],
   "source": [
    "# Create Pivot tables between categorical variables 'self_employed' and 'loan_amount'\n",
    "pivot4 = df.pivot_table(index=['self_employed'], values=['loan_amount'], aggfunc='mean')\n",
    "pivot4 "
   ]
  },
  {
   "cell_type": "markdown",
   "id": "4f4b4092-e272-4b05-ba8c-3b770a4b40d0",
   "metadata": {},
   "source": [
    "#### Pivot Table 4 is used to represent the summarise the categorical variable 'loan_amount' in relation to 'gender'. It shows that the average loan amount of not self-employed applicants is 138.9. Whereas the average loan amount of self − employed applicants is 173.7"
   ]
  },
  {
   "cell_type": "markdown",
   "id": "dea8eeec-cbe1-4cb6-a564-f2f0a412906b",
   "metadata": {},
   "source": [
    "### 11. Implement a linear regression model and interpret its output."
   ]
  },
  {
   "cell_type": "markdown",
   "id": "b308a168-320a-4436-aaf2-d586bc8c6ee0",
   "metadata": {},
   "source": [
    "#### In a simple linear regression model, we’d like to predict the loan amount of a loan applicant from the average income of the applicants applyied for the loan. That is, loan amount is the dependent variable (Y) and applicant income is the independent variable (X)."
   ]
  },
  {
   "cell_type": "code",
   "execution_count": 274,
   "id": "7ba77d7f-7988-4f21-9218-71e8ee6cb2cb",
   "metadata": {},
   "outputs": [
    {
     "data": {
      "text/html": [
       "\n",
       "  <div id=\"db8f5454-3d7d-424e-bacf-c0f5b8159036\" data-root-id=\"p1001\" style=\"display: contents;\"></div>\n"
      ]
     },
     "metadata": {},
     "output_type": "display_data"
    },
    {
     "data": {
      "application/javascript": [
       "(function(root) {\n",
       "  function embed_document(root) {\n",
       "  const docs_json = {\"dece4fc2-5d60-40da-926f-0fe734f6b41c\":{\"version\":\"3.3.0\",\"title\":\"Bokeh Application\",\"roots\":[{\"type\":\"object\",\"name\":\"Figure\",\"id\":\"p1001\",\"attributes\":{\"width\":400,\"height\":400,\"x_range\":{\"type\":\"object\",\"name\":\"DataRange1d\",\"id\":\"p1002\"},\"y_range\":{\"type\":\"object\",\"name\":\"DataRange1d\",\"id\":\"p1003\"},\"x_scale\":{\"type\":\"object\",\"name\":\"LinearScale\",\"id\":\"p1010\"},\"y_scale\":{\"type\":\"object\",\"name\":\"LinearScale\",\"id\":\"p1011\"},\"title\":{\"type\":\"object\",\"name\":\"Title\",\"id\":\"p1008\"},\"renderers\":[{\"type\":\"object\",\"name\":\"GlyphRenderer\",\"id\":\"p1035\",\"attributes\":{\"data_source\":{\"type\":\"object\",\"name\":\"ColumnDataSource\",\"id\":\"p1029\",\"attributes\":{\"selected\":{\"type\":\"object\",\"name\":\"Selection\",\"id\":\"p1030\",\"attributes\":{\"indices\":[],\"line_indices\":[]}},\"selection_policy\":{\"type\":\"object\",\"name\":\"UnionRenderers\",\"id\":\"p1031\"},\"data\":{\"type\":\"map\",\"entries\":[[\"x\",{\"type\":\"ndarray\",\"array\":{\"type\":\"bytes\",\"data\":\"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\"},\"shape\":[1969],\"dtype\":\"int32\",\"order\":\"little\"}],[\"y\",{\"type\":\"ndarray\",\"array\":{\"type\":\"bytes\",\"data\":\"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\"},\"shape\":[1969],\"dtype\":\"int32\",\"order\":\"little\"}]]}}},\"view\":{\"type\":\"object\",\"name\":\"CDSView\",\"id\":\"p1036\",\"attributes\":{\"filter\":{\"type\":\"object\",\"name\":\"AllIndices\",\"id\":\"p1037\"}}},\"glyph\":{\"type\":\"object\",\"name\":\"Circle\",\"id\":\"p1032\",\"attributes\":{\"x\":{\"type\":\"field\",\"field\":\"x\"},\"y\":{\"type\":\"field\",\"field\":\"y\"},\"line_color\":{\"type\":\"value\",\"value\":\"#1f77b4\"},\"fill_color\":{\"type\":\"value\",\"value\":\"#1f77b4\"}}},\"nonselection_glyph\":{\"type\":\"object\",\"name\":\"Circle\",\"id\":\"p1033\",\"attributes\":{\"x\":{\"type\":\"field\",\"field\":\"x\"},\"y\":{\"type\":\"field\",\"field\":\"y\"},\"line_color\":{\"type\":\"value\",\"value\":\"#1f77b4\"},\"line_alpha\":{\"type\":\"value\",\"value\":0.1},\"fill_color\":{\"type\":\"value\",\"value\":\"#1f77b4\"},\"fill_alpha\":{\"type\":\"value\",\"value\":0.1},\"hatch_alpha\":{\"type\":\"value\",\"value\":0.1}}},\"muted_glyph\":{\"type\":\"object\",\"name\":\"Circle\",\"id\":\"p1034\",\"attributes\":{\"x\":{\"type\":\"field\",\"field\":\"x\"},\"y\":{\"type\":\"field\",\"field\":\"y\"},\"line_color\":{\"type\":\"value\",\"value\":\"#1f77b4\"},\"line_alpha\":{\"type\":\"value\",\"value\":0.2},\"fill_color\":{\"type\":\"value\",\"value\":\"#1f77b4\"},\"fill_alpha\":{\"type\":\"value\",\"value\":0.2},\"hatch_alpha\":{\"type\":\"value\",\"value\":0.2}}}}}],\"toolbar\":{\"type\":\"object\",\"name\":\"Toolbar\",\"id\":\"p1009\",\"attributes\":{\"tools\":[{\"type\":\"object\",\"name\":\"PanTool\",\"id\":\"p1022\"},{\"type\":\"object\",\"name\":\"WheelZoomTool\",\"id\":\"p1023\",\"attributes\":{\"renderers\":\"auto\"}},{\"type\":\"object\",\"name\":\"BoxZoomTool\",\"id\":\"p1024\",\"attributes\":{\"overlay\":{\"type\":\"object\",\"name\":\"BoxAnnotation\",\"id\":\"p1025\",\"attributes\":{\"syncable\":false,\"level\":\"overlay\",\"visible\":false,\"left_units\":\"canvas\",\"right_units\":\"canvas\",\"top_units\":\"canvas\",\"bottom_units\":\"canvas\",\"line_color\":\"black\",\"line_alpha\":1.0,\"line_width\":2,\"line_dash\":[4,4],\"fill_color\":\"lightgrey\",\"fill_alpha\":0.5}}}},{\"type\":\"object\",\"name\":\"SaveTool\",\"id\":\"p1026\"},{\"type\":\"object\",\"name\":\"ResetTool\",\"id\":\"p1027\"},{\"type\":\"object\",\"name\":\"HelpTool\",\"id\":\"p1028\"}]}},\"left\":[{\"type\":\"object\",\"name\":\"LinearAxis\",\"id\":\"p1017\",\"attributes\":{\"ticker\":{\"type\":\"object\",\"name\":\"BasicTicker\",\"id\":\"p1018\",\"attributes\":{\"mantissas\":[1,2,5]}},\"formatter\":{\"type\":\"object\",\"name\":\"BasicTickFormatter\",\"id\":\"p1019\"},\"major_label_policy\":{\"type\":\"object\",\"name\":\"AllLabels\",\"id\":\"p1020\"}}}],\"below\":[{\"type\":\"object\",\"name\":\"LinearAxis\",\"id\":\"p1012\",\"attributes\":{\"ticker\":{\"type\":\"object\",\"name\":\"BasicTicker\",\"id\":\"p1013\",\"attributes\":{\"mantissas\":[1,2,5]}},\"formatter\":{\"type\":\"object\",\"name\":\"BasicTickFormatter\",\"id\":\"p1014\"},\"major_label_policy\":{\"type\":\"object\",\"name\":\"AllLabels\",\"id\":\"p1015\"}}}],\"center\":[{\"type\":\"object\",\"name\":\"Grid\",\"id\":\"p1016\",\"attributes\":{\"axis\":{\"id\":\"p1012\"}}},{\"type\":\"object\",\"name\":\"Grid\",\"id\":\"p1021\",\"attributes\":{\"dimension\":1,\"axis\":{\"id\":\"p1017\"}}}]}}]}};\n",
       "  const render_items = [{\"docid\":\"dece4fc2-5d60-40da-926f-0fe734f6b41c\",\"roots\":{\"p1001\":\"db8f5454-3d7d-424e-bacf-c0f5b8159036\"},\"root_ids\":[\"p1001\"]}];\n",
       "  root.Bokeh.embed.embed_items_notebook(docs_json, render_items);\n",
       "  }\n",
       "  if (root.Bokeh !== undefined) {\n",
       "    embed_document(root);\n",
       "  } else {\n",
       "    let attempts = 0;\n",
       "    const timer = setInterval(function(root) {\n",
       "      if (root.Bokeh !== undefined) {\n",
       "        clearInterval(timer);\n",
       "        embed_document(root);\n",
       "      } else {\n",
       "        attempts++;\n",
       "        if (attempts > 100) {\n",
       "          clearInterval(timer);\n",
       "          console.log(\"Bokeh: ERROR: Unable to run BokehJS code because BokehJS library is missing\");\n",
       "        }\n",
       "      }\n",
       "    }, 10, root)\n",
       "  }\n",
       "})(window);"
      ],
      "application/vnd.bokehjs_exec.v0+json": ""
     },
     "metadata": {
      "application/vnd.bokehjs_exec.v0+json": {
       "id": "p1001"
      }
     },
     "output_type": "display_data"
    }
   ],
   "source": [
    "#  Visualize relationship between 'applicant_income' and 'loan_amount'\n",
    "fig = figure(height=400, width=400)\n",
    "fig.circle(df['applicant_income'], df['loan_amount'])\n",
    "show(fig)"
   ]
  },
  {
   "cell_type": "markdown",
   "id": "a22c8eb7-b69c-4a98-b0bf-ba1acdbb698d",
   "metadata": {},
   "source": [
    "#### The visualisation shows the relationship between the loan amount and income of the applicants. The plots are scatter throughout the plane and are also congested at a part of the plane."
   ]
  },
  {
   "cell_type": "code",
   "execution_count": 277,
   "id": "656b6201-57ab-48ad-909e-3f141923ae46",
   "metadata": {},
   "outputs": [
    {
     "data": {
      "text/plain": [
       "0.43271137519859754"
      ]
     },
     "execution_count": 277,
     "metadata": {},
     "output_type": "execute_result"
    }
   ],
   "source": [
    "# Check Correlation between 'applicant_income' and 'loan_amount'\n",
    "df['applicant_income'].corr(df['loan_amount'], method='pearson') "
   ]
  },
  {
   "cell_type": "markdown",
   "id": "4b4b7ceb-3c9a-4b84-85f0-f8df42de3da9",
   "metadata": {},
   "source": [
    "#### The Pearson correlation coeefficient also shows that there is a positive relationship between them."
   ]
  },
  {
   "cell_type": "code",
   "execution_count": 295,
   "id": "2d0d53ec-acf5-4a92-bfa5-8e7fe3e0c614",
   "metadata": {},
   "outputs": [],
   "source": [
    "# Create a model to build linear regression\n",
    "model = sm.OLS.from_formula('loan_amount ~ applicant_income', data=df).fit() "
   ]
  },
  {
   "cell_type": "code",
   "execution_count": 303,
   "id": "2e6f5cd8-6ef4-4410-a40d-9b1633196d38",
   "metadata": {},
   "outputs": [
    {
     "name": "stdout",
     "output_type": "stream",
     "text": [
      "109.55334282656563\n",
      "0.3998676187583275\n"
     ]
    }
   ],
   "source": [
    "# Obtain slope and intercept\n",
    "intercept, slope = model.params\n",
    "print(intercept)\n",
    "print(slope)"
   ]
  },
  {
   "cell_type": "code",
   "execution_count": 305,
   "id": "f506d84b-a0cf-4231-8db8-e7f707bba9cc",
   "metadata": {},
   "outputs": [],
   "source": [
    "# Obtain the predicted values\n",
    "y_pred = [slope*i + intercept  for i in df['applicant_income']] "
   ]
  },
  {
   "cell_type": "code",
   "execution_count": 307,
   "id": "36ab9b8e-120d-4d2d-9c87-f25817c595b2",
   "metadata": {
    "scrolled": true
   },
   "outputs": [
    {
     "data": {
      "text/html": [
       "\n",
       "  <div id=\"f6fa9593-32b1-4df5-a94a-905867e945a5\" data-root-id=\"p1040\" style=\"display: contents;\"></div>\n"
      ]
     },
     "metadata": {},
     "output_type": "display_data"
    },
    {
     "data": {
      "application/javascript": [
       "(function(root) {\n",
       "  function embed_document(root) {\n",
       "  const docs_json = {\"5fb2527d-fb16-4e05-aadb-84169910da4a\":{\"version\":\"3.3.0\",\"title\":\"Bokeh Application\",\"roots\":[{\"type\":\"object\",\"name\":\"Figure\",\"id\":\"p1040\",\"attributes\":{\"width\":400,\"height\":400,\"x_range\":{\"type\":\"object\",\"name\":\"DataRange1d\",\"id\":\"p1041\"},\"y_range\":{\"type\":\"object\",\"name\":\"DataRange1d\",\"id\":\"p1042\"},\"x_scale\":{\"type\":\"object\",\"name\":\"LinearScale\",\"id\":\"p1049\"},\"y_scale\":{\"type\":\"object\",\"name\":\"LinearScale\",\"id\":\"p1050\"},\"title\":{\"type\":\"object\",\"name\":\"Title\",\"id\":\"p1047\"},\"renderers\":[{\"type\":\"object\",\"name\":\"GlyphRenderer\",\"id\":\"p1074\",\"attributes\":{\"data_source\":{\"type\":\"object\",\"name\":\"ColumnDataSource\",\"id\":\"p1068\",\"attributes\":{\"selected\":{\"type\":\"object\",\"name\":\"Selection\",\"id\":\"p1069\",\"attributes\":{\"indices\":[],\"line_indices\":[]}},\"selection_policy\":{\"type\":\"object\",\"name\":\"UnionRenderers\",\"id\":\"p1070\"},\"data\":{\"type\":\"map\",\"entries\":[[\"x\",{\"type\":\"ndarray\",\"array\":{\"type\":\"bytes\",\"data\":\"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\"},\"shape\":[1969],\"dtype\":\"int32\",\"order\":\"little\"}],[\"y\",{\"type\":\"ndarray\",\"array\":{\"type\":\"bytes\",\"data\":\"gAAAAIAAAABCAAAAeAAAAG8AAACNAAAAFAEAAGQAAAALAQAArwAAAF8AAACeAAAAbgAAACgAAABGAAAAqAAAAHIAAABdAQAAuQAAAH4AAABkAAAARgAAAH0AAACCAAAAbQAAAMgAAAByAAAAEQAAANAAAAB9AAAAuwAAAGQAAABkAAAATAAAAHkAAACFAAAAjAAAAEYAAABzAAAA/AAAAGgAAABkAAAAZAAAADsBAAB0AAAAeAIAAHAAAABwAAAATgAAAJcAAABzAAAAmAAAADsAAACTAAAAUAAAAIIAAAAYAQAArwAAALsAAAA2AQAAWQEAAFoAAABzAAAAvwAAAHsAAAB6AAAARAAAAIAAAACGAAAASAAAAG4AAACKAAAA+AAAAGMAAAC7AAAAWgAAAIIAAAACAAAAhAAAAKIAAAAoAAAAlgAAAF4AAAAjAAAAeAAAADIAAAC0AAAA3AIAAMkAAAC3AAAAqgAAAKYAAABKAAAAfAAAAGoAAAByAAAAgwAAAEABAADAAAAAZQAAAEQAAACbAAAAyAAAAHMAAAB+AAAALAEAAOsAAABBAAAAkAAAAIcAAAC4AAAAZAAAAG4AAACVAAAAwgEAAFAAAAAvAAAAMAAAAKAAAABLAAAAHAAAALsAAAC0AAAAZAAAAIQAAACgAAAAhgAAAF4BAABVAAAAWwAAAH0AAABgAAAAWAAAACwAAABkAAAAOAAAALYAAABWAAAAgQAAAJAAAABpAAAAeAAAAIkAAACgAAAAIgEAAEYAAACQAAAAxwAAAJQAAADtAAAAZAAAAFoAAAB4AAAAZAAAADUAAAAwAAAAMQAAAIoAAACMAAAAcAAAAEYAAABWAAAANQAAAIwAAAATAQAALAEAAIwAAABwAAAAiQAAADkAAADmAAAAfQAAAEsAAAC7AAAAhgAAAFMAAAAaAAAA+AAAAMAAAABsAAAAmAAAAB4BAACeAAAANwAAAIwAAABlAAAAmAAAAHwAAAC7AAAAYQAAAGAAAAB8AAAAhwAAALQAAACQAAAAHwEAAKQAAACRAAAAsAAAAMIBAAB4AAAAYwAAAKUAAAC5AAAAggAAAFoAAAB0AAAAaQAAAJMAAABfAAAAdAAAAJgAAACHAAAAMAEAAIoAAABkAAAAbgAAAHQAAACIAAAALAAAAAIBAABaAAAAYQAAAH4AAACcAAAAyAAAAFQAAAC5AAAAOAEAAL4AAAA7AQAASwAAAKIAAAB9AAAAYAAAAFAAAACIAAAAbAAAAKwAAABSAAAAYQAAAIoAAABdAAAAUQAAAJcAAABfAAAAYAAAAGQAAAC7AAAAfAAAAHEAAACwAAAAdgAAAHMAAABuAAAAuwAAAIcAAABtAAAAtAAAAIIAAABvAAAAPAAAAKcAAAC7AAAAYgAAALsAAACIAAAAtgAAAAkBAAAIAQAAMgAAAFcAAABaAAAAsAAAAIgAAABjAAAARgAAAGgAAACBAAAAfAAAADcAAACHAAAAEwEAANIAAABHAAAAoAAAAHQAAABQAAAAggAAAH0AAABgAAAAkgAAAB4AAACMAAAAcwAAABkAAAB9AAAAkQAAALAAAABZAAAAfQAAAI0AAABQAAAAWgAAAK8AAACEAAAAXAAAAIIAAABeAAAAmwAAAIMAAACCAAAAvAAAAFEAAADIAAAAhgAAAHoAAACwAAAAWgAAABkAAADLAAAAiQAAAHgAAAB8AAAAkAAAAIcAAABuAAAAMgAAAHMAAAB9AAAA8AAAANIAAAC9AAAAsAAAAMgAAACsAAAAfQAAAIMAAABmAAAAhQAAALwAAABsAAAAfQAAAJcAAAApAQAAigAAAIcAAACQAAAAGQEAAHMAAACYAAAAggAAALsAAABtAAAAvAAAAGsAAACUAAAAfgAAABYBAABfAAAAZAAAAEEAAADhAAAAeAAAAHsAAACqAAAAhwAAAJABAACLAAAAVwAAANIAAABxAAAA2AAAAOgAAAA8AAAAggAAAOYAAABeAAAAiAAAAJAAAACLAAAAdgAAAH8AAABGAAAAmAAAAKoAAABPAAAAgwAAAJYAAABkAAAAbwAAAHYAAADqAQAAmwAAALkAAACwAAAAUgAAAJoAAABVAAAAjAAAALoAAABqAAAApgAAAF8AAABkAAAAgwAAADIAAACHAAAA4AAAAFIAAACfAAAAZgAAALkAAACjAAAArwAAAAMBAACWAAAAZAAAAJgAAAC0AAAAWgAAAGgBAAC5AAAALAAAAIkAAABRAAAAaAAAADwAAACSAAAA2AAAAJkAAABCAQAAwgAAAM8AAAC8AAAAsAAAAF0AAACRAAAAlQAAAAEBAABpAAAAcgEAAIIAAACDAAAAoAAAAGYAAABBAAAAhwAAAGoAAAB9AAAAtAAAAEYAAAAJAQAAiAAAAJYAAABrAAAAOAAAALYAAABfAAAAaAAAAFMAAACKAgAAhwAAAE0AAADIAAAASgAAAPwAAACCAAAAqgAAAGgAAABGAAAAdwAAAOEAAABlAAAAGQAAAIYBAACoAAAAVwAAALkAAABmAAAAIgEAAFQAAABkAAAAWAAAAPIAAACBAAAAbAAAAPQBAAB7AAAAuQAAAKgAAABuAAAAAAEAAIwAAAB4AAAA+gAAAK8AAACWAAAAZAAAAHoAAAC7AAAAfgAAAHoAAADXAAAAqgAAAKgAAABkAAAAPgAAAEYAAAA9AAAAHgAAAOEAAAB9AAAAgAAAAHAAAACWAAAAeQAAANYAAAC6AAAAvAAAAHYAAACYAAAAMgAAAPQAAABxAAAAmQAAAIMAAAAyAAAAWAIAAEQAAABxAAAAjwAAAOABAACgAAAAQQAAALsAAABKAAAAyAAAAHgAAAB0AAAAMgAAAHgAAAA4AAAAsAAAAP8AAABqAAAASwAAAEYAAACKAAAAZwAAAGsAAACAAAAAYgAAAMgAAAATAQAAdwAAAIAAAAB5AAAAkAEAAHgAAACMAAAAYAEAAJ4AAACqAAAASwAAAKUAAAC2AAAAZAAAAKsAAABwAAAAgQAAAD8AAADIAAAAXwAAACwBAABwAAAAbAAAALwCAABRAAAAXQAAAFoAAABmAAAAbgAAAHoAAACJAAAAWAAAALsAAAByAAAAewAAAEsAAABnAAAAoAAAAOgAAACdAAAAqwAAAFcAAAC3AAAAggAAAHQAAAC0AAAAZQAAAFwAAADvAQAAUAAAAHIAAABoAAAA3QAAAHcAAAB0AAAAfAAAAGUAAABwAAAAaQAAANUAAABpAAAAfQAAAEYAAAAyAAAAQQAAAFAAAAA7AAAAZgAAAPoAAAAzAAAAtAAAAEMAAACJAAAASQAAAAQBAABAAQAAbAAAAHgAAABCAAAAmQAAADoAAACoAAAAWgAAANIAAAC8AAAAuQAAAEQAAACSAAAAhwAAALsAAAAwAAAAmAAAACwBAACkAAAAoAAAAEwAAACPAAAAeAAAAHUAAABHAAAA4QAAAHgAAACqAAAAuwAAAEYAAABcAAAAeAAAAEYAAABxAAAAngAAAFMAAABaAAAAlAAAAGwAAACmAAAAZAAAALsAAABpAAAAiAAAAGMAAAC5AAAAWgAAALwAAABaAAAAegAAAIcAAACWAAAAmAAAAHwAAAB4AAAAUAAAAE0AAABGAAAAnwAAADcAAAA7AAAAfgAAAGkAAAB/AAAAfAAAALUAAAA3AAAAoAAAAGQAAADWAAAAngAAAH4AAACAAAAAaAAAAPAAAABwAAAAggAAAIkAAAAyAAAAhAAAAEEAAABkAAAATQAAAIcAAABsAAAAcwAAAJQAAACDAAAAbgAAAGkAAABxAAAALAEAAJABAABIAAAADAEAAH8AAABaAAAAPAAAAFMAAACWAAAAfQAAAFgCAABoAAAAkwAAAHQAAACQAAAAdAAAAK8AAAArAQAArwAAAK8AAACAAAAAqgAAAGoAAABxAAAAigAAAHwAAABfAAAAeAAAANIAAAA3AAAAyAAAAFoAAACOAAAAaAAAAGQAAAB2AAAAKgAAAHgAAABnAAAAqQEAAG4AAABsAAAAdwAAABgBAACgAAAAjAAAAJAAAABsAAAAMgAAAHQAAADcAAAAqgAAAJYAAAD/AAAAZAAAAHoAAACLAAAAcAAAACYCAABgAAAAigAAAAQBAAB4AAAA2wAAAJYAAAB4AAAAjAAAAIwAAAAoAAAAjAAAAOYAAACMAAAASgEAAJsAAABsAAAAdgAAAIIAAACHAAAAewAAAN0AAAB4AAAAcAAAAFoAAAAQAQAAxwAAAIsAAACJAAAAfQAAAKYAAACWAAAAoAAAAHsAAABaAAAAdAAAALQAAAAxAAAAqAAAANgAAABxAAAAbAAAALEAAADJAAAAigAAAH4AAABpAAAAyQAAAG4AAABoAAAAlAAAABcBAADAAAAAHAEAAP8AAACoAAAAdwAAAHMAAAC0AAAAaQAAADIAAAB1AAAAXgAAAEgAAADqAQAAfQAAAGQAAAAwAQAALAEAAFgAAADWAAAAlgAAAIAAAABKAQAAOQAAAIUAAACGAAAAiwAAAJsAAAB4AAAAgAAAAGQAAAD6AAAAlwAAAIwAAACWAAAAuwAAAHsAAABfAAAAjwAAAKAAAACHAAAAWgAAAPoAAADRAAAAWQAAAB4AAABtAAAAyAAAAIgAAAB+AAAAuQAAAJYAAABsAAAAWgAAAFoAAADXAAAAWgAAAHMAAAC6AAAAOwAAAM8AAABQAAAASgEAAFQAAAC0AQAAfAAAAHQAAACeAAAAQQAAAEQAAACqAAAAcAAAAE4AAACWAAAANgAAAGQAAAASAQAAZwAAAFAAAABVAAAAqgAAAFkAAABjAAAAeAAAALYAAACMAAAABAEAAI8AAABzAAAArwAAAHgAAAA+AAAAuwAAAIsAAACQAAAAfwAAAJkAAACGAAAA1AMAADkAAACHAAAAmQAAAI8AAAB0AAAArAAAAHIAAABuAAAAXgAAAEsAAAA5AQAAyAAAAIcAAACXAAAAmwAAAB0BAACiAAAATwAAAIcAAABuAAAAqgAAAHEAAABdAAAAYQAAAFsAAAC1AAAAXwAAAI4AAABzAAAAjAEAAGkAAACCAAAAhAAAAI8AAACQAAAAYAAAAIwAAACfAAAAtwAAAKYAAAB4AAAAbwAAAIAAAACpAAAA1AAAAIIAAABJAAAARQAAAJUAAABkAAAAhwAAAGgAAABuAAAA4AEAAJYAAAC5AAAAoAAAAPAAAAB4AAAAVAAAAHMAAABvAAAAKwAAADgAAACDAAAAkAAAAEEAAAC0AAAAIQEAAOsAAABbAAAA8gAAAEYAAACPAAAAuwAAAKAAAACMAAAAqgAAAIQAAABaAAAAHAAAAJ8AAAAYAQAAIgEAAKUAAABuAAAAlwAAAIgAAABvAAAAQQAAAFwBAACJAAAAeAAAAFgAAABqAAAASwAAAGcAAACOAAAArQAAAHAAAACiAAAAlgAAAIcAAACWAAAAqAAAAHUAAACbAAAAcwAAAFMAAAB8AAAAjAAAAIQAAADrAAAAhwAAAPgAAABQAQAAcAAAAJsAAACEAAAA7wAAAGAAAAAsAQAAiQAAAHgBAACCAAAAtAAAAIAAAABmAAAAcQAAAJAAAADMAAAAcQAAAJwBAACzAAAAggAAAIoAAACCAAAAuAAAAHQAAADLAAAAyAAAAG4AAABDAAAAkQAAAIkAAAByAAAAdwAAAH4AAAC5AAAAmAAAAHMAAAB1AAAAYgAAAGgAAABHAAAA6gEAAFgAAAC2AAAAcgAAAGwAAABGAAAAWgAAAKAAAACCAAAAoAAAAGQAAACwAAAAoQAAAEcAAACtAAAALgAAAGwAAABOAAAAngAAAFoAAACMAAAALQAAAHsAAAC7AAAAuwAAAEoAAACxAAAAfQAAAKAAAACYAAAAfgAAABgBAABYAAAAeQAAAPAAAABpAAAAAwEAALsAAADkAAAANAEAAF8AAABpAAAAggAAAHQAAABAAAAAXgAAAFUAAACSAAAApQAAALQAAABDAAAAUAAAAOQAAABiAAAAtAAAAA4BAAAgAQAAZAAAAIQAAADIAAAAUQAAAKoAAAA9AAAAPQAAAGQAAAB9AAAANwAAAMgAAAAQAQAA7AAAAJkAAACWAAAAiQAAAGQAAACCAAAAlgAAAAEBAABfAAAAggAAAI0AAACFAAAAoAAAAHYAAACWAAAAigAAAHYAAABgAAAAfAAAAGQAAACvAAAAOgIAANQAAABjAAAANwAAANQAAABfAAAAmwAAAHgAAABuAAAARgAAAHwBAADmAAAATwAAAJEAAABvAAAAZgAAAJsAAAB9AAAAbgAAAEsAAAB4AAAAbAAAAE0AAACZAAAAPAAAAHcAAADIAAAAbgAAAIIAAACrAAAAqwAAAKgAAACCAAAARwAAAIIAAACAAAAAcwAAAE8AAAAoAQAAhAAAAJwAAAAyAAAAkgAAAIAAAAA6AAAAZAAAAHEAAABpAAAAhAAAAJUAAABSAQAAPAAAAFYAAACIAAAAUAAAAPQAAADMAAAAbgAAAJsAAAB9AAAASAAAAI4AAACYAAAAWgAAALkAAAC7AAAASgAAAJQAAAB3AAAAVQAAAFIAAAATAQAAeAAAAGYAAABxAAAAcQAAAH4AAAC7AAAAbAAAAGQAAABLAAAAhwAAAGQAAAC+AAAAigAAAHMAAABHAAAAeAAAAIIAAACSAAAAXwAAAD8AAAB+AAAAbQAAAGgAAAB9AAAAZwAAAC0AAAB6AAAAbgAAAF4AAADnAAAAgwAAAIIAAABQAAAAQQAAAGcAAACKAAAAoAAAADUAAADCAAAAgAAAAHAAAACNAAAAcwAAABwAAAB8AAAAcwAAAMYAAABcAAAAaAAAALwAAACHAAAAQgAAAJgAAACwAAAAaAEAAD4AAACgAAAAUQAAAHUAAABhAAAAfgAAANwAAABmAAAAawAAAKoBAADaAAAAQgAAABkAAABLAAAAbgAAAGkAAACNAAAAsgAAALsAAAA8AAAAeAAAAGkAAACrAAAAoAAAAO8AAADiAAAAaQAAAHAAAAB9AAAAigAAAIoAAABQAAAA+gAAAHEAAABsAAAAcAAAAEAAAACWAAAA0gAAAFAAAACWAAAAfwAAAM4AAABkAAAAbgAAABgBAABgAAAAfQAAAHkAAABRAAAAhQAAAFcAAAA8AAAArwAAAJAAAAB+AAAAZAAAAEAAAAAoAAAAlgAAAJQAAABpAAAARgAAAGQAAABwAAAAjgAAAFwAAABGAAAAlQEAAI8AAABcAAAAgwAAAGQAAACYAAAAYQAAAHgAAACiAAAAuwAAAHIAAAAyAAAAewAAAFwAAAA8AAAAoAAAALsAAABpAAAAggAAALQAAACKAAAAuwAAALQAAAA3AAAAPAAAAJcAAACHAAAAlgAAAFEAAABVAAAAqwAAAJQAAAC7AAAAbgAAAGAAAACYAAAAgAAAAK8AAABkAAAAbwAAABIBAABxAAAAggAAAH0AAABLAAAA7gIAAOoAAABuAAAANwAAAJYAAAB8AAAAWgAAAHsAAAC4AAAAigAAAHAAAACWAAAAvgAAAHUAAAB9AAAAPAAAAJUAAABaAAAAMQAAAB4AAACxAAAAVAAAAOMAAABgAAAAjwAAAIwAAAAbAAAAdgAAAOEAAAAiAAAAdAAAAJEAAACVAAAALAEAAN8AAACtAAAA4QAAALQAAABEAAAAYwAAAIgAAACgAAAAhAAAALsAAABjAAAAawAAAKAAAABcAAAABAEAAH4AAADUAAAAcwAAAIAAAADwAAAAhwAAAJkAAACXAAAAhAAAAGQAAACVAAAAYwAAAGIAAACMAAAAggAAAF4AAAAvAAAAkQAAAGMAAABuAAAAYgAAAJEAAAB9AAAAbgAAACgBAAB9AAAAKAAAAPoAAAB3AAAAuwAAAJ0AAAAUAQAAXgEAAKIAAABqAAAAcQAAAG4AAABkAAAAfQAAAGQAAABdAAAAbAAAAKIAAAB1AQAAlQAAAJYAAABYAAAA5gAAAIQAAABWAAAAWQEAAF8AAACaAAAAVgAAAHEAAACAAAAAVQAAAJ0AAACxAAAA6gAAAJAAAAD2AAAAgwAAAFAAAAAZAAAA9AEAAB4AAAB2AAAAbgAAALAAAADoAAAAuQAAAHoAAACgAAAASwAAAOAAAACKAAAAYgAAAGAAAAB+AAAAugAAAHwAAACCAAAAowAAAIcAAACvAAAAegAAAGoAAADMAQAAbgAAACkBAACCAAAAlgAAAFIAAABuAAAAtwAAAAsBAACHAAAAewAAAIwAAADhAAAAkgAAAGoAAAB3AAAAaQAAAGsAAABvAAAAgAAAAGoAAABoAAAAjQAAAJUAAABpAAAAZAAAAHYAAAB3AAAAFAEAAKoAAABfAAAAfQAAANEAAABxAAAAkQAAAFoAAABkAAAAqgAAAHYAAABYAAAAgAAAACADAABUAAAAuwAAANAAAACZAAAAmAAAAIoAAAB8AAAAggAAAH0AAADzAAAAfgAAAOABAABgAAAAvAAAAIIAAABQAAAAdAAAAFMAAAB6AAAAYwAAALkAAAAoAAAAdQAAAKAAAABkAAAAhQAAAIAAAAD6AAAAQgAAAG4AAACUAAAASwAAAGsAAAC9AAAAZAAAAEYAAABaAAAAgAAAAH0AAAA3AQAAfwAAALEAAACQAAAAKAAAAEQAAACDAAAAlgAAAFcAAAC0AAAA/AAAADsAAABcAAAAcQAAAIoAAACFAAAAtAAAADAAAABxAAAAbgAAALYAAAC7AAAAlAAAAHkAAABoAAAAYwAAAIUAAACWAAAAKAAAAHkAAAB7AAAAuQAAAF8AAAB8AAAAeAAAAHsAAAAdAAAALQAAADcAAACEAAAAZAAAAOABAACQAAAAyAAAAHIAAAC5AAAAWAAAAJABAABDAAAAZAAAAFQAAABkAAAAKAAAAG4AAAChAAAAyAAAAIgAAABoAAAAcAAAAGAAAAC0AAAAkQAAAF4AAACQAQAAggAAANgAAACmAAAAkAAAAGQAAAC3AAAApAAAAG4AAADcAAAAZAAAAEYAAAB6AAAAuwAAAMQAAAB9AAAAfQAAAH4AAABpAAAARAEAAHkAAABzAAAAZAAAAGsAAABCAAAAnQAAAIwAAABkAAAAYwAAAKIAAACEAAAAkwAAAJkAAACIAAAAiAAAAEIAAABuAAAANwAAAF8AAABoAAAAgAAAAIwAAABmAAAAZAAAAJUAAACGAAAAgQAAAH4AAABkAAAAUAAAAIIAAAClAAAAmwAAAFAAAAB4AAAAggAAALsAAACRAAAAgwAAAEMAAAB9AAAAZwAAAG4AAABAAQAAPQAAAIwAAAB4AAAAlAAAAGcAAAB6AAAAngAAALUAAACLAAAAtQAAAIQAAABQAAAAKAAAABoAAABaAAAAVAAAAAQBAACAAAAAsQAAAKIAAAB6AAAAjAAAALQAAABfAAAAegAAALYAAACWAAAAlgAAAGwAAACqAAAAnwAAAGQAAACHAAAAXQAAAFgCAABQAAAAlAAAAGgAAACHAAAAfQAAAHwAAADTAAAAhAAAAH0AAACPAAAAKAAAACwBAACrAAAAbgAAACgAAAB+AAAAfgAAAHsAAAACAQAAeAAAAHkAAABMAAAARgAAAHsAAAB2AAAAywAAAAkAAABoAAAAugAAAHEAAABNAAAAZAAAAHsAAAClAAAAuwAAACMAAAAuAAAAggAAAHwAAACRAAAAZAAAABMBAAB3AAAAVwAAAKIAAABjAAAAegAAALsAAAC7AAAAlgAAAGkAAACiAAAA1wAAALsAAABsAAAAUQAAAFAAAAB9AAAAiAAAAFAAAABuAAAAngAAALAAAABrAAAABAEAAIUAAAByAQAAkAAAAAYBAABzAAAAYAAAAEYAAAA8AAAAdQAAAKEAAAC5AAAAhwAAAIkAAADNAAAAWgAAACQAAACfAAAAegAAAJgAAAA9AAAA/gAAAFUAAABqAAAAkAAAALwAAACEAAAAlgAAAHcAAABtAAAAMgAAAB4AAADkAQAAkgAAAKwAAADAAAAAsAAAAJAAAABoAAAARgAAADwAAABfAAAAeAAAAJ4AAACvAAAASwAAAFAAAABqAAAAcQAAADgAAACAAAAAcAAAAM0AAADFAAAAJAEAACkAAABVAAAAjgAAAFUAAAAEAQAAhwAAAG4AAAC7AAAAewAAAFgAAAC6AAAAtAAAABQAAAB6AAAAwAAAAF4BAACbAAAAZwAAADwAAACAAAAATAAAAIgAAACiAAAARQAAAKwAAADwAQAAPAAAAK0AAACYAAAAigAAAJ0AAABgAAAA1wAAAHgAAABkAAAAYwAAAHwAAABxAAAAZAAAAGAAAABsAAAAcwAAAGgAAAA1AAAARwAAACgAAAB+AAAAaAAAAGgAAAD9AAAAuwAAAHgAAACeAAAAIwAAAOEAAABiAAAAhQAAAA==\"},\"shape\":[1969],\"dtype\":\"int32\",\"order\":\"little\"}]]}}},\"view\":{\"type\":\"object\",\"name\":\"CDSView\",\"id\":\"p1075\",\"attributes\":{\"filter\":{\"type\":\"object\",\"name\":\"AllIndices\",\"id\":\"p1076\"}}},\"glyph\":{\"type\":\"object\",\"name\":\"Circle\",\"id\":\"p1071\",\"attributes\":{\"x\":{\"type\":\"field\",\"field\":\"x\"},\"y\":{\"type\":\"field\",\"field\":\"y\"},\"line_color\":{\"type\":\"value\",\"value\":\"#1f77b4\"},\"fill_color\":{\"type\":\"value\",\"value\":\"#1f77b4\"}}},\"nonselection_glyph\":{\"type\":\"object\",\"name\":\"Circle\",\"id\":\"p1072\",\"attributes\":{\"x\":{\"type\":\"field\",\"field\":\"x\"},\"y\":{\"type\":\"field\",\"field\":\"y\"},\"line_color\":{\"type\":\"value\",\"value\":\"#1f77b4\"},\"line_alpha\":{\"type\":\"value\",\"value\":0.1},\"fill_color\":{\"type\":\"value\",\"value\":\"#1f77b4\"},\"fill_alpha\":{\"type\":\"value\",\"value\":0.1},\"hatch_alpha\":{\"type\":\"value\",\"value\":0.1}}},\"muted_glyph\":{\"type\":\"object\",\"name\":\"Circle\",\"id\":\"p1073\",\"attributes\":{\"x\":{\"type\":\"field\",\"field\":\"x\"},\"y\":{\"type\":\"field\",\"field\":\"y\"},\"line_color\":{\"type\":\"value\",\"value\":\"#1f77b4\"},\"line_alpha\":{\"type\":\"value\",\"value\":0.2},\"fill_color\":{\"type\":\"value\",\"value\":\"#1f77b4\"},\"fill_alpha\":{\"type\":\"value\",\"value\":0.2},\"hatch_alpha\":{\"type\":\"value\",\"value\":0.2}}}}},{\"type\":\"object\",\"name\":\"GlyphRenderer\",\"id\":\"p1083\",\"attributes\":{\"data_source\":{\"type\":\"object\",\"name\":\"ColumnDataSource\",\"id\":\"p1077\",\"attributes\":{\"selected\":{\"type\":\"object\",\"name\":\"Selection\",\"id\":\"p1078\",\"attributes\":{\"indices\":[],\"line_indices\":[]}},\"selection_policy\":{\"type\":\"object\",\"name\":\"UnionRenderers\",\"id\":\"p1079\"},\"data\":{\"type\":\"map\",\"entries\":[[\"x\",{\"type\":\"ndarray\",\"array\":{\"type\":\"bytes\",\"data\":\"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\"},\"shape\":[1969],\"dtype\":\"int32\",\"order\":\"little\"}],[\"y\",[139.14354661468187,143.14222280226514,123.94857710186541,133.14553233330696,134.74500280834025,138.3438113771652,145.5414285148151,138.3438113771652,167.1342799277648,148.3405018461234,127.9472532894487,375.8651769196117,133.54539995206528,128.74698852696534,122.74897424559043,135.94460566461524,148.74036946488172,223.51561417268897,149.14023708364005,131.54606185827365,375.8651769196117,128.34712090820702,133.14553233330696,163.53547135893984,130.34645900199865,156.33785422128994,131.94592947703197,121.94923900807377,142.34248756474847,135.1448704270986,180.32991134678957,127.14751805193204,133.14553233330696,126.34778281441538,375.8651769196117,375.8651769196117,134.74500280834025,121.94923900807377,138.74367899592352,151.93931041494835,146.34116375233174,130.74632662075697,158.7370599338399,165.13494183397313,134.34513518958192,249.90687701073858,133.54539995206528,136.7443409021319,125.1481799581404,139.14354661468187,132.3457970957903,138.3438113771652,120.34976853304047,131.1461942395153,127.14751805193204,131.54606185827365,172.33255897162303,152.739045652465,150.73970755867336,157.1375894588066,219.5169379851057,125.54804757689872,130.34645900199865,155.5381189837733,133.9452675708236,133.9452675708236,123.54870948310709,138.3438113771652,132.3457970957903,123.54870948310709,134.74500280834025,137.94394375840687,147.54076660860673,135.1448704270986,143.14222280226514,120.34976853304047,120.34976853304047,123.54870948310709,133.14553233330696,130.74632662075697,129.546723764482,135.94460566461524,126.7476504331737,116.35109234545719,137.54407613964855,126.34778281441538,172.33255897162303,224.71521702896393,157.5374570775649,149.54010470239837,137.94394375840687,167.93401516528144,124.74831233938207,131.94592947703197,131.94592947703197,137.54407613964855,136.7443409021319,109.55334282656563,151.53944279619,130.34645900199865,123.94857710186541,135.54473804585692,145.5414285148151,130.34645900199865,129.14685614572366,191.9260722907811,149.14023708364005,122.34910662683211,134.34513518958192,134.74500280834025,129.546723764482,132.3457970957903,135.54473804585692,132.7456647145486,215.51826179752243,126.7476504331737,123.94857710186541,126.34778281441538,157.1375894588066,119.15016567676548,119.55003329552382,134.34513518958192,125.54804757689872,157.5374570775649,138.3438113771652,136.7443409021319,139.5434142334402,213.11905608497244,133.54539995206528,134.74500280834025,129.94659138324033,135.1448704270986,125.94791519565706,136.7443409021319,140.34314947095683,151.13957517743168,148.74036946488172,129.94659138324033,145.5414285148151,138.3438113771652,137.94394375840687,138.74367899592352,210.71985037242248,139.5434142334402,156.33785422128994,121.54937138931545,135.1448704270986,147.1408989898484,224.71521702896393,149.14023708364005,126.7476504331737,130.74632662075697,130.34645900199865,129.14685614572366,122.74897424559043,120.34976853304047,127.54738567069036,133.54539995206528,136.34447328337356,129.94659138324033,119.55003329552382,123.94857710186541,128.74698852696534,139.5434142334402,163.53547135893984,155.5381189837733,140.34314947095683,129.14685614572366,158.33719231508158,131.94592947703197,160.73639802763154,135.1448704270986,122.74897424559043,172.33255897162303,131.54606185827365,133.54539995206528,133.54539995206528,156.33785422128994,143.54209042102346,129.94659138324033,133.14553233330696,164.7350742152148,134.34513518958192,128.74698852696534,130.34645900199865,130.34645900199865,159.9366627901149,129.14685614572366,162.33586850266485,126.7476504331737,127.54738567069036,131.1461942395153,137.54407613964855,157.5374570775649,139.5434142334402,153.53878088998164,153.53878088998164,128.74698852696534,124.74831233938207,171.5328237341064,180.72977896554792,124.34844472062375,135.1448704270986,164.3352065964565,129.94659138324033,133.9452675708236,137.94394375840687,123.94857710186541,133.14553233330696,128.74698852696534,127.14751805193204,137.54407613964855,135.1448704270986,166.33454469024812,136.34447328337356,140.74301708971518,125.94791519565706,129.546723764482,140.74301708971518,118.35043043924883,159.13692755259825,128.34712090820702,129.94659138324033,132.7456647145486,142.34248756474847,153.13891327122332,127.14751805193204,148.3405018461234,161.13626564638986,164.7350742152148,158.7370599338399,122.74897424559043,138.3438113771652,143.54209042102346,124.74831233938207,124.34844472062375,133.9452675708236,129.94659138324033,139.5434142334402,124.34844472062375,375.8651769196117,134.34513518958192,128.34712090820702,121.54937138931545,137.94394375840687,132.3457970957903,130.74632662075697,123.94857710186541,143.14222280226514,138.74367899592352,127.54738567069036,150.33983993991504,125.54804757689872,130.34645900199865,133.54539995206528,143.54209042102346,138.74367899592352,135.1448704270986,127.9472532894487,135.94460566461524,127.9472532894487,121.14950377055712,130.74632662075697,158.33719231508158,143.94195803978178,149.14023708364005,139.5434142334402,143.54209042102346,149.14023708364005,152.33917803370667,128.74698852696534,124.74831233938207,134.34513518958192,139.9432818521985,133.14553233330696,139.9432818521985,138.3438113771652,131.54606185827365,138.74367899592352,129.546723764482,123.94857710186541,121.94923900807377,147.94063422736508,150.73970755867336,123.14884186434875,127.54738567069036,129.94659138324033,128.74698852696534,129.94659138324033,133.54539995206528,131.1461942395153,135.94460566461524,133.9452675708236,154.73838374625663,129.94659138324033,128.74698852696534,144.74169327729845,143.54209042102346,137.94394375840687,131.54606185827365,131.54606185827365,137.14420852089023,128.34712090820702,125.54804757689872,156.73772184004827,137.94394375840687,135.1448704270986,122.74897424559043,130.74632662075697,142.34248756474847,135.1448704270986,130.74632662075697,166.73441230900647,133.9452675708236,173.1322942091397,143.54209042102346,129.546723764482,143.54209042102346,129.94659138324033,127.54738567069036,141.94261994599015,126.7476504331737,133.54539995206528,128.74698852696534,165.9346770714898,153.53878088998164,119.94990091428214,123.94857710186541,129.546723764482,144.74169327729845,138.3438113771652,123.94857710186541,133.54539995206528,181.5295142030646,131.1461942395153,141.94261994599015,127.54738567069036,135.1448704270986,123.94857710186541,145.14156089605677,152.739045652465,126.7476504331737,131.1461942395153,152.33917803370667,163.53547135893984,140.74301708971518,131.94592947703197,141.54275232723182,147.1408989898484,137.14420852089023,149.14023708364005,135.54473804585692,146.34116375233174,145.94129613357342,145.94129613357342,128.74698852696534,139.14354661468187,127.14751805193204,155.5381189837733,126.7476504331737,129.94659138324033,131.1461942395153,169.93335325907307,144.74169327729845,133.54539995206528,142.34248756474847,121.94923900807377,246.30806844191363,137.54407613964855,131.1461942395153,131.1461942395153,135.54473804585692,145.14156089605677,138.3438113771652,122.34910662683211,134.74500280834025,149.14023708364005,123.14884186434875,135.1448704270986,149.54010470239837,134.74500280834025,132.7456647145486,128.34712090820702,127.14751805193204,146.34116375233174,145.14156089605677,131.54606185827365,167.1342799277648,121.94923900807377,127.9472532894487,129.14685614572366,133.54539995206528,198.72382180967264,143.14222280226514,219.5169379851057,139.14354661468187,120.34976853304047,135.54473804585692,126.7476504331737,142.74235518350682,136.34447328337356,143.14222280226514,154.3385161274983,121.54937138931545,128.34712090820702,135.1448704270986,126.7476504331737,143.14222280226514,145.5414285148151,137.54407613964855,142.34248756474847,375.8651769196117,143.54209042102346,132.7456647145486,147.1408989898484,159.53679517135657,153.53878088998164,131.1461942395153,137.94394375840687,149.54010470239837,154.73838374625663,457.43817114631054,141.54275232723182,129.546723764482,158.33719231508158,123.54870948310709,130.34645900199865,121.14950377055712,189.52686657823114,128.74698852696534,173.53216182789802,158.33719231508158,143.94195803978178,146.7410313710901,145.94129613357342,140.34314947095683,127.14751805193204,139.5434142334402,129.546723764482,149.9399723211567,123.54870948310709,221.5162760788973,135.94460566461524,130.74632662075697,178.33057325299797,170.3332208778314,211.51958560993916,131.54606185827365,125.94791519565706,131.94592947703197,152.739045652465,127.14751805193204,163.53547135893984,135.1448704270986,134.34513518958192,127.14751805193204,124.34844472062375,150.33983993991504,124.34844472062375,125.54804757689872,126.7476504331737,206.32130656608086,129.94659138324033,134.74500280834025,133.54539995206528,128.74698852696534,157.5374570775649,135.94460566461524,145.5414285148151,129.14685614572366,122.74897424559043,129.94659138324033,139.5434142334402,375.8651769196117,125.94791519565706,174.3318970654147,147.1408989898484,125.1481799581404,143.54209042102346,135.1448704270986,157.5374570775649,131.54606185827365,140.34314947095683,142.34248756474847,186.3279256281645,136.7443409021319,127.9472532894487,365.86848645065356,142.74235518350682,143.94195803978178,135.54473804585692,136.34447328337356,145.5414285148151,163.53547135893984,128.74698852696534,150.73970755867336,142.74235518350682,134.74500280834025,132.7456647145486,132.3457970957903,165.9346770714898,134.34513518958192,124.34844472062375,152.33917803370667,143.14222280226514,137.54407613964855,120.7496361517988,131.94592947703197,137.14420852089023,167.1342799277648,123.94857710186541,165.53480945273148,136.7443409021319,133.14553233330696,128.74698852696534,152.33917803370667,127.14751805193204,143.94195803978178,215.11839417876408,142.74235518350682,139.5434142334402,139.9432818521985,123.14884186434875,153.53878088998164,131.94592947703197,138.3438113771652,130.74632662075697,125.1481799581404,269.5003903298966,123.14884186434875,131.1461942395153,135.94460566461524,160.33653040887322,138.3438113771652,120.34976853304047,155.13825136501495,129.94659138324033,147.54076660860673,133.9452675708236,128.34712090820702,126.34778281441538,134.74500280834025,121.54937138931545,139.14354661468187,157.5374570775649,129.14685614572366,131.94592947703197,133.9452675708236,123.54870948310709,125.1481799581404,137.54407613964855,133.54539995206528,127.9472532894487,126.7476504331737,147.94063422736508,125.54804757689872,149.14023708364005,130.34645900199865,123.14884186434875,131.1461942395153,131.1461942395153,158.33719231508158,136.34447328337356,137.14420852089023,154.73838374625663,137.54407613964855,142.34248756474847,138.3438113771652,149.9399723211567,131.54606185827365,137.54407613964855,120.34976853304047,147.94063422736508,126.7476504331737,162.33586850266485,141.54275232723182,130.34645900199865,357.871134075487,128.34712090820702,129.14685614572366,129.14685614572366,125.94791519565706,124.74831233938207,139.9432818521985,134.34513518958192,125.94791519565706,163.93533897769817,125.94791519565706,133.9452675708236,125.1481799581404,126.7476504331737,152.33917803370667,159.53679517135657,149.54010470239837,137.54407613964855,119.94990091428214,118.75029805800716,131.1461942395153,135.54473804585692,121.54937138931545,128.34712090820702,128.34712090820702,190.32660181574778,132.3457970957903,144.74169327729845,129.94659138324033,155.93798660253162,124.34844472062375,127.54738567069036,133.14553233330696,129.94659138324033,137.54407613964855,124.34844472062375,121.54937138931545,135.94460566461524,134.34513518958192,123.54870948310709,121.54937138931545,124.74831233938207,129.546723764482,137.14420852089023,127.14751805193204,147.94063422736508,123.14884186434875,175.13163230293134,143.14222280226514,139.5434142334402,131.54606185827365,200.7231599034643,197.52421895339768,128.74698852696534,128.74698852696534,119.94990091428214,137.14420852089023,131.1461942395153,138.3438113771652,130.34645900199865,143.54209042102346,143.94195803978178,143.14222280226514,125.54804757689872,139.14354661468187,133.14553233330696,152.33917803370667,133.14553233330696,140.34314947095683,169.53348564031475,162.33586850266485,140.74301708971518,127.14751805193204,133.54539995206528,375.8651769196117,131.94592947703197,140.74301708971518,145.5414285148151,129.546723764482,137.14420852089023,167.53414754652312,123.14884186434875,124.74831233938207,131.54606185827365,131.94592947703197,143.14222280226514,136.7443409021319,157.5374570775649,134.34513518958192,138.74367899592352,123.94857710186541,133.14553233330696,155.93798660253162,138.74367899592352,126.7476504331737,130.34645900199865,137.14420852089023,163.53547135893984,125.94791519565706,140.74301708971518,141.54275232723182,167.53414754652312,131.54606185827365,151.93931041494835,203.12236561601426,128.34712090820702,130.74632662075697,125.1481799581404,120.7496361517988,133.54539995206528,140.34314947095683,139.14354661468187,121.14950377055712,135.94460566461524,248.7072741544636,125.94791519565706,133.54539995206528,147.94063422736508,117.9505628204905,141.94261994599015,157.5374570775649,157.5374570775649,138.74367899592352,131.94592947703197,130.74632662075697,136.34447328337356,146.7410313710901,128.74698852696534,136.7443409021319,137.54407613964855,121.14950377055712,131.54606185827365,138.3438113771652,132.7456647145486,125.54804757689872,118.75029805800716,127.14751805193204,129.14685614572366,141.1428847084735,135.94460566461524,129.546723764482,132.7456647145486,127.14751805193204,223.51561417268897,173.1322942091397,152.739045652465,154.73838374625663,141.54275232723182,126.7476504331737,375.8651769196117,128.74698852696534,155.5381189837733,129.94659138324033,258.30409700466345,136.7443409021319,131.1461942395153,137.14420852089023,137.14420852089023,133.54539995206528,157.5374570775649,161.93600088390653,181.5295142030646,150.73970755867336,143.54209042102346,133.14553233330696,132.3457970957903,133.54539995206528,132.3457970957903,135.54473804585692,139.9432818521985,133.14553233330696,147.54076660860673,148.3405018461234,140.34314947095683,129.14685614572366,138.74367899592352,131.54606185827365,128.34712090820702,137.94394375840687,127.54738567069036,137.14420852089023,125.54804757689872,277.49774270506316,175.13163230293134,127.9472532894487,146.7410313710901,149.54010470239837,130.34645900199865,133.9452675708236,143.54209042102346,125.94791519565706,129.546723764482,133.14553233330696,172.33255897162303,128.74698852696534,131.94592947703197,137.14420852089023,139.14354661468187,126.34778281441538,144.74169327729845,127.54738567069036,263.10250842976336,125.54804757689872,133.54539995206528,161.93600088390653,133.14553233330696,165.13494183397313,167.1342799277648,143.14222280226514,123.94857710186541,127.9472532894487,136.7443409021319,132.7456647145486,141.54275232723182,171.9326913528647,161.5361332651482,151.13957517743168,125.94791519565706,141.94261994599015,142.34248756474847,143.14222280226514,147.94063422736508,141.54275232723182,129.546723764482,156.33785422128994,165.13494183397313,169.53348564031475,375.8651769196117,135.54473804585692,141.1428847084735,129.14685614572366,134.74500280834025,137.94394375840687,147.54076660860673,129.14685614572366,123.54870948310709,134.74500280834025,145.14156089605677,126.34778281441538,136.34447328337356,150.33983993991504,128.74698852696534,122.74897424559043,145.5414285148151,125.54804757689872,125.1481799581404,132.3457970957903,133.9452675708236,147.94063422736508,128.74698852696534,160.33653040887322,133.54539995206528,151.93931041494835,187.52752848443947,161.5361332651482,124.34844472062375,145.14156089605677,147.1408989898484,133.54539995206528,162.33586850266485,139.14354661468187,143.14222280226514,129.94659138324033,134.74500280834025,132.7456647145486,157.5374570775649,129.14685614572366,126.7476504331737,189.92673419698946,131.54606185827365,126.34778281441538,155.5381189837733,137.14420852089023,121.54937138931545,161.13626564638986,127.14751805193204,145.5414285148151,129.94659138324033,136.34447328337356,121.54937138931545,143.94195803978178,134.34513518958192,135.54473804585692,239.11045130426373,145.94129613357342,131.54606185827365,139.14354661468187,145.14156089605677,126.7476504331737,126.34778281441538,141.54275232723182,138.74367899592352,125.94791519565706,131.54606185827365,155.5381189837733,152.739045652465,126.7476504331737,124.34844472062375,134.74500280834025,143.54209042102346,163.13560374018152,131.94592947703197,227.51429036027224,132.7456647145486,130.74632662075697,127.54738567069036,122.74897424559043,191.12633705326442,124.34844472062375,131.54606185827365,137.94394375840687,122.34910662683211,144.34182565854013,127.54738567069036,194.72514562208937,123.94857710186541,179.53017610927293,129.14685614572366,136.34447328337356,138.3438113771652,122.74897424559043,119.94990091428214,143.94195803978178,132.3457970957903,125.54804757689872,133.54539995206528,126.34778281441538,132.7456647145486,151.53944279619,132.3457970957903,136.34447328337356,213.91879132248908,120.34976853304047,139.5434142334402,129.94659138324033,131.94592947703197,130.74632662075697,147.94063422736508,151.93931041494835,138.3438113771652,129.546723764482,133.14553233330696,124.74831233938207,119.55003329552382,155.13825136501495,135.94460566461524,137.94394375840687,129.14685614572366,141.1428847084735,132.3457970957903,209.5202475161475,127.9472532894487,135.94460566461524,117.15082758297385,135.54473804585692,121.14950377055712,137.14420852089023,145.14156089605677,136.7443409021319,131.94592947703197,128.74698852696534,210.31998275366414,142.34248756474847,131.94592947703197,138.3438113771652,134.34513518958192,155.5381189837733,122.34910662683211,126.7476504331737,135.54473804585692,131.1461942395153,153.53878088998164,133.54539995206528,125.54804757689872,132.7456647145486,124.34844472062375,128.34712090820702,127.14751805193204,150.73970755867336,128.74698852696534,169.53348564031475,375.8651769196117,131.1461942395153,133.54539995206528,134.74500280834025,143.14222280226514,125.94791519565706,140.74301708971518,136.7443409021319,145.94129613357342,141.54275232723182,123.14884186434875,127.9472532894487,136.7443409021319,142.74235518350682,151.53944279619,128.74698852696534,121.54937138931545,118.35043043924883,130.74632662075697,130.74632662075697,135.54473804585692,130.34645900199865,128.74698852696534,205.52157132856422,234.31203987916382,153.53878088998164,157.5374570775649,147.54076660860673,137.14420852089023,123.94857710186541,131.94592947703197,135.1448704270986,145.94129613357342,121.54937138931545,137.14420852089023,136.7443409021319,122.34910662683211,130.34645900199865,155.93798660253162,157.5374570775649,129.94659138324033,160.33653040887322,123.94857710186541,133.9452675708236,183.12898467809788,141.1428847084735,229.51362845406388,179.1303084905146,129.546723764482,129.14685614572366,123.54870948310709,131.94592947703197,159.53679517135657,163.53547135893984,144.34182565854013,130.34645900199865,157.5374570775649,135.54473804585692,132.3457970957903,121.14950377055712,163.93533897769817,138.3438113771652,127.54738567069036,128.74698852696534,123.54870948310709,124.74831233938207,129.94659138324033,132.7456647145486,148.74036946488172,126.34778281441538,145.5414285148151,161.93600088390653,126.34778281441538,139.5434142334402,131.94592947703197,131.1461942395153,157.5374570775649,131.54606185827365,123.54870948310709,131.1461942395153,134.34513518958192,139.14354661468187,153.53878088998164,172.33255897162303,165.9346770714898,166.73441230900647,125.1481799581404,137.94394375840687,129.94659138324033,138.3438113771652,128.74698852696534,181.5295142030646,131.94592947703197,193.92541038457273,133.14553233330696,140.34314947095683,131.94592947703197,129.14685614572366,128.74698852696534,138.3438113771652,140.34314947095683,129.94659138324033,170.73308849658974,140.74301708971518,152.739045652465,132.3457970957903,143.94195803978178,147.94063422736508,137.94394375840687,149.9399723211567,152.33917803370667,121.14950377055712,121.54937138931545,131.1461942395153,158.33719231508158,128.74698852696534,135.54473804585692,182.32924944058124,153.53878088998164,149.54010470239837,126.7476504331737,137.14420852089023,123.54870948310709,122.34910662683211,123.14884186434875,427.8479673581943,125.54804757689872,165.13494183397313,130.34645900199865,151.13957517743168,153.53878088998164,125.94791519565706,141.1428847084735,131.54606185827365,137.94394375840687,132.7456647145486,143.54209042102346,118.35043043924883,129.14685614572366,130.34645900199865,120.7496361517988,135.94460566461524,375.8651769196117,137.14420852089023,127.54738567069036,142.34248756474847,117.9505628204905,133.54539995206528,167.1342799277648,145.94129613357342,124.74831233938207,145.14156089605677,137.94394375840687,133.14553233330696,126.7476504331737,128.74698852696534,176.3312351592063,117.9505628204905,129.94659138324033,151.53944279619,128.34712090820702,161.93600088390653,152.33917803370667,149.9399723211567,172.73242659038138,132.3457970957903,136.34447328337356,122.74897424559043,127.9472532894487,129.14685614572366,131.94592947703197,149.54010470239837,129.546723764482,164.7350742152148,143.14222280226514,138.3438113771652,130.74632662075697,158.7370599338399,129.546723764482,140.34314947095683,155.93798660253162,151.53944279619,131.94592947703197,138.74367899592352,149.9399723211567,132.7456647145486,137.54407613964855,125.94791519565706,124.34844472062375,126.7476504331737,136.34447328337356,120.34976853304047,146.7410313710901,147.54076660860673,151.13957517743168,137.54407613964855,135.54473804585692,133.14553233330696,135.54473804585692,143.54209042102346,138.3438113771652,143.14222280226514,138.3438113771652,141.94261994599015,142.34248756474847,139.14354661468187,130.34645900199865,127.14751805193204,129.14685614572366,131.1461942395153,134.34513518958192,121.54937138931545,131.94592947703197,136.7443409021319,131.54606185827365,229.51362845406388,143.14222280226514,127.14751805193204,185.12832277188951,141.54275232723182,148.74036946488172,134.74500280834025,131.1461942395153,125.94791519565706,126.7476504331737,184.7284551531312,203.12236561601426,134.34513518958192,132.3457970957903,131.94592947703197,136.34447328337356,125.94791519565706,137.94394375840687,129.94659138324033,135.54473804585692,375.8651769196117,130.34645900199865,157.5374570775649,133.9452675708236,136.34447328337356,134.74500280834025,170.73308849658974,123.54870948310709,219.91680560386402,144.34182565854013,143.94195803978178,129.546723764482,129.94659138324033,124.34844472062375,135.54473804585692,137.54407613964855,131.1461942395153,125.1481799581404,157.5374570775649,120.7496361517988,138.3438113771652,121.14950377055712,135.94460566461524,143.94195803978178,121.54937138931545,131.54606185827365,127.14751805193204,125.1481799581404,127.54738567069036,136.7443409021319,163.93533897769817,124.74831233938207,139.14354661468187,132.3457970957903,123.54870948310709,155.5381189837733,133.14553233330696,140.74301708971518,141.54275232723182,131.1461942395153,123.14884186434875,133.9452675708236,133.9452675708236,123.54870948310709,167.93401516528144,375.8651769196117,121.94923900807377,135.1448704270986,132.3457970957903,128.74698852696534,125.94791519565706,155.5381189837733,138.3438113771652,129.94659138324033,126.7476504331737,131.1461942395153,125.1481799581404,181.12964658430624,129.14685614572366,144.34182565854013,126.7476504331737,128.74698852696534,147.54076660860673,139.14354661468187,131.1461942395153,137.94394375840687,124.74831233938207,135.54473804585692,133.54539995206528,138.74367899592352,131.1461942395153,119.55003329552382,125.54804757689872,136.34447328337356,123.94857710186541,134.34513518958192,123.94857710186541,141.1428847084735,133.54539995206528,149.9399723211567,129.94659138324033,153.53878088998164,132.3457970957903,121.14950377055712,124.74831233938207,123.94857710186541,220.31667322262234,147.54076660860673,375.8651769196117,119.15016567676548,145.14156089605677,137.94394375840687,133.9452675708236,127.14751805193204,131.54606185827365,122.74897424559043,128.74698852696534,131.1461942395153,146.7410313710901,146.34116375233174,128.74698852696534,145.5414285148151,135.1448704270986,120.34976853304047,149.54010470239837,128.74698852696534,498.2246682596599,128.34712090820702,129.14685614572366,125.54804757689872,146.34116375233174,135.54473804585692,139.14354661468187,174.73176468417302,210.31998275366414,126.7476504331737,173.53216182789802,138.74367899592352,130.34645900199865,121.94923900807377,127.9472532894487,129.94659138324033,127.9472532894487,133.9452675708236,129.546723764482,147.94063422736508,123.94857710186541,191.12633705326442,129.14685614572366,148.3405018461234,121.94923900807377,118.35043043924883,173.93202944665637,130.34645900199865,127.9472532894487,129.546723764482,131.94592947703197,137.54407613964855,125.54804757689872,152.33917803370667,127.54738567069036,125.1481799581404,131.54606185827365,120.34976853304047,135.94460566461524,145.14156089605677,120.7496361517988,143.94195803978178,126.7476504331737,157.5374570775649,126.34778281441538,130.34645900199865,152.739045652465,191.52620467202274,140.74301708971518,143.14222280226514,131.54606185827365,139.5434142334402,131.1461942395153,122.74897424559043,143.54209042102346,135.54473804585692,135.54473804585692,123.94857710186541,128.74698852696534,123.54870948310709,150.73970755867336,133.54539995206528,140.74301708971518,123.54870948310709,125.54804757689872,128.74698852696534,127.14751805193204,133.54539995206528,127.9472532894487,176.73110277796465,132.3457970957903,137.54407613964855,128.74698852696534,123.14884186434875,135.1448704270986,133.14553233330696,133.54539995206528,137.54407613964855,141.54275232723182,133.54539995206528,127.9472532894487,181.5295142030646,127.9472532894487,124.74831233938207,145.94129613357342,113.5520190141489,132.3457970957903,133.54539995206528,160.73639802763154,143.94195803978178,151.53944279619,156.33785422128994,138.74367899592352,132.3457970957903,141.94261994599015,147.1408989898484,140.34314947095683,140.74301708971518,128.34712090820702,135.54473804585692,141.54275232723182,375.8651769196117,131.1461942395153,133.54539995206528,133.54539995206528,136.7443409021319,184.32858753437287,129.546723764482,131.54606185827365,169.53348564031475,128.34712090820702,132.3457970957903,133.14553233330696,129.14685614572366,300.2901969742878,199.92342466594764,131.94592947703197,133.14553233330696,134.74500280834025,126.7476504331737,126.34778281441538,129.14685614572366,130.34645900199865,137.14420852089023,134.74500280834025,133.9452675708236,130.34645900199865,145.14156089605677,128.74698852696534,141.54275232723182,133.54539995206528,132.3457970957903,137.54407613964855,120.7496361517988,137.54407613964855,143.54209042102346,133.54539995206528,126.7476504331737,135.54473804585692,135.54473804585692,137.94394375840687,129.94659138324033,150.33983993991504,149.54010470239837,135.94460566461524,140.34314947095683,143.94195803978178,188.72713134071446,149.9399723211567,139.5434142334402,156.73772184004827,149.14023708364005,137.14420852089023,123.14884186434875,128.74698852696534,149.9399723211567,134.74500280834025,151.13957517743168,130.34645900199865,128.34712090820702,139.14354661468187,125.1481799581404,147.94063422736508,147.1408989898484,144.34182565854013,130.74632662075697,142.74235518350682,217.51759989131403,145.5414285148151,134.34513518958192,135.94460566461524,132.7456647145486,126.7476504331737,135.1448704270986,127.54738567069036,129.14685614572366,138.3438113771652,138.74367899592352,127.14751805193204,119.15016567676548,146.34116375233174,127.54738567069036,189.92673419698946,124.74831233938207,138.3438113771652,133.14553233330696,130.34645900199865,161.5361332651482,141.1428847084735,128.34712090820702,161.5361332651482,127.54738567069036,154.3385161274983,136.7443409021319,189.12699895947281,237.91084844798874,125.94791519565706,133.9452675708236,128.74698852696534,137.54407613964855,131.94592947703197,134.34513518958192,121.94923900807377,121.54937138931545,129.94659138324033,158.33719231508158,168.33388278403976,138.3438113771652,188.72713134071446,135.1448704270986,149.9399723211567,132.3457970957903,205.52157132856422,167.53414754652312,126.34778281441538,130.34645900199865,122.74897424559043,124.34844472062375,131.54606185827365,129.546723764482,140.34314947095683,139.5434142334402,161.5361332651482,140.74301708971518,149.54010470239837,131.94592947703197,123.94857710186541,139.5434142334402,157.5374570775649,121.54937138931545,129.94659138324033,136.7443409021319,143.54209042102346,135.54473804585692,249.50700939198026,375.8651769196117,141.54275232723182,121.54937138931545,138.3438113771652,127.9472532894487,130.34645900199865,139.5434142334402,133.54539995206528,140.74301708971518,128.74698852696534,131.54606185827365,124.34844472062375,137.94394375840687,143.14222280226514,155.13825136501495,139.14354661468187,213.51892370373076,127.14751805193204,169.93335325907307,131.94592947703197,136.34447328337356,145.14156089605677,140.34314947095683,145.14156089605677,143.94195803978178,139.5434142334402,129.94659138324033,133.14553233330696,117.15082758297385,137.54407613964855,139.9432818521985,137.14420852089023,130.74632662075697,129.14685614572366,145.5414285148151,152.739045652465,125.94791519565706,129.546723764482,134.74500280834025,168.33388278403976,128.74698852696534,131.1461942395153,134.34513518958192,138.3438113771652,167.1342799277648,137.14420852089023,123.94857710186541,135.54473804585692,159.9366627901149,130.34645900199865,138.3438113771652,125.1481799581404,125.54804757689872,139.5434142334402,133.54539995206528,130.74632662075697,375.8651769196117,281.4964188926465,122.34910662683211,135.1448704270986,157.5374570775649,135.54473804585692,148.74036946488172,134.34513518958192,136.34447328337356,137.94394375840687,153.93864850874,147.54076660860673,133.9452675708236,241.5096570168137,126.7476504331737,135.94460566461524,138.3438113771652,126.7476504331737,129.94659138324033,127.9472532894487,131.1461942395153,119.15016567676548,139.9432818521985,114.75162187042389,127.54738567069036,151.53944279619,132.3457970957903,143.94195803978178,128.74698852696534,148.3405018461234,129.546723764482,126.7476504331737,135.1448704270986,145.5414285148151,131.54606185827365,135.54473804585692,127.9472532894487,151.93931041494835,125.94791519565706,135.1448704270986,139.5434142334402,155.13825136501495,140.74301708971518,181.5295142030646,131.94592947703197,133.54539995206528,122.34910662683211,135.1448704270986,142.74235518350682,131.1461942395153,166.73441230900647,267.90091985486333,128.34712090820702,130.34645900199865,130.34645900199865,130.74632662075697,138.3438113771652,137.94394375840687,120.34976853304047,129.546723764482,131.54606185827365,149.14023708364005,141.54275232723182,138.3438113771652,136.34447328337356,129.14685614572366,134.74500280834025,133.54539995206528,177.5308380154813,130.34645900199865,130.74632662075697,123.14884186434875,141.1428847084735,124.34844472062375,133.14553233330696,130.34645900199865,129.94659138324033,133.9452675708236,128.74698852696534,121.54937138931545,131.54606185827365,143.54209042102346,182.32924944058124,139.5434142334402,189.92673419698946,134.74500280834025,141.94261994599015,127.54738567069036,187.12766086568115,131.54606185827365,132.7456647145486,127.14751805193204,133.54539995206528,132.3457970957903,130.74632662075697,141.94261994599015,162.33586850266485,136.34447328337356,132.7456647145486,133.14553233330696,124.74831233938207,127.9472532894487,133.9452675708236,128.74698852696534,241.10978939805537,141.94261994599015,159.53679517135657,135.94460566461524,131.94592947703197,129.94659138324033,145.5414285148151,144.74169327729845,126.7476504331737,144.74169327729845,127.54738567069036,375.8651769196117,131.94592947703197,144.34182565854013,159.53679517135657,138.3438113771652,196.72448371588104,131.54606185827365,122.74897424559043,157.5374570775649,128.74698852696534,131.94592947703197,123.94857710186541,126.7476504331737,125.94791519565706,140.34314947095683,139.5434142334402,131.94592947703197,119.94990091428214,142.34248756474847,149.9399723211567,135.1448704270986,145.94129613357342,137.54407613964855,137.14420852089023,128.74698852696534,135.94460566461524,121.54937138931545,127.14751805193204,129.94659138324033,141.1428847084735,135.54473804585692,128.74698852696534,137.14420852089023,133.54539995206528,128.74698852696534,128.74698852696534,125.1481799581404,133.54539995206528,125.1481799581404,141.94261994599015,151.53944279619,127.14751805193204,125.54804757689872,129.14685614572366,133.9452675708236,147.94063422736508,126.7476504331737,134.34513518958192,128.74698852696534,132.3457970957903,133.54539995206528,132.7456647145486,141.54275232723182,134.74500280834025,128.74698852696534,137.54407613964855,111.55268092035726,130.34645900199865,132.7456647145486,141.54275232723182,111.15281330159894,125.54804757689872,132.3457970957903,147.1408989898484,125.94791519565706,213.51892370373076,135.94460566461524,135.1448704270986,128.74698852696534,158.33719231508158,137.94394375840687,136.34447328337356,141.1428847084735,127.14751805193204,131.1461942395153,155.13825136501495,126.34778281441538,125.1481799581404,140.74301708971518,137.14420852089023,149.54010470239837,128.34712090820702,148.74036946488172,145.5414285148151,133.54539995206528,137.94394375840687,125.54804757689872,203.12236561601426,138.3438113771652,126.34778281441538,134.34513518958192,139.5434142334402,134.74500280834025,135.94460566461524,151.13957517743168,136.34447328337356,145.5414285148151,135.94460566461524,133.54539995206528,153.13891327122332,122.34910662683211,133.54539995206528,125.1481799581404,125.94791519565706,132.7456647145486,151.13957517743168,151.53944279619,131.1461942395153,120.7496361517988,123.54870948310709,125.54804757689872,137.14420852089023,135.94460566461524,137.54407613964855,120.7496361517988,134.74500280834025,134.34513518958192,134.34513518958192,138.3438113771652,131.94592947703197,129.94659138324033,140.74301708971518,149.9399723211567,126.34778281441538,121.14950377055712,139.5434142334402,129.14685614572366,133.54539995206528,137.54407613964855,189.52686657823114,127.9472532894487,132.3457970957903,141.54275232723182,131.1461942395153,145.14156089605677,142.74235518350682,142.34248756474847,140.34314947095683,127.54738567069036,138.74367899592352,138.74367899592352,149.14023708364005,127.9472532894487,128.34712090820702,131.94592947703197,136.34447328337356,135.1448704270986,123.94857710186541,138.3438113771652,131.94592947703197,143.14222280226514,128.74698852696534,149.54010470239837,133.54539995206528,186.3279256281645,126.34778281441538,168.73375040279808,179.1303084905146,157.5374570775649,123.94857710186541,117.55069520173217,136.34447328337356,138.74367899592352,145.14156089605677,127.9472532894487,138.3438113771652,138.3438113771652,282.29615413016313,123.94857710186541,143.14222280226514,131.54606185827365,134.74500280834025,118.75029805800716,151.13957517743168,133.9452675708236,182.72911705933956,159.53679517135657,155.93798660253162,135.54473804585692,141.94261994599015,138.74367899592352,141.94261994599015,375.8651769196117,130.34645900199865,181.5295142030646,132.7456647145486,143.94195803978178,140.74301708971518,143.94195803978178,143.14222280226514,127.54738567069036,119.94990091428214,135.1448704270986,134.74500280834025,152.33917803370667,132.3457970957903,151.53944279619,126.7476504331737,123.54870948310709,125.54804757689872,143.94195803978178,136.34447328337356,133.9452675708236,133.54539995206528,138.3438113771652,151.93931041494835,154.3385161274983,121.94923900807377,137.14420852089023,139.9432818521985,125.1481799581404,186.3279256281645,134.34513518958192,128.34712090820702,143.94195803978178,133.54539995206528,136.7443409021319,135.54473804585692,157.5374570775649,127.9472532894487,139.5434142334402,137.14420852089023,402.2564397576614,136.7443409021319,128.74698852696534,121.54937138931545,136.7443409021319,124.74831233938207,131.54606185827365,134.74500280834025,125.54804757689872,147.94063422736508,167.1342799277648,139.14354661468187,137.54407613964855,141.1428847084735,139.14354661468187,172.73242659038138,125.1481799581404,155.13825136501495,139.5434142334402,124.74831233938207,135.1448704270986,139.5434142334402,375.8651769196117,154.3385161274983,136.34447328337356,134.34513518958192,133.14553233330696,138.3438113771652,121.94923900807377,123.54870948310709,128.74698852696534,134.74500280834025,129.14685614572366,126.34778281441538,145.5414285148151,145.94129613357342,127.9472532894487,147.94063422736508,177.13097039672297,129.14685614572366,153.53878088998164,131.54606185827365]]]}}},\"view\":{\"type\":\"object\",\"name\":\"CDSView\",\"id\":\"p1084\",\"attributes\":{\"filter\":{\"type\":\"object\",\"name\":\"AllIndices\",\"id\":\"p1085\"}}},\"glyph\":{\"type\":\"object\",\"name\":\"Line\",\"id\":\"p1080\",\"attributes\":{\"x\":{\"type\":\"field\",\"field\":\"x\"},\"y\":{\"type\":\"field\",\"field\":\"y\"},\"line_color\":\"red\"}},\"nonselection_glyph\":{\"type\":\"object\",\"name\":\"Line\",\"id\":\"p1081\",\"attributes\":{\"x\":{\"type\":\"field\",\"field\":\"x\"},\"y\":{\"type\":\"field\",\"field\":\"y\"},\"line_color\":\"red\",\"line_alpha\":0.1}},\"muted_glyph\":{\"type\":\"object\",\"name\":\"Line\",\"id\":\"p1082\",\"attributes\":{\"x\":{\"type\":\"field\",\"field\":\"x\"},\"y\":{\"type\":\"field\",\"field\":\"y\"},\"line_color\":\"red\",\"line_alpha\":0.2}}}}],\"toolbar\":{\"type\":\"object\",\"name\":\"Toolbar\",\"id\":\"p1048\",\"attributes\":{\"tools\":[{\"type\":\"object\",\"name\":\"PanTool\",\"id\":\"p1061\"},{\"type\":\"object\",\"name\":\"WheelZoomTool\",\"id\":\"p1062\",\"attributes\":{\"renderers\":\"auto\"}},{\"type\":\"object\",\"name\":\"BoxZoomTool\",\"id\":\"p1063\",\"attributes\":{\"overlay\":{\"type\":\"object\",\"name\":\"BoxAnnotation\",\"id\":\"p1064\",\"attributes\":{\"syncable\":false,\"level\":\"overlay\",\"visible\":false,\"left_units\":\"canvas\",\"right_units\":\"canvas\",\"top_units\":\"canvas\",\"bottom_units\":\"canvas\",\"line_color\":\"black\",\"line_alpha\":1.0,\"line_width\":2,\"line_dash\":[4,4],\"fill_color\":\"lightgrey\",\"fill_alpha\":0.5}}}},{\"type\":\"object\",\"name\":\"SaveTool\",\"id\":\"p1065\"},{\"type\":\"object\",\"name\":\"ResetTool\",\"id\":\"p1066\"},{\"type\":\"object\",\"name\":\"HelpTool\",\"id\":\"p1067\"}]}},\"left\":[{\"type\":\"object\",\"name\":\"LinearAxis\",\"id\":\"p1056\",\"attributes\":{\"ticker\":{\"type\":\"object\",\"name\":\"BasicTicker\",\"id\":\"p1057\",\"attributes\":{\"mantissas\":[1,2,5]}},\"formatter\":{\"type\":\"object\",\"name\":\"BasicTickFormatter\",\"id\":\"p1058\"},\"major_label_policy\":{\"type\":\"object\",\"name\":\"AllLabels\",\"id\":\"p1059\"}}}],\"below\":[{\"type\":\"object\",\"name\":\"LinearAxis\",\"id\":\"p1051\",\"attributes\":{\"ticker\":{\"type\":\"object\",\"name\":\"BasicTicker\",\"id\":\"p1052\",\"attributes\":{\"mantissas\":[1,2,5]}},\"formatter\":{\"type\":\"object\",\"name\":\"BasicTickFormatter\",\"id\":\"p1053\"},\"major_label_policy\":{\"type\":\"object\",\"name\":\"AllLabels\",\"id\":\"p1054\"}}}],\"center\":[{\"type\":\"object\",\"name\":\"Grid\",\"id\":\"p1055\",\"attributes\":{\"axis\":{\"id\":\"p1051\"}}},{\"type\":\"object\",\"name\":\"Grid\",\"id\":\"p1060\",\"attributes\":{\"dimension\":1,\"axis\":{\"id\":\"p1056\"}}}]}}]}};\n",
       "  const render_items = [{\"docid\":\"5fb2527d-fb16-4e05-aadb-84169910da4a\",\"roots\":{\"p1040\":\"f6fa9593-32b1-4df5-a94a-905867e945a5\"},\"root_ids\":[\"p1040\"]}];\n",
       "  root.Bokeh.embed.embed_items_notebook(docs_json, render_items);\n",
       "  }\n",
       "  if (root.Bokeh !== undefined) {\n",
       "    embed_document(root);\n",
       "  } else {\n",
       "    let attempts = 0;\n",
       "    const timer = setInterval(function(root) {\n",
       "      if (root.Bokeh !== undefined) {\n",
       "        clearInterval(timer);\n",
       "        embed_document(root);\n",
       "      } else {\n",
       "        attempts++;\n",
       "        if (attempts > 100) {\n",
       "          clearInterval(timer);\n",
       "          console.log(\"Bokeh: ERROR: Unable to run BokehJS code because BokehJS library is missing\");\n",
       "        }\n",
       "      }\n",
       "    }, 10, root)\n",
       "  }\n",
       "})(window);"
      ],
      "application/vnd.bokehjs_exec.v0+json": ""
     },
     "metadata": {
      "application/vnd.bokehjs_exec.v0+json": {
       "id": "p1040"
      }
     },
     "output_type": "display_data"
    }
   ],
   "source": [
    "# Plot the fitted line\n",
    "fig = figure(height=400, width=400)\n",
    "fig.circle(df['applicant_income'], df['loan_amount'])\n",
    "fig.line(df['applicant_income'], y_pred, color='red')\n",
    "show(fig) "
   ]
  },
  {
   "cell_type": "markdown",
   "id": "a65a156a-fd8d-4abb-a7cb-55aba87e19fe",
   "metadata": {},
   "source": [
    "#### The slope and intercept of a fitted line was found and then their predicted values were found which were used to plot the fitted line on the plot which seems to carry the relationship of the categorical variables."
   ]
  },
  {
   "cell_type": "code",
   "execution_count": 312,
   "id": "46bf53a0-3aab-4889-9d94-9ccf7dead011",
   "metadata": {},
   "outputs": [
    {
     "data": {
      "text/html": [
       "<table class=\"simpletable\">\n",
       "<caption>OLS Regression Results</caption>\n",
       "<tr>\n",
       "  <th>Dep. Variable:</th>       <td>loan_amount</td>   <th>  R-squared:         </th> <td>   0.187</td> \n",
       "</tr>\n",
       "<tr>\n",
       "  <th>Model:</th>                   <td>OLS</td>       <th>  Adj. R-squared:    </th> <td>   0.187</td> \n",
       "</tr>\n",
       "<tr>\n",
       "  <th>Method:</th>             <td>Least Squares</td>  <th>  F-statistic:       </th> <td>   453.1</td> \n",
       "</tr>\n",
       "<tr>\n",
       "  <th>Date:</th>             <td>Wed, 24 Apr 2024</td> <th>  Prob (F-statistic):</th> <td>1.16e-90</td> \n",
       "</tr>\n",
       "<tr>\n",
       "  <th>Time:</th>                 <td>11:49:26</td>     <th>  Log-Likelihood:    </th> <td> -11237.</td> \n",
       "</tr>\n",
       "<tr>\n",
       "  <th>No. Observations:</th>      <td>  1969</td>      <th>  AIC:               </th> <td>2.248e+04</td>\n",
       "</tr>\n",
       "<tr>\n",
       "  <th>Df Residuals:</th>          <td>  1967</td>      <th>  BIC:               </th> <td>2.249e+04</td>\n",
       "</tr>\n",
       "<tr>\n",
       "  <th>Df Model:</th>              <td>     1</td>      <th>                     </th>     <td> </td>    \n",
       "</tr>\n",
       "<tr>\n",
       "  <th>Covariance Type:</th>      <td>nonrobust</td>    <th>                     </th>     <td> </td>    \n",
       "</tr>\n",
       "</table>\n",
       "<table class=\"simpletable\">\n",
       "<tr>\n",
       "          <td></td>            <th>coef</th>     <th>std err</th>      <th>t</th>      <th>P>|t|</th>  <th>[0.025</th>    <th>0.975]</th>  \n",
       "</tr>\n",
       "<tr>\n",
       "  <th>Intercept</th>        <td>  109.5533</td> <td>    2.289</td> <td>   47.857</td> <td> 0.000</td> <td>  105.064</td> <td>  114.043</td>\n",
       "</tr>\n",
       "<tr>\n",
       "  <th>applicant_income</th> <td>    0.3999</td> <td>    0.019</td> <td>   21.287</td> <td> 0.000</td> <td>    0.363</td> <td>    0.437</td>\n",
       "</tr>\n",
       "</table>\n",
       "<table class=\"simpletable\">\n",
       "<tr>\n",
       "  <th>Omnibus:</th>       <td>988.563</td> <th>  Durbin-Watson:     </th> <td>   2.069</td> \n",
       "</tr>\n",
       "<tr>\n",
       "  <th>Prob(Omnibus):</th> <td> 0.000</td>  <th>  Jarque-Bera (JB):  </th> <td>18486.530</td>\n",
       "</tr>\n",
       "<tr>\n",
       "  <th>Skew:</th>          <td> 1.914</td>  <th>  Prob(JB):          </th> <td>    0.00</td> \n",
       "</tr>\n",
       "<tr>\n",
       "  <th>Kurtosis:</th>      <td>17.515</td>  <th>  Cond. No.          </th> <td>    170.</td> \n",
       "</tr>\n",
       "</table><br/><br/>Notes:<br/>[1] Standard Errors assume that the covariance matrix of the errors is correctly specified."
      ],
      "text/latex": [
       "\\begin{center}\n",
       "\\begin{tabular}{lclc}\n",
       "\\toprule\n",
       "\\textbf{Dep. Variable:}    &   loan\\_amount   & \\textbf{  R-squared:         } &     0.187   \\\\\n",
       "\\textbf{Model:}            &       OLS        & \\textbf{  Adj. R-squared:    } &     0.187   \\\\\n",
       "\\textbf{Method:}           &  Least Squares   & \\textbf{  F-statistic:       } &     453.1   \\\\\n",
       "\\textbf{Date:}             & Wed, 24 Apr 2024 & \\textbf{  Prob (F-statistic):} &  1.16e-90   \\\\\n",
       "\\textbf{Time:}             &     11:49:26     & \\textbf{  Log-Likelihood:    } &   -11237.   \\\\\n",
       "\\textbf{No. Observations:} &        1969      & \\textbf{  AIC:               } & 2.248e+04   \\\\\n",
       "\\textbf{Df Residuals:}     &        1967      & \\textbf{  BIC:               } & 2.249e+04   \\\\\n",
       "\\textbf{Df Model:}         &           1      & \\textbf{                     } &             \\\\\n",
       "\\textbf{Covariance Type:}  &    nonrobust     & \\textbf{                     } &             \\\\\n",
       "\\bottomrule\n",
       "\\end{tabular}\n",
       "\\begin{tabular}{lcccccc}\n",
       "                           & \\textbf{coef} & \\textbf{std err} & \\textbf{t} & \\textbf{P$> |$t$|$} & \\textbf{[0.025} & \\textbf{0.975]}  \\\\\n",
       "\\midrule\n",
       "\\textbf{Intercept}         &     109.5533  &        2.289     &    47.857  &         0.000        &      105.064    &      114.043     \\\\\n",
       "\\textbf{applicant\\_income} &       0.3999  &        0.019     &    21.287  &         0.000        &        0.363    &        0.437     \\\\\n",
       "\\bottomrule\n",
       "\\end{tabular}\n",
       "\\begin{tabular}{lclc}\n",
       "\\textbf{Omnibus:}       & 988.563 & \\textbf{  Durbin-Watson:     } &     2.069  \\\\\n",
       "\\textbf{Prob(Omnibus):} &   0.000 & \\textbf{  Jarque-Bera (JB):  } & 18486.530  \\\\\n",
       "\\textbf{Skew:}          &   1.914 & \\textbf{  Prob(JB):          } &      0.00  \\\\\n",
       "\\textbf{Kurtosis:}      &  17.515 & \\textbf{  Cond. No.          } &      170.  \\\\\n",
       "\\bottomrule\n",
       "\\end{tabular}\n",
       "%\\caption{OLS Regression Results}\n",
       "\\end{center}\n",
       "\n",
       "Notes: \\newline\n",
       " [1] Standard Errors assume that the covariance matrix of the errors is correctly specified."
      ],
      "text/plain": [
       "<class 'statsmodels.iolib.summary.Summary'>\n",
       "\"\"\"\n",
       "                            OLS Regression Results                            \n",
       "==============================================================================\n",
       "Dep. Variable:            loan_amount   R-squared:                       0.187\n",
       "Model:                            OLS   Adj. R-squared:                  0.187\n",
       "Method:                 Least Squares   F-statistic:                     453.1\n",
       "Date:                Wed, 24 Apr 2024   Prob (F-statistic):           1.16e-90\n",
       "Time:                        11:49:26   Log-Likelihood:                -11237.\n",
       "No. Observations:                1969   AIC:                         2.248e+04\n",
       "Df Residuals:                    1967   BIC:                         2.249e+04\n",
       "Df Model:                           1                                         \n",
       "Covariance Type:            nonrobust                                         \n",
       "====================================================================================\n",
       "                       coef    std err          t      P>|t|      [0.025      0.975]\n",
       "------------------------------------------------------------------------------------\n",
       "Intercept          109.5533      2.289     47.857      0.000     105.064     114.043\n",
       "applicant_income     0.3999      0.019     21.287      0.000       0.363       0.437\n",
       "==============================================================================\n",
       "Omnibus:                      988.563   Durbin-Watson:                   2.069\n",
       "Prob(Omnibus):                  0.000   Jarque-Bera (JB):            18486.530\n",
       "Skew:                           1.914   Prob(JB):                         0.00\n",
       "Kurtosis:                      17.515   Cond. No.                         170.\n",
       "==============================================================================\n",
       "\n",
       "Notes:\n",
       "[1] Standard Errors assume that the covariance matrix of the errors is correctly specified.\n",
       "\"\"\""
      ]
     },
     "execution_count": 312,
     "metadata": {},
     "output_type": "execute_result"
    }
   ],
   "source": [
    "# Access the model summary for interpretation\n",
    "model.summary()"
   ]
  },
  {
   "cell_type": "markdown",
   "id": "c2cec3e0-6f24-4a75-a52b-1bf585776ec3",
   "metadata": {},
   "source": [
    "#### Coeffcient on the variables: The \"coef\" column shows the actual coefficients: 109.5533 for the intercept, and 0.3999 for the SAT variable. Thus, our model is described by the line: loan_amount= 109.5533 + 0.3999 ∗ applicant_income + e."
   ]
  },
  {
   "cell_type": "markdown",
   "id": "6ccdcf03-fec2-4913-88ba-6d396ace067a",
   "metadata": {},
   "source": [
    "#### Significance of the variables: The summary includes results of a t-test assessing if the estimated coeffients are significantly different from 0. Since they are not different from 0, it would mean that the variable has no effect on the dependent variable, and can be deleted from the model."
   ]
  },
  {
   "cell_type": "markdown",
   "id": "d0eae19f-5630-4625-aa01-790eb36f2d2f",
   "metadata": {},
   "source": [
    "#### Quality of the model: The R^2 and the adjusted R^2 values both are same and around 0.2(0.187). It means that there are many more factors that affect loan amount which our model did not take into account."
   ]
  },
  {
   "cell_type": "code",
   "execution_count": null,
   "id": "4bd9a0fc-85db-46cf-a120-b4eb20e6892b",
   "metadata": {},
   "outputs": [],
   "source": []
  },
  {
   "cell_type": "code",
   "execution_count": null,
   "id": "057390ae-bfd4-41b0-b065-932a688866e7",
   "metadata": {},
   "outputs": [],
   "source": []
  },
  {
   "cell_type": "code",
   "execution_count": null,
   "id": "b2332aad-c0b7-49c0-8cd1-54168d7b8ee8",
   "metadata": {},
   "outputs": [],
   "source": []
  },
  {
   "cell_type": "code",
   "execution_count": null,
   "id": "f348ea64-0a07-4801-8640-d5110de9ee60",
   "metadata": {},
   "outputs": [],
   "source": []
  },
  {
   "cell_type": "code",
   "execution_count": null,
   "id": "746c310a-68d2-484b-8ab0-7b2070c88d7a",
   "metadata": {},
   "outputs": [],
   "source": []
  },
  {
   "cell_type": "code",
   "execution_count": null,
   "id": "f8d85785-bb53-4bff-aaaf-09d857ef345b",
   "metadata": {},
   "outputs": [],
   "source": []
  },
  {
   "cell_type": "code",
   "execution_count": null,
   "id": "bc56fcf1-ea56-431f-8594-4386e8d39636",
   "metadata": {},
   "outputs": [],
   "source": []
  }
 ],
 "metadata": {
  "kernelspec": {
   "display_name": "Python 3 (ipykernel)",
   "language": "python",
   "name": "python3"
  },
  "language_info": {
   "codemirror_mode": {
    "name": "ipython",
    "version": 3
   },
   "file_extension": ".py",
   "mimetype": "text/x-python",
   "name": "python",
   "nbconvert_exporter": "python",
   "pygments_lexer": "ipython3",
   "version": "3.11.9"
  }
 },
 "nbformat": 4,
 "nbformat_minor": 5
}
